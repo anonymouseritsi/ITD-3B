{
 "cells": [
  {
   "cell_type": "code",
   "execution_count": 1,
   "id": "b87e70d6-1ea9-4f8c-8c10-f3cbf28272ea",
   "metadata": {},
   "outputs": [],
   "source": [
    "import numpy as np\n",
    "import pandas as pd \n",
    "import seaborn as sns \n",
    "import matplotlib.pyplot as plt \n",
    "import warnings \n",
    "warnings.filterwarnings('ignore')"
   ]
  },
  {
   "cell_type": "code",
   "execution_count": 3,
   "id": "be7d5fd7-ca47-436b-afeb-ce685d922540",
   "metadata": {},
   "outputs": [
    {
     "name": "stdout",
     "output_type": "stream",
     "text": [
      "Collecting folium\n",
      "  Downloading folium-0.19.5-py2.py3-none-any.whl.metadata (4.1 kB)\n",
      "Collecting branca>=0.6.0 (from folium)\n",
      "  Downloading branca-0.8.1-py3-none-any.whl.metadata (1.5 kB)\n",
      "Requirement already satisfied: jinja2>=2.9 in c:\\users\\admin\\appdata\\local\\programs\\python\\python313\\lib\\site-packages (from folium) (3.1.5)\n",
      "Requirement already satisfied: numpy in c:\\users\\admin\\appdata\\local\\programs\\python\\python313\\lib\\site-packages (from folium) (2.2.2)\n",
      "Requirement already satisfied: requests in c:\\users\\admin\\appdata\\local\\programs\\python\\python313\\lib\\site-packages (from folium) (2.32.3)\n",
      "Collecting xyzservices (from folium)\n",
      "  Downloading xyzservices-2025.1.0-py3-none-any.whl.metadata (4.3 kB)\n",
      "Requirement already satisfied: MarkupSafe>=2.0 in c:\\users\\admin\\appdata\\local\\programs\\python\\python313\\lib\\site-packages (from jinja2>=2.9->folium) (3.0.2)\n",
      "Requirement already satisfied: charset-normalizer<4,>=2 in c:\\users\\admin\\appdata\\local\\programs\\python\\python313\\lib\\site-packages (from requests->folium) (3.4.1)\n",
      "Requirement already satisfied: idna<4,>=2.5 in c:\\users\\admin\\appdata\\local\\programs\\python\\python313\\lib\\site-packages (from requests->folium) (3.10)\n",
      "Requirement already satisfied: urllib3<3,>=1.21.1 in c:\\users\\admin\\appdata\\local\\programs\\python\\python313\\lib\\site-packages (from requests->folium) (2.3.0)\n",
      "Requirement already satisfied: certifi>=2017.4.17 in c:\\users\\admin\\appdata\\local\\programs\\python\\python313\\lib\\site-packages (from requests->folium) (2024.12.14)\n",
      "Downloading folium-0.19.5-py2.py3-none-any.whl (110 kB)\n",
      "Downloading branca-0.8.1-py3-none-any.whl (26 kB)\n",
      "Downloading xyzservices-2025.1.0-py3-none-any.whl (88 kB)\n",
      "Installing collected packages: xyzservices, branca, folium\n",
      "Successfully installed branca-0.8.1 folium-0.19.5 xyzservices-2025.1.0\n",
      "Note: you may need to restart the kernel to use updated packages.\n"
     ]
    },
    {
     "name": "stderr",
     "output_type": "stream",
     "text": [
      "\n",
      "[notice] A new release of pip is available: 24.3.1 -> 25.0.1\n",
      "[notice] To update, run: python.exe -m pip install --upgrade pip\n"
     ]
    }
   ],
   "source": [
    "pip install folium"
   ]
  },
  {
   "cell_type": "code",
   "execution_count": 4,
   "id": "d5e02863-a802-4c86-9bcb-8894970e2ac4",
   "metadata": {},
   "outputs": [],
   "source": [
    "import folium"
   ]
  },
  {
   "cell_type": "code",
   "execution_count": 5,
   "id": "85a519f8-1bfa-463e-98aa-95eb7622acb1",
   "metadata": {},
   "outputs": [],
   "source": [
    "gt = pd.read_csv('datasets\\\\Global_terrorist.csv', encoding='ISO-8859-1')"
   ]
  },
  {
   "cell_type": "code",
   "execution_count": 6,
   "id": "d8270541-19d2-4aac-ba66-71cef577451e",
   "metadata": {},
   "outputs": [
    {
     "data": {
      "text/html": [
       "<div>\n",
       "<style scoped>\n",
       "    .dataframe tbody tr th:only-of-type {\n",
       "        vertical-align: middle;\n",
       "    }\n",
       "\n",
       "    .dataframe tbody tr th {\n",
       "        vertical-align: top;\n",
       "    }\n",
       "\n",
       "    .dataframe thead th {\n",
       "        text-align: right;\n",
       "    }\n",
       "</style>\n",
       "<table border=\"1\" class=\"dataframe\">\n",
       "  <thead>\n",
       "    <tr style=\"text-align: right;\">\n",
       "      <th></th>\n",
       "      <th>eventid</th>\n",
       "      <th>iyear</th>\n",
       "      <th>imonth</th>\n",
       "      <th>iday</th>\n",
       "      <th>approxdate</th>\n",
       "      <th>extended</th>\n",
       "      <th>resolution</th>\n",
       "      <th>country</th>\n",
       "      <th>country_txt</th>\n",
       "      <th>region</th>\n",
       "      <th>...</th>\n",
       "      <th>addnotes</th>\n",
       "      <th>scite1</th>\n",
       "      <th>scite2</th>\n",
       "      <th>scite3</th>\n",
       "      <th>dbsource</th>\n",
       "      <th>INT_LOG</th>\n",
       "      <th>INT_IDEO</th>\n",
       "      <th>INT_MISC</th>\n",
       "      <th>INT_ANY</th>\n",
       "      <th>related</th>\n",
       "    </tr>\n",
       "  </thead>\n",
       "  <tbody>\n",
       "    <tr>\n",
       "      <th>0</th>\n",
       "      <td>197000000001</td>\n",
       "      <td>1970</td>\n",
       "      <td>7</td>\n",
       "      <td>2</td>\n",
       "      <td>NaN</td>\n",
       "      <td>0</td>\n",
       "      <td>NaN</td>\n",
       "      <td>58</td>\n",
       "      <td>Dominican Republic</td>\n",
       "      <td>2</td>\n",
       "      <td>...</td>\n",
       "      <td>NaN</td>\n",
       "      <td>NaN</td>\n",
       "      <td>NaN</td>\n",
       "      <td>NaN</td>\n",
       "      <td>PGIS</td>\n",
       "      <td>0</td>\n",
       "      <td>0</td>\n",
       "      <td>0</td>\n",
       "      <td>0</td>\n",
       "      <td>NaN</td>\n",
       "    </tr>\n",
       "    <tr>\n",
       "      <th>1</th>\n",
       "      <td>197000000002</td>\n",
       "      <td>1970</td>\n",
       "      <td>0</td>\n",
       "      <td>0</td>\n",
       "      <td>NaN</td>\n",
       "      <td>0</td>\n",
       "      <td>NaN</td>\n",
       "      <td>130</td>\n",
       "      <td>Mexico</td>\n",
       "      <td>1</td>\n",
       "      <td>...</td>\n",
       "      <td>NaN</td>\n",
       "      <td>NaN</td>\n",
       "      <td>NaN</td>\n",
       "      <td>NaN</td>\n",
       "      <td>PGIS</td>\n",
       "      <td>0</td>\n",
       "      <td>1</td>\n",
       "      <td>1</td>\n",
       "      <td>1</td>\n",
       "      <td>NaN</td>\n",
       "    </tr>\n",
       "    <tr>\n",
       "      <th>2</th>\n",
       "      <td>197001000001</td>\n",
       "      <td>1970</td>\n",
       "      <td>1</td>\n",
       "      <td>0</td>\n",
       "      <td>NaN</td>\n",
       "      <td>0</td>\n",
       "      <td>NaN</td>\n",
       "      <td>160</td>\n",
       "      <td>Philippines</td>\n",
       "      <td>5</td>\n",
       "      <td>...</td>\n",
       "      <td>NaN</td>\n",
       "      <td>NaN</td>\n",
       "      <td>NaN</td>\n",
       "      <td>NaN</td>\n",
       "      <td>PGIS</td>\n",
       "      <td>-9</td>\n",
       "      <td>-9</td>\n",
       "      <td>1</td>\n",
       "      <td>1</td>\n",
       "      <td>NaN</td>\n",
       "    </tr>\n",
       "    <tr>\n",
       "      <th>3</th>\n",
       "      <td>197001000002</td>\n",
       "      <td>1970</td>\n",
       "      <td>1</td>\n",
       "      <td>0</td>\n",
       "      <td>NaN</td>\n",
       "      <td>0</td>\n",
       "      <td>NaN</td>\n",
       "      <td>78</td>\n",
       "      <td>Greece</td>\n",
       "      <td>8</td>\n",
       "      <td>...</td>\n",
       "      <td>NaN</td>\n",
       "      <td>NaN</td>\n",
       "      <td>NaN</td>\n",
       "      <td>NaN</td>\n",
       "      <td>PGIS</td>\n",
       "      <td>-9</td>\n",
       "      <td>-9</td>\n",
       "      <td>1</td>\n",
       "      <td>1</td>\n",
       "      <td>NaN</td>\n",
       "    </tr>\n",
       "    <tr>\n",
       "      <th>4</th>\n",
       "      <td>197001000003</td>\n",
       "      <td>1970</td>\n",
       "      <td>1</td>\n",
       "      <td>0</td>\n",
       "      <td>NaN</td>\n",
       "      <td>0</td>\n",
       "      <td>NaN</td>\n",
       "      <td>101</td>\n",
       "      <td>Japan</td>\n",
       "      <td>4</td>\n",
       "      <td>...</td>\n",
       "      <td>NaN</td>\n",
       "      <td>NaN</td>\n",
       "      <td>NaN</td>\n",
       "      <td>NaN</td>\n",
       "      <td>PGIS</td>\n",
       "      <td>-9</td>\n",
       "      <td>-9</td>\n",
       "      <td>1</td>\n",
       "      <td>1</td>\n",
       "      <td>NaN</td>\n",
       "    </tr>\n",
       "    <tr>\n",
       "      <th>...</th>\n",
       "      <td>...</td>\n",
       "      <td>...</td>\n",
       "      <td>...</td>\n",
       "      <td>...</td>\n",
       "      <td>...</td>\n",
       "      <td>...</td>\n",
       "      <td>...</td>\n",
       "      <td>...</td>\n",
       "      <td>...</td>\n",
       "      <td>...</td>\n",
       "      <td>...</td>\n",
       "      <td>...</td>\n",
       "      <td>...</td>\n",
       "      <td>...</td>\n",
       "      <td>...</td>\n",
       "      <td>...</td>\n",
       "      <td>...</td>\n",
       "      <td>...</td>\n",
       "      <td>...</td>\n",
       "      <td>...</td>\n",
       "      <td>...</td>\n",
       "    </tr>\n",
       "    <tr>\n",
       "      <th>181686</th>\n",
       "      <td>201712310022</td>\n",
       "      <td>2017</td>\n",
       "      <td>12</td>\n",
       "      <td>31</td>\n",
       "      <td>NaN</td>\n",
       "      <td>0</td>\n",
       "      <td>NaN</td>\n",
       "      <td>182</td>\n",
       "      <td>Somalia</td>\n",
       "      <td>11</td>\n",
       "      <td>...</td>\n",
       "      <td>NaN</td>\n",
       "      <td>\"Somalia: Al-Shabaab Militants Attack Army Che...</td>\n",
       "      <td>\"Highlights: Somalia Daily Media Highlights 2 ...</td>\n",
       "      <td>\"Highlights: Somalia Daily Media Highlights 1 ...</td>\n",
       "      <td>START Primary Collection</td>\n",
       "      <td>0</td>\n",
       "      <td>0</td>\n",
       "      <td>0</td>\n",
       "      <td>0</td>\n",
       "      <td>NaN</td>\n",
       "    </tr>\n",
       "    <tr>\n",
       "      <th>181687</th>\n",
       "      <td>201712310029</td>\n",
       "      <td>2017</td>\n",
       "      <td>12</td>\n",
       "      <td>31</td>\n",
       "      <td>NaN</td>\n",
       "      <td>0</td>\n",
       "      <td>NaN</td>\n",
       "      <td>200</td>\n",
       "      <td>Syria</td>\n",
       "      <td>10</td>\n",
       "      <td>...</td>\n",
       "      <td>NaN</td>\n",
       "      <td>\"Putin's 'victory' in Syria has turned into a ...</td>\n",
       "      <td>\"Two Russian soldiers killed at Hmeymim base i...</td>\n",
       "      <td>\"Two Russian servicemen killed in Syria mortar...</td>\n",
       "      <td>START Primary Collection</td>\n",
       "      <td>-9</td>\n",
       "      <td>-9</td>\n",
       "      <td>1</td>\n",
       "      <td>1</td>\n",
       "      <td>NaN</td>\n",
       "    </tr>\n",
       "    <tr>\n",
       "      <th>181688</th>\n",
       "      <td>201712310030</td>\n",
       "      <td>2017</td>\n",
       "      <td>12</td>\n",
       "      <td>31</td>\n",
       "      <td>NaN</td>\n",
       "      <td>0</td>\n",
       "      <td>NaN</td>\n",
       "      <td>160</td>\n",
       "      <td>Philippines</td>\n",
       "      <td>5</td>\n",
       "      <td>...</td>\n",
       "      <td>NaN</td>\n",
       "      <td>\"Maguindanao clashes trap tribe members,\" Phil...</td>\n",
       "      <td>NaN</td>\n",
       "      <td>NaN</td>\n",
       "      <td>START Primary Collection</td>\n",
       "      <td>0</td>\n",
       "      <td>0</td>\n",
       "      <td>0</td>\n",
       "      <td>0</td>\n",
       "      <td>NaN</td>\n",
       "    </tr>\n",
       "    <tr>\n",
       "      <th>181689</th>\n",
       "      <td>201712310031</td>\n",
       "      <td>2017</td>\n",
       "      <td>12</td>\n",
       "      <td>31</td>\n",
       "      <td>NaN</td>\n",
       "      <td>0</td>\n",
       "      <td>NaN</td>\n",
       "      <td>92</td>\n",
       "      <td>India</td>\n",
       "      <td>6</td>\n",
       "      <td>...</td>\n",
       "      <td>NaN</td>\n",
       "      <td>\"Trader escapes grenade attack in Imphal,\" Bus...</td>\n",
       "      <td>NaN</td>\n",
       "      <td>NaN</td>\n",
       "      <td>START Primary Collection</td>\n",
       "      <td>-9</td>\n",
       "      <td>-9</td>\n",
       "      <td>0</td>\n",
       "      <td>-9</td>\n",
       "      <td>NaN</td>\n",
       "    </tr>\n",
       "    <tr>\n",
       "      <th>181690</th>\n",
       "      <td>201712310032</td>\n",
       "      <td>2017</td>\n",
       "      <td>12</td>\n",
       "      <td>31</td>\n",
       "      <td>NaN</td>\n",
       "      <td>0</td>\n",
       "      <td>NaN</td>\n",
       "      <td>160</td>\n",
       "      <td>Philippines</td>\n",
       "      <td>5</td>\n",
       "      <td>...</td>\n",
       "      <td>NaN</td>\n",
       "      <td>\"Security tightened in Cotabato following IED ...</td>\n",
       "      <td>\"Security tightened in Cotabato City,\" Manila ...</td>\n",
       "      <td>NaN</td>\n",
       "      <td>START Primary Collection</td>\n",
       "      <td>-9</td>\n",
       "      <td>-9</td>\n",
       "      <td>0</td>\n",
       "      <td>-9</td>\n",
       "      <td>NaN</td>\n",
       "    </tr>\n",
       "  </tbody>\n",
       "</table>\n",
       "<p>181691 rows × 135 columns</p>\n",
       "</div>"
      ],
      "text/plain": [
       "             eventid  iyear  imonth  iday approxdate  extended resolution  \\\n",
       "0       197000000001   1970       7     2        NaN         0        NaN   \n",
       "1       197000000002   1970       0     0        NaN         0        NaN   \n",
       "2       197001000001   1970       1     0        NaN         0        NaN   \n",
       "3       197001000002   1970       1     0        NaN         0        NaN   \n",
       "4       197001000003   1970       1     0        NaN         0        NaN   \n",
       "...              ...    ...     ...   ...        ...       ...        ...   \n",
       "181686  201712310022   2017      12    31        NaN         0        NaN   \n",
       "181687  201712310029   2017      12    31        NaN         0        NaN   \n",
       "181688  201712310030   2017      12    31        NaN         0        NaN   \n",
       "181689  201712310031   2017      12    31        NaN         0        NaN   \n",
       "181690  201712310032   2017      12    31        NaN         0        NaN   \n",
       "\n",
       "        country         country_txt  region  ... addnotes  \\\n",
       "0            58  Dominican Republic       2  ...      NaN   \n",
       "1           130              Mexico       1  ...      NaN   \n",
       "2           160         Philippines       5  ...      NaN   \n",
       "3            78              Greece       8  ...      NaN   \n",
       "4           101               Japan       4  ...      NaN   \n",
       "...         ...                 ...     ...  ...      ...   \n",
       "181686      182             Somalia      11  ...      NaN   \n",
       "181687      200               Syria      10  ...      NaN   \n",
       "181688      160         Philippines       5  ...      NaN   \n",
       "181689       92               India       6  ...      NaN   \n",
       "181690      160         Philippines       5  ...      NaN   \n",
       "\n",
       "                                                   scite1  \\\n",
       "0                                                     NaN   \n",
       "1                                                     NaN   \n",
       "2                                                     NaN   \n",
       "3                                                     NaN   \n",
       "4                                                     NaN   \n",
       "...                                                   ...   \n",
       "181686  \"Somalia: Al-Shabaab Militants Attack Army Che...   \n",
       "181687  \"Putin's 'victory' in Syria has turned into a ...   \n",
       "181688  \"Maguindanao clashes trap tribe members,\" Phil...   \n",
       "181689  \"Trader escapes grenade attack in Imphal,\" Bus...   \n",
       "181690  \"Security tightened in Cotabato following IED ...   \n",
       "\n",
       "                                                   scite2  \\\n",
       "0                                                     NaN   \n",
       "1                                                     NaN   \n",
       "2                                                     NaN   \n",
       "3                                                     NaN   \n",
       "4                                                     NaN   \n",
       "...                                                   ...   \n",
       "181686  \"Highlights: Somalia Daily Media Highlights 2 ...   \n",
       "181687  \"Two Russian soldiers killed at Hmeymim base i...   \n",
       "181688                                                NaN   \n",
       "181689                                                NaN   \n",
       "181690  \"Security tightened in Cotabato City,\" Manila ...   \n",
       "\n",
       "                                                   scite3  \\\n",
       "0                                                     NaN   \n",
       "1                                                     NaN   \n",
       "2                                                     NaN   \n",
       "3                                                     NaN   \n",
       "4                                                     NaN   \n",
       "...                                                   ...   \n",
       "181686  \"Highlights: Somalia Daily Media Highlights 1 ...   \n",
       "181687  \"Two Russian servicemen killed in Syria mortar...   \n",
       "181688                                                NaN   \n",
       "181689                                                NaN   \n",
       "181690                                                NaN   \n",
       "\n",
       "                        dbsource  INT_LOG  INT_IDEO INT_MISC INT_ANY  related  \n",
       "0                           PGIS        0         0        0       0      NaN  \n",
       "1                           PGIS        0         1        1       1      NaN  \n",
       "2                           PGIS       -9        -9        1       1      NaN  \n",
       "3                           PGIS       -9        -9        1       1      NaN  \n",
       "4                           PGIS       -9        -9        1       1      NaN  \n",
       "...                          ...      ...       ...      ...     ...      ...  \n",
       "181686  START Primary Collection        0         0        0       0      NaN  \n",
       "181687  START Primary Collection       -9        -9        1       1      NaN  \n",
       "181688  START Primary Collection        0         0        0       0      NaN  \n",
       "181689  START Primary Collection       -9        -9        0      -9      NaN  \n",
       "181690  START Primary Collection       -9        -9        0      -9      NaN  \n",
       "\n",
       "[181691 rows x 135 columns]"
      ]
     },
     "execution_count": 6,
     "metadata": {},
     "output_type": "execute_result"
    }
   ],
   "source": [
    "gt"
   ]
  },
  {
   "cell_type": "code",
   "execution_count": 7,
   "id": "7bc388fb-6ae5-453e-8048-74f93e309798",
   "metadata": {},
   "outputs": [
    {
     "data": {
      "text/plain": [
       "0         False\n",
       "1         False\n",
       "2          True\n",
       "3         False\n",
       "4         False\n",
       "          ...  \n",
       "181686    False\n",
       "181687    False\n",
       "181688     True\n",
       "181689    False\n",
       "181690     True\n",
       "Name: country_txt, Length: 181691, dtype: bool"
      ]
     },
     "execution_count": 7,
     "metadata": {},
     "output_type": "execute_result"
    }
   ],
   "source": [
    "gt['country_txt']=='Philippines'"
   ]
  },
  {
   "cell_type": "code",
   "execution_count": 8,
   "id": "c1c01d6c-1780-4abc-a333-0a4e5d426271",
   "metadata": {},
   "outputs": [],
   "source": [
    "filter1 = gt[gt['country_txt']=='Philippines']"
   ]
  },
  {
   "cell_type": "code",
   "execution_count": 9,
   "id": "51a6b1a1-80a6-4c3c-ae72-a0a0264c51ff",
   "metadata": {},
   "outputs": [
    {
     "data": {
      "text/plain": [
       "2         False\n",
       "26        False\n",
       "39        False\n",
       "96        False\n",
       "150       False\n",
       "          ...  \n",
       "181677     True\n",
       "181678     True\n",
       "181681     True\n",
       "181688     True\n",
       "181690     True\n",
       "Name: iyear, Length: 6908, dtype: bool"
      ]
     },
     "execution_count": 9,
     "metadata": {},
     "output_type": "execute_result"
    }
   ],
   "source": [
    "filter1['iyear'] == 2017"
   ]
  },
  {
   "cell_type": "code",
   "execution_count": 10,
   "id": "81a4eac9-a22a-4181-b98a-0ef3e153e80c",
   "metadata": {},
   "outputs": [],
   "source": [
    "filter2 = filter1[filter1['iyear'] == 2017]"
   ]
  },
  {
   "cell_type": "code",
   "execution_count": 28,
   "id": "4fca307c-5c39-4b11-af48-7f0cee8eacd8",
   "metadata": {},
   "outputs": [
    {
     "data": {
      "text/plain": [
       "imonth\n",
       "3     81\n",
       "5     71\n",
       "7     68\n",
       "12    63\n",
       "2     62\n",
       "6     59\n",
       "9     56\n",
       "8     51\n",
       "10    48\n",
       "11    48\n",
       "1     44\n",
       "4     41\n",
       "Name: count, dtype: int64"
      ]
     },
     "execution_count": 28,
     "metadata": {},
     "output_type": "execute_result"
    }
   ],
   "source": [
    "filter2['imonth'].value_counts()"
   ]
  },
  {
   "cell_type": "code",
   "execution_count": 29,
   "id": "5c5ba7d0-50c7-43f3-89fc-bc19f43ffb49",
   "metadata": {},
   "outputs": [
    {
     "data": {
      "text/plain": [
       "170847     True\n",
       "170857     True\n",
       "170888     True\n",
       "170933     True\n",
       "170957     True\n",
       "          ...  \n",
       "181677    False\n",
       "181678    False\n",
       "181681    False\n",
       "181688    False\n",
       "181690    False\n",
       "Name: imonth, Length: 692, dtype: bool"
      ]
     },
     "execution_count": 29,
     "metadata": {},
     "output_type": "execute_result"
    }
   ],
   "source": [
    "filter2['imonth'] <= 6"
   ]
  },
  {
   "cell_type": "code",
   "execution_count": 30,
   "id": "9d71c805-8f56-41d7-881e-01c7ce20a99d",
   "metadata": {},
   "outputs": [],
   "source": [
    "filter3 = filter2[filter2['imonth'] <= 6]"
   ]
  },
  {
   "cell_type": "code",
   "execution_count": 31,
   "id": "cb007be2-b44c-4b0d-9c2c-eed8fafecb2d",
   "metadata": {},
   "outputs": [
    {
     "data": {
      "text/plain": [
       "attacktype1_txt\n",
       "Assassination    358\n",
       "Name: count, dtype: int64"
      ]
     },
     "execution_count": 31,
     "metadata": {},
     "output_type": "execute_result"
    }
   ],
   "source": [
    "filter3['attacktype1_txt'].value_counts()"
   ]
  },
  {
   "cell_type": "code",
   "execution_count": 32,
   "id": "2ebf3f27-41b3-4f77-9a0f-75bc77026153",
   "metadata": {},
   "outputs": [
    {
     "data": {
      "text/plain": [
       "170847    True\n",
       "170857    True\n",
       "170888    True\n",
       "170933    True\n",
       "170957    True\n",
       "          ... \n",
       "176377    True\n",
       "176379    True\n",
       "176404    True\n",
       "176418    True\n",
       "176481    True\n",
       "Name: attacktype1_txt, Length: 358, dtype: bool"
      ]
     },
     "execution_count": 32,
     "metadata": {},
     "output_type": "execute_result"
    }
   ],
   "source": [
    "filter3['attacktype1_txt'] == 'Assassination'"
   ]
  },
  {
   "cell_type": "code",
   "execution_count": 33,
   "id": "aba199c1-23ec-4611-9566-9fb32e3a25f9",
   "metadata": {},
   "outputs": [],
   "source": [
    "filter4 = filter3[filter3['attacktype1_txt'] == 'Assassination']"
   ]
  },
  {
   "cell_type": "code",
   "execution_count": 35,
   "id": "a4abae7f-4bfc-4cf4-9c42-3c99158bd8e6",
   "metadata": {},
   "outputs": [
    {
     "data": {
      "text/plain": [
       "city\n",
       "Marawi                  13\n",
       "Unknown                 10\n",
       "Manila                   7\n",
       "Lamitan                  6\n",
       "Hinimbangan              4\n",
       "                        ..\n",
       "Saloy                    1\n",
       "La Libertad district     1\n",
       "Makilala district        1\n",
       "Nalapaan                 1\n",
       "Nalus                    1\n",
       "Name: count, Length: 276, dtype: int64"
      ]
     },
     "execution_count": 35,
     "metadata": {},
     "output_type": "execute_result"
    }
   ],
   "source": [
    "filter4['city'].value_counts()"
   ]
  },
  {
   "cell_type": "code",
   "execution_count": 36,
   "id": "a69c8fc1-ae5c-4af6-a508-d7537766623c",
   "metadata": {},
   "outputs": [],
   "source": [
    "filter5 = filter4.groupby(['latitude','longitude']).size().reset_index(name='incident_count')"
   ]
  },
  {
   "cell_type": "code",
   "execution_count": 37,
   "id": "820f560d-f782-4759-a468-75edd522169b",
   "metadata": {},
   "outputs": [
    {
     "data": {
      "text/html": [
       "<div>\n",
       "<style scoped>\n",
       "    .dataframe tbody tr th:only-of-type {\n",
       "        vertical-align: middle;\n",
       "    }\n",
       "\n",
       "    .dataframe tbody tr th {\n",
       "        vertical-align: top;\n",
       "    }\n",
       "\n",
       "    .dataframe thead th {\n",
       "        text-align: right;\n",
       "    }\n",
       "</style>\n",
       "<table border=\"1\" class=\"dataframe\">\n",
       "  <thead>\n",
       "    <tr style=\"text-align: right;\">\n",
       "      <th></th>\n",
       "      <th>latitude</th>\n",
       "      <th>longitude</th>\n",
       "      <th>incident_count</th>\n",
       "    </tr>\n",
       "  </thead>\n",
       "  <tbody>\n",
       "    <tr>\n",
       "      <th>0</th>\n",
       "      <td>5.822439</td>\n",
       "      <td>125.203366</td>\n",
       "      <td>1</td>\n",
       "    </tr>\n",
       "    <tr>\n",
       "      <th>1</th>\n",
       "      <td>5.904939</td>\n",
       "      <td>125.567551</td>\n",
       "      <td>1</td>\n",
       "    </tr>\n",
       "    <tr>\n",
       "      <th>2</th>\n",
       "      <td>5.933405</td>\n",
       "      <td>121.033258</td>\n",
       "      <td>1</td>\n",
       "    </tr>\n",
       "    <tr>\n",
       "      <th>3</th>\n",
       "      <td>5.965086</td>\n",
       "      <td>121.070701</td>\n",
       "      <td>1</td>\n",
       "    </tr>\n",
       "    <tr>\n",
       "      <th>4</th>\n",
       "      <td>5.974901</td>\n",
       "      <td>121.033510</td>\n",
       "      <td>1</td>\n",
       "    </tr>\n",
       "    <tr>\n",
       "      <th>...</th>\n",
       "      <td>...</td>\n",
       "      <td>...</td>\n",
       "      <td>...</td>\n",
       "    </tr>\n",
       "    <tr>\n",
       "      <th>319</th>\n",
       "      <td>17.801519</td>\n",
       "      <td>121.664848</td>\n",
       "      <td>1</td>\n",
       "    </tr>\n",
       "    <tr>\n",
       "      <th>320</th>\n",
       "      <td>17.856944</td>\n",
       "      <td>121.492500</td>\n",
       "      <td>1</td>\n",
       "    </tr>\n",
       "    <tr>\n",
       "      <th>321</th>\n",
       "      <td>17.889940</td>\n",
       "      <td>121.870264</td>\n",
       "      <td>1</td>\n",
       "    </tr>\n",
       "    <tr>\n",
       "      <th>322</th>\n",
       "      <td>17.892728</td>\n",
       "      <td>121.691519</td>\n",
       "      <td>1</td>\n",
       "    </tr>\n",
       "    <tr>\n",
       "      <th>323</th>\n",
       "      <td>18.036490</td>\n",
       "      <td>121.841630</td>\n",
       "      <td>1</td>\n",
       "    </tr>\n",
       "  </tbody>\n",
       "</table>\n",
       "<p>324 rows × 3 columns</p>\n",
       "</div>"
      ],
      "text/plain": [
       "      latitude   longitude  incident_count\n",
       "0     5.822439  125.203366               1\n",
       "1     5.904939  125.567551               1\n",
       "2     5.933405  121.033258               1\n",
       "3     5.965086  121.070701               1\n",
       "4     5.974901  121.033510               1\n",
       "..         ...         ...             ...\n",
       "319  17.801519  121.664848               1\n",
       "320  17.856944  121.492500               1\n",
       "321  17.889940  121.870264               1\n",
       "322  17.892728  121.691519               1\n",
       "323  18.036490  121.841630               1\n",
       "\n",
       "[324 rows x 3 columns]"
      ]
     },
     "execution_count": 37,
     "metadata": {},
     "output_type": "execute_result"
    }
   ],
   "source": [
    "filter5"
   ]
  },
  {
   "cell_type": "code",
   "execution_count": 38,
   "id": "0da50452-cae2-4cef-8612-b3c866a57354",
   "metadata": {},
   "outputs": [],
   "source": [
    "from folium.plugins import HeatMap"
   ]
  },
  {
   "cell_type": "code",
   "execution_count": 39,
   "id": "bc879ff0-4b5f-4ade-a1a3-01562f427799",
   "metadata": {},
   "outputs": [],
   "source": [
    "filter5['normalize_data'] = filter5['incident_count'] - filter5['incident_count'].min() / filter5['incident_count'].max() - filter5['incident_count'].min()\n",
    "heat_data = filter5[['latitude','longitude','normalize_data']].values.tolist()"
   ]
  },
  {
   "cell_type": "code",
   "execution_count": 40,
   "id": "73b4faf9-8b93-4a91-b4cb-1e80332a1943",
   "metadata": {},
   "outputs": [],
   "source": [
    "my_map = folium.Map(location =[30,40],zoom_start =4)"
   ]
  },
  {
   "cell_type": "code",
   "execution_count": 41,
   "id": "eaf37e0c-d3db-4a76-98c5-56d53b01008a",
   "metadata": {},
   "outputs": [
    {
     "data": {
      "text/plain": [
       "<folium.plugins.heat_map.HeatMap at 0x238007b8190>"
      ]
     },
     "execution_count": 41,
     "metadata": {},
     "output_type": "execute_result"
    }
   ],
   "source": [
    "HeatMap(heat_data).add_to(my_map)\n"
   ]
  },
  {
   "cell_type": "code",
   "execution_count": 42,
   "id": "ff8b0e95-55dd-4269-ba5a-759dbc5748cd",
   "metadata": {},
   "outputs": [
    {
     "name": "stdout",
     "output_type": "stream",
     "text": [
      "Data Successfully Saved to terrorism_bombing.html\n"
     ]
    }
   ],
   "source": [
    "my_map.save('terrorism_bombing.html')\n",
    "print(\"Data Successfully Saved to terrorism_bombing.html\")"
   ]
  },
  {
   "cell_type": "code",
   "execution_count": 43,
   "id": "2cb6fe56-4150-4fe7-a819-769e78c76f9f",
   "metadata": {},
   "outputs": [
    {
     "data": {
      "text/html": [
       "<div style=\"width:100%;\"><div style=\"position:relative;width:100%;height:0;padding-bottom:60%;\"><span style=\"color:#565656\">Make this Notebook Trusted to load map: File -> Trust Notebook</span><iframe srcdoc=\"&lt;!DOCTYPE html&gt;\n",
       "&lt;html&gt;\n",
       "&lt;head&gt;\n",
       "    \n",
       "    &lt;meta http-equiv=&quot;content-type&quot; content=&quot;text/html; charset=UTF-8&quot; /&gt;\n",
       "    \n",
       "        &lt;script&gt;\n",
       "            L_NO_TOUCH = false;\n",
       "            L_DISABLE_3D = false;\n",
       "        &lt;/script&gt;\n",
       "    \n",
       "    &lt;style&gt;html, body {width: 100%;height: 100%;margin: 0;padding: 0;}&lt;/style&gt;\n",
       "    &lt;style&gt;#map {position:absolute;top:0;bottom:0;right:0;left:0;}&lt;/style&gt;\n",
       "    &lt;script src=&quot;https://cdn.jsdelivr.net/npm/leaflet@1.9.3/dist/leaflet.js&quot;&gt;&lt;/script&gt;\n",
       "    &lt;script src=&quot;https://code.jquery.com/jquery-3.7.1.min.js&quot;&gt;&lt;/script&gt;\n",
       "    &lt;script src=&quot;https://cdn.jsdelivr.net/npm/bootstrap@5.2.2/dist/js/bootstrap.bundle.min.js&quot;&gt;&lt;/script&gt;\n",
       "    &lt;script src=&quot;https://cdnjs.cloudflare.com/ajax/libs/Leaflet.awesome-markers/2.0.2/leaflet.awesome-markers.js&quot;&gt;&lt;/script&gt;\n",
       "    &lt;link rel=&quot;stylesheet&quot; href=&quot;https://cdn.jsdelivr.net/npm/leaflet@1.9.3/dist/leaflet.css&quot;/&gt;\n",
       "    &lt;link rel=&quot;stylesheet&quot; href=&quot;https://cdn.jsdelivr.net/npm/bootstrap@5.2.2/dist/css/bootstrap.min.css&quot;/&gt;\n",
       "    &lt;link rel=&quot;stylesheet&quot; href=&quot;https://netdna.bootstrapcdn.com/bootstrap/3.0.0/css/bootstrap-glyphicons.css&quot;/&gt;\n",
       "    &lt;link rel=&quot;stylesheet&quot; href=&quot;https://cdn.jsdelivr.net/npm/@fortawesome/fontawesome-free@6.2.0/css/all.min.css&quot;/&gt;\n",
       "    &lt;link rel=&quot;stylesheet&quot; href=&quot;https://cdnjs.cloudflare.com/ajax/libs/Leaflet.awesome-markers/2.0.2/leaflet.awesome-markers.css&quot;/&gt;\n",
       "    &lt;link rel=&quot;stylesheet&quot; href=&quot;https://cdn.jsdelivr.net/gh/python-visualization/folium/folium/templates/leaflet.awesome.rotate.min.css&quot;/&gt;\n",
       "    \n",
       "            &lt;meta name=&quot;viewport&quot; content=&quot;width=device-width,\n",
       "                initial-scale=1.0, maximum-scale=1.0, user-scalable=no&quot; /&gt;\n",
       "            &lt;style&gt;\n",
       "                #map_4c6ab33c5fbbeae492ccba446bbcc718 {\n",
       "                    position: relative;\n",
       "                    width: 100.0%;\n",
       "                    height: 100.0%;\n",
       "                    left: 0.0%;\n",
       "                    top: 0.0%;\n",
       "                }\n",
       "                .leaflet-container { font-size: 1rem; }\n",
       "            &lt;/style&gt;\n",
       "        \n",
       "    &lt;script src=&quot;https://cdn.jsdelivr.net/gh/python-visualization/folium@main/folium/templates/leaflet_heat.min.js&quot;&gt;&lt;/script&gt;\n",
       "&lt;/head&gt;\n",
       "&lt;body&gt;\n",
       "    \n",
       "    \n",
       "            &lt;div class=&quot;folium-map&quot; id=&quot;map_4c6ab33c5fbbeae492ccba446bbcc718&quot; &gt;&lt;/div&gt;\n",
       "        \n",
       "&lt;/body&gt;\n",
       "&lt;script&gt;\n",
       "    \n",
       "    \n",
       "            var map_4c6ab33c5fbbeae492ccba446bbcc718 = L.map(\n",
       "                &quot;map_4c6ab33c5fbbeae492ccba446bbcc718&quot;,\n",
       "                {\n",
       "                    center: [30.0, 40.0],\n",
       "                    crs: L.CRS.EPSG3857,\n",
       "                    ...{\n",
       "  &quot;zoom&quot;: 4,\n",
       "  &quot;zoomControl&quot;: true,\n",
       "  &quot;preferCanvas&quot;: false,\n",
       "}\n",
       "\n",
       "                }\n",
       "            );\n",
       "\n",
       "            \n",
       "\n",
       "        \n",
       "    \n",
       "            var tile_layer_0edbcaeade583ea3ed386cee9a0dd34c = L.tileLayer(\n",
       "                &quot;https://tile.openstreetmap.org/{z}/{x}/{y}.png&quot;,\n",
       "                {\n",
       "  &quot;minZoom&quot;: 0,\n",
       "  &quot;maxZoom&quot;: 19,\n",
       "  &quot;maxNativeZoom&quot;: 19,\n",
       "  &quot;noWrap&quot;: false,\n",
       "  &quot;attribution&quot;: &quot;\\u0026copy; \\u003ca href=\\&quot;https://www.openstreetmap.org/copyright\\&quot;\\u003eOpenStreetMap\\u003c/a\\u003e contributors&quot;,\n",
       "  &quot;subdomains&quot;: &quot;abc&quot;,\n",
       "  &quot;detectRetina&quot;: false,\n",
       "  &quot;tms&quot;: false,\n",
       "  &quot;opacity&quot;: 1,\n",
       "}\n",
       "\n",
       "            );\n",
       "        \n",
       "    \n",
       "            tile_layer_0edbcaeade583ea3ed386cee9a0dd34c.addTo(map_4c6ab33c5fbbeae492ccba446bbcc718);\n",
       "        \n",
       "    \n",
       "            var heat_map_8221888ccc35ece2195f2adbbce24382 = L.heatLayer(\n",
       "                [[5.822439, 125.203366, -0.1428571428571428], [5.904939, 125.567551, -0.1428571428571428], [5.933405, 121.033258, -0.1428571428571428], [5.965086, 121.070701, -0.1428571428571428], [5.974901, 121.03351, -0.1428571428571428], [5.989446, 124.629173, -0.1428571428571428], [5.996383, 121.107944, -0.1428571428571428], [6.012985, 124.593255, -0.1428571428571428], [6.017535, 124.550206, -0.1428571428571428], [6.034726, 124.605189, -0.1428571428571428], [6.050458, 121.012245, -0.1428571428571428], [6.051232, 120.999851, -0.1428571428571428], [6.055578, 121.039629, -0.1428571428571428], [6.063022, 121.102294, -0.1428571428571428], [6.078236, 118.314049, -0.1428571428571428], [6.08525, 125.272616, -0.1428571428571428], [6.10179, 125.29048, -0.1428571428571428], [6.102634, 118.446977, -0.1428571428571428], [6.120132, 125.117342, -0.1428571428571428], [6.288716, 118.110315, -0.1428571428571428], [6.455771, 124.981569, -0.1428571428571428], [6.472241, 122.040186, -0.1428571428571428], [6.491515, 122.141717, -0.1428571428571428], [6.493148, 122.165911, -0.1428571428571428], [6.509646, 124.108599, -0.1428571428571428], [6.534412, 124.137762, -0.1428571428571428], [6.588132, 122.178193, -0.1428571428571428], [6.611512, 122.263054, 1.8571428571428572], [6.632264, 124.597814, -0.1428571428571428], [6.635278, 124.975, -0.1428571428571428], [6.644703, 122.299491, -0.1428571428571428], [6.649968, 122.133342, -0.1428571428571428], [6.652975, 122.135651, -0.1428571428571428], [6.660501, 122.138992, 3.8571428571428568], [6.687595, 121.981334, -0.1428571428571428], [6.687966, 124.678774, 1.8571428571428572], [6.721638, 124.113104, -0.1428571428571428], [6.741797, 122.398145, -0.1428571428571428], [6.784057, 125.217967, 0.8571428571428572], [6.813138, 124.413442, 0.8571428571428572], [6.833577, 126.195725, -0.1428571428571428], [6.855208, 124.446175, -0.1428571428571428], [6.864778, 124.44162, 0.8571428571428572], [6.873793, 124.469186, -0.1428571428571428], [6.880979, 124.49909, -0.1428571428571428], [6.881951, 124.48393, -0.1428571428571428], [6.909836, 124.549214, -0.1428571428571428], [6.92306, 125.155, -0.1428571428571428], [6.923432, 125.082859, -0.1428571428571428], [6.9235, 124.512213, -0.1428571428571428], [6.93111, 124.505, -0.1428571428571428], [6.94389, 125.12944, -0.1428571428571428], [6.946206, 124.878099, -0.1428571428571428], [6.948108, 125.159735, -0.1428571428571428], [6.949902, 125.101076, -0.1428571428571428], [6.950849, 124.448028, -0.1428571428571428], [6.953055, 126.21611, -0.1428571428571428], [6.957177, 124.444624, -0.1428571428571428], [6.966715, 124.469906, -0.1428571428571428], [6.966834, 124.453097, -0.1428571428571428], [6.97282, 124.630855, -0.1428571428571428], [6.976085, 124.481497, -0.1428571428571428], [6.976311, 124.386043, -0.1428571428571428], [6.976348, 124.482066, -0.1428571428571428], [6.979245, 124.382941, -0.1428571428571428], [6.980556, 124.381944, -0.1428571428571428], [6.980848, 124.482925, 0.8571428571428572], [6.988958, 124.477051, -0.1428571428571428], [7.011302, 126.077368, -0.1428571428571428], [7.020898, 125.091469, 0.8571428571428572], [7.05, 124.67, -0.1428571428571428], [7.054, 124.671997, -0.1428571428571428], [7.062429, 124.510817, -0.1428571428571428], [7.064015, 125.087258, -0.1428571428571428], [7.065261, 124.961053, -0.1428571428571428], [7.067748, 125.033156, -0.1428571428571428], [7.073259, 124.502837, -0.1428571428571428], [7.083241, 125.600998, -0.1428571428571428], [7.106, 126.176643, -0.1428571428571428], [7.108335, 125.038816, -0.1428571428571428], [7.112214, 124.809737, -0.1428571428571428], [7.119097, 124.597462, -0.1428571428571428], [7.121111, 124.7425, -0.1428571428571428], [7.123938, 125.598768, -0.1428571428571428], [7.124623, 124.396595, -0.1428571428571428], [7.130171, 125.049507, -0.1428571428571428], [7.131007, 122.268829, -0.1428571428571428], [7.159972, 124.218699, -0.1428571428571428], [7.163122, 125.574229, -0.1428571428571428], [7.174335, 125.374053, -0.1428571428571428], [7.179762, 124.220882, -0.1428571428571428], [7.18056, 124.22556, -0.1428571428571428], [7.185168, 125.516468, -0.1428571428571428], [7.187784, 124.53255, -0.1428571428571428], [7.188938, 124.630337, -0.1428571428571428], [7.189181, 124.532497, -0.1428571428571428], [7.208333, 125.403611, -0.1428571428571428], [7.209594, 124.241966, 0.8571428571428572], [7.213886, 125.117251, -0.1428571428571428], [7.224729, 125.640863, -0.1428571428571428], [7.232336, 124.381207, -0.1428571428571428], [7.237076, 122.254793, -0.1428571428571428], [7.237173, 126.160289, -0.1428571428571428], [7.238969, 125.142004, -0.1428571428571428], [7.242311, 124.412419, -0.1428571428571428], [7.24444, 124.39056, -0.1428571428571428], [7.244821, 125.159197, -0.1428571428571428], [7.245085, 124.390393, 1.8571428571428572], [7.246699, 125.383535, -0.1428571428571428], [7.255079, 125.103966, -0.1428571428571428], [7.260029, 126.126697, -0.1428571428571428], [7.261581, 126.466013, -0.1428571428571428], [7.267752, 125.440773, -0.1428571428571428], [7.288356, 125.110374, -0.1428571428571428], [7.288472, 124.269943, -0.1428571428571428], [7.300206, 125.41013, -0.1428571428571428], [7.308063, 125.147324, -0.1428571428571428], [7.310036, 125.850589, -0.1428571428571428], [7.316422, 126.125427, -0.1428571428571428], [7.317427, 126.547417, -0.1428571428571428], [7.333482, 125.625189, -0.1428571428571428], [7.333566, 124.316776, -0.1428571428571428], [7.357986, 125.857563, -0.1428571428571428], [7.368979, 125.283236, -0.1428571428571428], [7.369717, 125.495898, -0.1428571428571428], [7.37, 125.953889, -0.1428571428571428], [7.476866, 122.861858, -0.1428571428571428], [7.592439, 122.154825, -0.1428571428571428], [7.6, 125.95, -0.1428571428571428], [7.624903, 122.127887, -0.1428571428571428], [7.64839, 123.267254, -0.1428571428571428], [7.682236, 123.296639, -0.1428571428571428], [7.695505, 126.549117, -0.1428571428571428], [7.70325, 122.132102, -0.1428571428571428], [7.706753, 122.138522, -0.1428571428571428], [7.73, 125.099, -0.1428571428571428], [7.730071, 125.099395, -0.1428571428571428], [7.740712, 123.076513, -0.1428571428571428], [7.744567, 126.397443, -0.1428571428571428], [7.757916, 122.125261, -0.1428571428571428], [7.763809, 125.120193, -0.1428571428571428], [7.76931, 126.453049, -0.1428571428571428], [7.807113, 126.083894, -0.1428571428571428], [7.822408, 123.391038, -0.1428571428571428], [7.83, 125.82, -0.1428571428571428], [7.83611, 124.36306, -0.1428571428571428], [7.83934, 124.840341, -0.1428571428571428], [7.86319, 125.170874, -0.1428571428571428], [7.887759, 125.22153, -0.1428571428571428], [7.904959, 125.09111, 0.8571428571428572], [7.91778, 125.328624, -0.1428571428571428], [7.927639, 125.822074, -0.1428571428571428], [7.938909, 125.915708, -0.1428571428571428], [7.946025, 125.244473, -0.1428571428571428], [7.98, 124.07, -0.1428571428571428], [7.99689, 124.297385, -0.1428571428571428], [8.000088, 124.292555, -0.1428571428571428], [8.000356, 124.299721, -0.1428571428571428], [8.000721, 124.293111, 0.8571428571428572], [8.000791, 124.297417, -0.1428571428571428], [8.001314, 124.293493, -0.1428571428571428], [8.003485, 124.294995, -0.1428571428571428], [8.004016, 124.287184, 2.857142857142857], [8.005161, 124.287527, -0.1428571428571428], [8.006769, 124.283989, -0.1428571428571428], [8.030654, 123.311882, -0.1428571428571428], [8.035507, 124.626297, 0.8571428571428572], [8.04532, 126.06184, -0.1428571428571428], [8.046389, 126.061538, -0.1428571428571428], [8.068792, 125.488951, -0.1428571428571428], [8.076887, 125.045419, -0.1428571428571428], [8.10833, 124.22889, -0.1428571428571428], [8.133333, 123.1, -0.1428571428571428], [8.15632, 123.346316, 0.8571428571428572], [8.196758, 125.06471, -0.1428571428571428], [8.225311, 125.182447, -0.1428571428571428], [8.228021, 124.245242, -0.1428571428571428], [8.261139, 125.609547, -0.1428571428571428], [8.266667, 124.983333, -0.1428571428571428], [8.313322, 126.009354, -0.1428571428571428], [8.316667, 124.566667, -0.1428571428571428], [8.338611, 125.796111, -0.1428571428571428], [8.381583, 126.002471, -0.1428571428571428], [8.458153, 126.157312, -0.1428571428571428], [8.628203, 117.451236, -0.1428571428571428], [8.698314, 124.979063, -0.1428571428571428], [8.744462, 124.781605, -0.1428571428571428], [8.750112, 124.797942, -0.1428571428571428], [8.822198, 125.100987, -0.1428571428571428], [8.834771, 117.878516, -0.1428571428571428], [8.880206, 124.868101, -0.1428571428571428], [8.961028, 125.759476, -0.1428571428571428], [9.094576, 126.16043, -0.1428571428571428], [9.230375, 125.565639, -0.1428571428571428], [9.267399, 118.404231, -0.1428571428571428], [9.34, 125.52, -0.1428571428571428], [9.344678, 122.924243, -0.1428571428571428], [9.420658, 125.620484, -0.1428571428571428], [9.445284, 125.584089, -0.1428571428571428], [9.448709, 125.57143, 1.8571428571428572], [9.452928, 125.574473, -0.1428571428571428], [9.469021, 125.597222, -0.1428571428571428], [9.469599, 125.5972, -0.1428571428571428], [9.613777, 125.411322, -0.1428571428571428], [9.617466, 125.40209, -0.1428571428571428], [9.681835, 125.396062, -0.1428571428571428], [9.691078, 118.577846, -0.1428571428571428], [9.717225, 125.47665, -0.1428571428571428], [9.783552, 124.301971, -0.1428571428571428], [9.899154, 123.840475, -0.1428571428571428], [9.93694, 126.08861, -0.1428571428571428], [10.028978, 122.847903, -0.1428571428571428], [10.050204, 123.191372, -0.1428571428571428], [10.080622, 122.884023, -0.1428571428571428], [10.206949, 122.944672, -0.1428571428571428], [10.2813, 123.1429, -0.1428571428571428], [10.38, 123.2, -0.1428571428571428], [10.412469, 123.225753, -0.1428571428571428], [10.580451, 122.065048, -0.1428571428571428], [10.690601, 122.387355, -0.1428571428571428], [10.69885, 123.349, -0.1428571428571428], [10.716667, 122.266667, -0.1428571428571428], [10.751114, 122.223519, -0.1428571428571428], [10.780315, 122.387872, -0.1428571428571428], [10.782416, 123.459842, -0.1428571428571428], [10.789048, 122.590448, -0.1428571428571428], [10.824449, 122.267812, -0.1428571428571428], [10.88, 122.43, -0.1428571428571428], [10.89234, 123.353798, -0.1428571428571428], [11.110724, 125.445758, -0.1428571428571428], [11.287818, 122.405893, -0.1428571428571428], [11.3, 124.68, -0.1428571428571428], [11.441993, 122.948015, -0.1428571428571428], [11.632817, 122.339541, -0.1428571428571428], [11.763428, 124.950514, -0.1428571428571428], [11.778665, 124.978519, -0.1428571428571428], [11.789409, 124.896312, -0.1428571428571428], [11.823425, 124.69506, -0.1428571428571428], [12.023278, 125.03354, -0.1428571428571428], [12.029167, 123.942778, -0.1428571428571428], [12.128029, 123.753972, -0.1428571428571428], [12.168163, 123.774045, -0.1428571428571428], [12.215028, 123.820561, -0.1428571428571428], [12.321094, 124.892505, -0.1428571428571428], [12.349039, 123.571724, -0.1428571428571428], [12.401442, 121.327466, -0.1428571428571428], [12.407778, 123.405833, -0.1428571428571428], [12.41667, 124.61667, -0.1428571428571428], [12.483523, 123.758673, -0.1428571428571428], [12.506405, 123.380874, -0.1428571428571428], [12.583333, 124.083333, -0.1428571428571428], [12.588993, 124.069382, -0.1428571428571428], [12.627043, 124.069382, -0.1428571428571428], [12.850382, 124.071133, -0.1428571428571428], [12.910538, 124.042478, -0.1428571428571428], [13.116889, 123.468448, -0.1428571428571428], [13.29127, 122.54445, -0.1428571428571428], [13.371, 123.4202, -0.1428571428571428], [13.545925, 122.372556, -0.1428571428571428], [13.595181, 122.323047, -0.1428571428571428], [13.6222, 122.2178, -0.1428571428571428], [13.654084, 123.167483, -0.1428571428571428], [13.705556, 123.444722, -0.1428571428571428], [13.750444, 121.377034, -0.1428571428571428], [13.757368, 121.043512, -0.1428571428571428], [13.82895, 121.39421, -0.1428571428571428], [13.878069, 122.662987, -0.1428571428571428], [13.978595, 121.087967, -0.1428571428571428], [14.090019, 121.175173, -0.1428571428571428], [14.137428, 122.411233, -0.1428571428571428], [14.149444, 121.493611, -0.1428571428571428], [14.150733, 121.53574, -0.1428571428571428], [14.15551, 121.566027, -0.1428571428571428], [14.163709, 120.629633, -0.1428571428571428], [14.192103, 120.59982, -0.1428571428571428], [14.198272, 121.501047, -0.1428571428571428], [14.298889, 122.650278, -0.1428571428571428], [14.390117, 120.856354, -0.1428571428571428], [14.530948, 121.004257, -0.1428571428571428], [14.549431, 121.033592, -0.1428571428571428], [14.58251, 121.084236, -0.1428571428571428], [14.585414, 121.207789, -0.1428571428571428], [14.599352, 120.984772, 5.857142857142857], [14.67428, 121.057495, 1.8571428571428572], [14.724493, 121.03331, -0.1428571428571428], [14.816326, 120.866163, -0.1428571428571428], [14.956971, 120.926613, -0.1428571428571428], [15.28, 120.02, -0.1428571428571428], [15.3047, 120.0417, -0.1428571428571428], [15.326617, 120.58956, -0.1428571428571428], [15.592462, 120.904995, -0.1428571428571428], [15.774301, 120.439158, -0.1428571428571428], [15.993004, 120.431352, -0.1428571428571428], [16.070387, 120.764955, -0.1428571428571428], [16.18694, 119.85917, -0.1428571428571428], [16.270042, 121.537, -0.1428571428571428], [16.289944, 121.765294, -0.1428571428571428], [16.339782, 121.682125, -0.1428571428571428], [16.360271, 120.677149, -0.1428571428571428], [16.391184, 121.107312, -0.1428571428571428], [16.422119, 121.509998, -0.1428571428571428], [16.57755, 121.911829, -0.1428571428571428], [16.670136, 121.717106, -0.1428571428571428], [16.670273, 121.717215, -0.1428571428571428], [16.791487, 120.830925, -0.1428571428571428], [16.885565, 122.126684, -0.1428571428571428], [16.8968, 120.7634, -0.1428571428571428], [16.9146, 120.765421, -0.1428571428571428], [16.9192, 120.7623, -0.1428571428571428], [16.983334, 122.01667, -0.1428571428571428], [17.080789, 120.450563, -0.1428571428571428], [17.081516, 120.6083, 0.8571428571428572], [17.091122, 120.978527, -0.1428571428571428], [17.461508, 121.794348, -0.1428571428571428], [17.568938, 120.9834, -0.1428571428571428], [17.577467, 121.368927, -0.1428571428571428], [17.582784, 121.005421, -0.1428571428571428], [17.606506, 120.630804, -0.1428571428571428], [17.68098, 120.42448, -0.1428571428571428], [17.801519, 121.664848, -0.1428571428571428], [17.856944, 121.4925, -0.1428571428571428], [17.88994, 121.870264, -0.1428571428571428], [17.892728, 121.691519, -0.1428571428571428], [18.03649, 121.84163, -0.1428571428571428]],\n",
       "                {\n",
       "  &quot;minOpacity&quot;: 0.5,\n",
       "  &quot;maxZoom&quot;: 18,\n",
       "  &quot;radius&quot;: 25,\n",
       "  &quot;blur&quot;: 15,\n",
       "}\n",
       "            );\n",
       "        \n",
       "    \n",
       "            heat_map_8221888ccc35ece2195f2adbbce24382.addTo(map_4c6ab33c5fbbeae492ccba446bbcc718);\n",
       "        \n",
       "    \n",
       "            tile_layer_0edbcaeade583ea3ed386cee9a0dd34c.addTo(map_4c6ab33c5fbbeae492ccba446bbcc718);\n",
       "        \n",
       "    \n",
       "            heat_map_8221888ccc35ece2195f2adbbce24382.addTo(map_4c6ab33c5fbbeae492ccba446bbcc718);\n",
       "        \n",
       "&lt;/script&gt;\n",
       "&lt;/html&gt;\" style=\"position:absolute;width:100%;height:100%;left:0;top:0;border:none !important;\" allowfullscreen webkitallowfullscreen mozallowfullscreen></iframe></div></div>"
      ],
      "text/plain": [
       "<folium.folium.Map at 0x238614a7c50>"
      ]
     },
     "execution_count": 43,
     "metadata": {},
     "output_type": "execute_result"
    }
   ],
   "source": [
    "my_map"
   ]
  },
  {
   "cell_type": "markdown",
   "id": "0ff0be90-e5d7-4611-a4c3-e20ac56f70a7",
   "metadata": {},
   "source": [
    "<h1><strong>Insights</h1>\n",
    "<h2>Assassination in the Philippines on the first 6 months of 2017</h2>"
   ]
  },
  {
   "cell_type": "markdown",
   "id": "5e050e3f-3221-486c-84e2-759cad0b85f0",
   "metadata": {},
   "source": [
    "<h2><strong>1. Urban & Semi-Urban Areas Are Prime Targets</strong> <br><br>\n",
    "\n",
    "Most visible heat spots align with urban or semi-urban areas with denser populations and political/economic activity—suggesting these zones are strategic targets for high-impact assassinations.</h2>"
   ]
  },
  {
   "cell_type": "markdown",
   "id": "be6420b9-eece-45f8-aa38-8629a77809ac",
   "metadata": {},
   "source": [
    "<h2><strong>2. Metro Manila & CALABARZON Are Assassination Hotspots</strong><br><br>\n",
    "There is a concentrated red-hot zone in the Metro Manila-Cavite-Laguna corridor, suggesting high-frequency incidents in this densely populated and politically vital area. This could point to an attempt to spread fear in major urban centers.</h2>"
   ]
  },
  {
   "cell_type": "markdown",
   "id": "6d0c85bb-cfc3-431c-9d26-954f0517f67a",
   "metadata": {},
   "source": [
    "<h2><strong>3.  Assassination Activity Spreads Across Central and Eastern Visayas</strong><br><br>\n",
    "Cities like Cebu, Tacloban, and Ormoc show moderate heat signatures. This reflects targeted killings possibly tied to criminal syndicates or political conflicts, not necessarily full-blown terrorism.</h2>"
   ]
  },
  {
   "cell_type": "markdown",
   "id": "d6450871-99e8-4c82-8ad3-1c6f0700def6",
   "metadata": {},
   "source": [
    "<h2><strong>4. Assassinations Extend Beyond Conflict Zones</strong><br><br>\n",
    "    Unlike terrorism bombing hotspots that were mostly concentrated in Mindanao, assassination incidents are more dispersed across the country, suggesting that targeted killings occur even in less traditionally volatile regions.\n",
    "</h2>"
   ]
  },
  {
   "cell_type": "markdown",
   "id": "8a7dbb23-869a-4576-a7be-a5469750d52a",
   "metadata": {},
   "source": [
    "<h2><strong>5.  Basilan and Sulu Archipelago Show Assassination Hotspots</strong><br><br>\n",
    "\n",
    "Despite being island provinces, Sulu, Basilan, and Tawi-Tawi also show visible activity. This aligns with ongoing threats in those regions from armed groups and extremist factions, where assassinations may serve as control tactics.</h2>"
   ]
  },
  {
   "cell_type": "code",
   "execution_count": null,
   "id": "f104b525-1287-4519-8cd4-f0e3996e4e90",
   "metadata": {},
   "outputs": [],
   "source": []
  }
 ],
 "metadata": {
  "kernelspec": {
   "display_name": "Python 3 (ipykernel)",
   "language": "python",
   "name": "python3"
  },
  "language_info": {
   "codemirror_mode": {
    "name": "ipython",
    "version": 3
   },
   "file_extension": ".py",
   "mimetype": "text/x-python",
   "name": "python",
   "nbconvert_exporter": "python",
   "pygments_lexer": "ipython3",
   "version": "3.13.1"
  }
 },
 "nbformat": 4,
 "nbformat_minor": 5
}
