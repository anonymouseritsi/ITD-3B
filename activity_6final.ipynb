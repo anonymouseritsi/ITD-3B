{
 "cells": [
  {
   "cell_type": "code",
   "execution_count": 1,
   "id": "3bbba4c2-91db-4a4d-8541-04bbce017e89",
   "metadata": {},
   "outputs": [],
   "source": [
    "import numpy as np\n",
    "import pandas as pd \n",
    "import seaborn as sns \n",
    "import matplotlib.pyplot as plt \n",
    "import warnings \n",
    "warnings.filterwarnings('ignore')"
   ]
  },
  {
   "cell_type": "code",
   "execution_count": 2,
   "id": "89b70c1e-c8be-4f6f-b95a-958a31b2655a",
   "metadata": {},
   "outputs": [],
   "source": [
    "\n",
    "\n",
    "# Load the dataset with the correct encoding\n",
    "df = pd.read_csv('datasets\\\\Global_terrorist.csv', encoding='ISO-8859-1')\n",
    "\n"
   ]
  },
  {
   "cell_type": "code",
   "execution_count": 3,
   "id": "b54d601b-0b95-4902-b301-786fbd02cb3e",
   "metadata": {},
   "outputs": [
    {
     "data": {
      "text/html": [
       "<div>\n",
       "<style scoped>\n",
       "    .dataframe tbody tr th:only-of-type {\n",
       "        vertical-align: middle;\n",
       "    }\n",
       "\n",
       "    .dataframe tbody tr th {\n",
       "        vertical-align: top;\n",
       "    }\n",
       "\n",
       "    .dataframe thead th {\n",
       "        text-align: right;\n",
       "    }\n",
       "</style>\n",
       "<table border=\"1\" class=\"dataframe\">\n",
       "  <thead>\n",
       "    <tr style=\"text-align: right;\">\n",
       "      <th></th>\n",
       "      <th>eventid</th>\n",
       "      <th>iyear</th>\n",
       "      <th>imonth</th>\n",
       "      <th>iday</th>\n",
       "      <th>approxdate</th>\n",
       "      <th>extended</th>\n",
       "      <th>resolution</th>\n",
       "      <th>country</th>\n",
       "      <th>country_txt</th>\n",
       "      <th>region</th>\n",
       "      <th>...</th>\n",
       "      <th>addnotes</th>\n",
       "      <th>scite1</th>\n",
       "      <th>scite2</th>\n",
       "      <th>scite3</th>\n",
       "      <th>dbsource</th>\n",
       "      <th>INT_LOG</th>\n",
       "      <th>INT_IDEO</th>\n",
       "      <th>INT_MISC</th>\n",
       "      <th>INT_ANY</th>\n",
       "      <th>related</th>\n",
       "    </tr>\n",
       "  </thead>\n",
       "  <tbody>\n",
       "    <tr>\n",
       "      <th>0</th>\n",
       "      <td>197000000001</td>\n",
       "      <td>1970</td>\n",
       "      <td>7</td>\n",
       "      <td>2</td>\n",
       "      <td>NaN</td>\n",
       "      <td>0</td>\n",
       "      <td>NaN</td>\n",
       "      <td>58</td>\n",
       "      <td>Dominican Republic</td>\n",
       "      <td>2</td>\n",
       "      <td>...</td>\n",
       "      <td>NaN</td>\n",
       "      <td>NaN</td>\n",
       "      <td>NaN</td>\n",
       "      <td>NaN</td>\n",
       "      <td>PGIS</td>\n",
       "      <td>0</td>\n",
       "      <td>0</td>\n",
       "      <td>0</td>\n",
       "      <td>0</td>\n",
       "      <td>NaN</td>\n",
       "    </tr>\n",
       "    <tr>\n",
       "      <th>1</th>\n",
       "      <td>197000000002</td>\n",
       "      <td>1970</td>\n",
       "      <td>0</td>\n",
       "      <td>0</td>\n",
       "      <td>NaN</td>\n",
       "      <td>0</td>\n",
       "      <td>NaN</td>\n",
       "      <td>130</td>\n",
       "      <td>Mexico</td>\n",
       "      <td>1</td>\n",
       "      <td>...</td>\n",
       "      <td>NaN</td>\n",
       "      <td>NaN</td>\n",
       "      <td>NaN</td>\n",
       "      <td>NaN</td>\n",
       "      <td>PGIS</td>\n",
       "      <td>0</td>\n",
       "      <td>1</td>\n",
       "      <td>1</td>\n",
       "      <td>1</td>\n",
       "      <td>NaN</td>\n",
       "    </tr>\n",
       "    <tr>\n",
       "      <th>2</th>\n",
       "      <td>197001000001</td>\n",
       "      <td>1970</td>\n",
       "      <td>1</td>\n",
       "      <td>0</td>\n",
       "      <td>NaN</td>\n",
       "      <td>0</td>\n",
       "      <td>NaN</td>\n",
       "      <td>160</td>\n",
       "      <td>Philippines</td>\n",
       "      <td>5</td>\n",
       "      <td>...</td>\n",
       "      <td>NaN</td>\n",
       "      <td>NaN</td>\n",
       "      <td>NaN</td>\n",
       "      <td>NaN</td>\n",
       "      <td>PGIS</td>\n",
       "      <td>-9</td>\n",
       "      <td>-9</td>\n",
       "      <td>1</td>\n",
       "      <td>1</td>\n",
       "      <td>NaN</td>\n",
       "    </tr>\n",
       "    <tr>\n",
       "      <th>3</th>\n",
       "      <td>197001000002</td>\n",
       "      <td>1970</td>\n",
       "      <td>1</td>\n",
       "      <td>0</td>\n",
       "      <td>NaN</td>\n",
       "      <td>0</td>\n",
       "      <td>NaN</td>\n",
       "      <td>78</td>\n",
       "      <td>Greece</td>\n",
       "      <td>8</td>\n",
       "      <td>...</td>\n",
       "      <td>NaN</td>\n",
       "      <td>NaN</td>\n",
       "      <td>NaN</td>\n",
       "      <td>NaN</td>\n",
       "      <td>PGIS</td>\n",
       "      <td>-9</td>\n",
       "      <td>-9</td>\n",
       "      <td>1</td>\n",
       "      <td>1</td>\n",
       "      <td>NaN</td>\n",
       "    </tr>\n",
       "    <tr>\n",
       "      <th>4</th>\n",
       "      <td>197001000003</td>\n",
       "      <td>1970</td>\n",
       "      <td>1</td>\n",
       "      <td>0</td>\n",
       "      <td>NaN</td>\n",
       "      <td>0</td>\n",
       "      <td>NaN</td>\n",
       "      <td>101</td>\n",
       "      <td>Japan</td>\n",
       "      <td>4</td>\n",
       "      <td>...</td>\n",
       "      <td>NaN</td>\n",
       "      <td>NaN</td>\n",
       "      <td>NaN</td>\n",
       "      <td>NaN</td>\n",
       "      <td>PGIS</td>\n",
       "      <td>-9</td>\n",
       "      <td>-9</td>\n",
       "      <td>1</td>\n",
       "      <td>1</td>\n",
       "      <td>NaN</td>\n",
       "    </tr>\n",
       "    <tr>\n",
       "      <th>...</th>\n",
       "      <td>...</td>\n",
       "      <td>...</td>\n",
       "      <td>...</td>\n",
       "      <td>...</td>\n",
       "      <td>...</td>\n",
       "      <td>...</td>\n",
       "      <td>...</td>\n",
       "      <td>...</td>\n",
       "      <td>...</td>\n",
       "      <td>...</td>\n",
       "      <td>...</td>\n",
       "      <td>...</td>\n",
       "      <td>...</td>\n",
       "      <td>...</td>\n",
       "      <td>...</td>\n",
       "      <td>...</td>\n",
       "      <td>...</td>\n",
       "      <td>...</td>\n",
       "      <td>...</td>\n",
       "      <td>...</td>\n",
       "      <td>...</td>\n",
       "    </tr>\n",
       "    <tr>\n",
       "      <th>181686</th>\n",
       "      <td>201712310022</td>\n",
       "      <td>2017</td>\n",
       "      <td>12</td>\n",
       "      <td>31</td>\n",
       "      <td>NaN</td>\n",
       "      <td>0</td>\n",
       "      <td>NaN</td>\n",
       "      <td>182</td>\n",
       "      <td>Somalia</td>\n",
       "      <td>11</td>\n",
       "      <td>...</td>\n",
       "      <td>NaN</td>\n",
       "      <td>\"Somalia: Al-Shabaab Militants Attack Army Che...</td>\n",
       "      <td>\"Highlights: Somalia Daily Media Highlights 2 ...</td>\n",
       "      <td>\"Highlights: Somalia Daily Media Highlights 1 ...</td>\n",
       "      <td>START Primary Collection</td>\n",
       "      <td>0</td>\n",
       "      <td>0</td>\n",
       "      <td>0</td>\n",
       "      <td>0</td>\n",
       "      <td>NaN</td>\n",
       "    </tr>\n",
       "    <tr>\n",
       "      <th>181687</th>\n",
       "      <td>201712310029</td>\n",
       "      <td>2017</td>\n",
       "      <td>12</td>\n",
       "      <td>31</td>\n",
       "      <td>NaN</td>\n",
       "      <td>0</td>\n",
       "      <td>NaN</td>\n",
       "      <td>200</td>\n",
       "      <td>Syria</td>\n",
       "      <td>10</td>\n",
       "      <td>...</td>\n",
       "      <td>NaN</td>\n",
       "      <td>\"Putin's 'victory' in Syria has turned into a ...</td>\n",
       "      <td>\"Two Russian soldiers killed at Hmeymim base i...</td>\n",
       "      <td>\"Two Russian servicemen killed in Syria mortar...</td>\n",
       "      <td>START Primary Collection</td>\n",
       "      <td>-9</td>\n",
       "      <td>-9</td>\n",
       "      <td>1</td>\n",
       "      <td>1</td>\n",
       "      <td>NaN</td>\n",
       "    </tr>\n",
       "    <tr>\n",
       "      <th>181688</th>\n",
       "      <td>201712310030</td>\n",
       "      <td>2017</td>\n",
       "      <td>12</td>\n",
       "      <td>31</td>\n",
       "      <td>NaN</td>\n",
       "      <td>0</td>\n",
       "      <td>NaN</td>\n",
       "      <td>160</td>\n",
       "      <td>Philippines</td>\n",
       "      <td>5</td>\n",
       "      <td>...</td>\n",
       "      <td>NaN</td>\n",
       "      <td>\"Maguindanao clashes trap tribe members,\" Phil...</td>\n",
       "      <td>NaN</td>\n",
       "      <td>NaN</td>\n",
       "      <td>START Primary Collection</td>\n",
       "      <td>0</td>\n",
       "      <td>0</td>\n",
       "      <td>0</td>\n",
       "      <td>0</td>\n",
       "      <td>NaN</td>\n",
       "    </tr>\n",
       "    <tr>\n",
       "      <th>181689</th>\n",
       "      <td>201712310031</td>\n",
       "      <td>2017</td>\n",
       "      <td>12</td>\n",
       "      <td>31</td>\n",
       "      <td>NaN</td>\n",
       "      <td>0</td>\n",
       "      <td>NaN</td>\n",
       "      <td>92</td>\n",
       "      <td>India</td>\n",
       "      <td>6</td>\n",
       "      <td>...</td>\n",
       "      <td>NaN</td>\n",
       "      <td>\"Trader escapes grenade attack in Imphal,\" Bus...</td>\n",
       "      <td>NaN</td>\n",
       "      <td>NaN</td>\n",
       "      <td>START Primary Collection</td>\n",
       "      <td>-9</td>\n",
       "      <td>-9</td>\n",
       "      <td>0</td>\n",
       "      <td>-9</td>\n",
       "      <td>NaN</td>\n",
       "    </tr>\n",
       "    <tr>\n",
       "      <th>181690</th>\n",
       "      <td>201712310032</td>\n",
       "      <td>2017</td>\n",
       "      <td>12</td>\n",
       "      <td>31</td>\n",
       "      <td>NaN</td>\n",
       "      <td>0</td>\n",
       "      <td>NaN</td>\n",
       "      <td>160</td>\n",
       "      <td>Philippines</td>\n",
       "      <td>5</td>\n",
       "      <td>...</td>\n",
       "      <td>NaN</td>\n",
       "      <td>\"Security tightened in Cotabato following IED ...</td>\n",
       "      <td>\"Security tightened in Cotabato City,\" Manila ...</td>\n",
       "      <td>NaN</td>\n",
       "      <td>START Primary Collection</td>\n",
       "      <td>-9</td>\n",
       "      <td>-9</td>\n",
       "      <td>0</td>\n",
       "      <td>-9</td>\n",
       "      <td>NaN</td>\n",
       "    </tr>\n",
       "  </tbody>\n",
       "</table>\n",
       "<p>181691 rows × 135 columns</p>\n",
       "</div>"
      ],
      "text/plain": [
       "             eventid  iyear  imonth  iday approxdate  extended resolution  \\\n",
       "0       197000000001   1970       7     2        NaN         0        NaN   \n",
       "1       197000000002   1970       0     0        NaN         0        NaN   \n",
       "2       197001000001   1970       1     0        NaN         0        NaN   \n",
       "3       197001000002   1970       1     0        NaN         0        NaN   \n",
       "4       197001000003   1970       1     0        NaN         0        NaN   \n",
       "...              ...    ...     ...   ...        ...       ...        ...   \n",
       "181686  201712310022   2017      12    31        NaN         0        NaN   \n",
       "181687  201712310029   2017      12    31        NaN         0        NaN   \n",
       "181688  201712310030   2017      12    31        NaN         0        NaN   \n",
       "181689  201712310031   2017      12    31        NaN         0        NaN   \n",
       "181690  201712310032   2017      12    31        NaN         0        NaN   \n",
       "\n",
       "        country         country_txt  region  ... addnotes  \\\n",
       "0            58  Dominican Republic       2  ...      NaN   \n",
       "1           130              Mexico       1  ...      NaN   \n",
       "2           160         Philippines       5  ...      NaN   \n",
       "3            78              Greece       8  ...      NaN   \n",
       "4           101               Japan       4  ...      NaN   \n",
       "...         ...                 ...     ...  ...      ...   \n",
       "181686      182             Somalia      11  ...      NaN   \n",
       "181687      200               Syria      10  ...      NaN   \n",
       "181688      160         Philippines       5  ...      NaN   \n",
       "181689       92               India       6  ...      NaN   \n",
       "181690      160         Philippines       5  ...      NaN   \n",
       "\n",
       "                                                   scite1  \\\n",
       "0                                                     NaN   \n",
       "1                                                     NaN   \n",
       "2                                                     NaN   \n",
       "3                                                     NaN   \n",
       "4                                                     NaN   \n",
       "...                                                   ...   \n",
       "181686  \"Somalia: Al-Shabaab Militants Attack Army Che...   \n",
       "181687  \"Putin's 'victory' in Syria has turned into a ...   \n",
       "181688  \"Maguindanao clashes trap tribe members,\" Phil...   \n",
       "181689  \"Trader escapes grenade attack in Imphal,\" Bus...   \n",
       "181690  \"Security tightened in Cotabato following IED ...   \n",
       "\n",
       "                                                   scite2  \\\n",
       "0                                                     NaN   \n",
       "1                                                     NaN   \n",
       "2                                                     NaN   \n",
       "3                                                     NaN   \n",
       "4                                                     NaN   \n",
       "...                                                   ...   \n",
       "181686  \"Highlights: Somalia Daily Media Highlights 2 ...   \n",
       "181687  \"Two Russian soldiers killed at Hmeymim base i...   \n",
       "181688                                                NaN   \n",
       "181689                                                NaN   \n",
       "181690  \"Security tightened in Cotabato City,\" Manila ...   \n",
       "\n",
       "                                                   scite3  \\\n",
       "0                                                     NaN   \n",
       "1                                                     NaN   \n",
       "2                                                     NaN   \n",
       "3                                                     NaN   \n",
       "4                                                     NaN   \n",
       "...                                                   ...   \n",
       "181686  \"Highlights: Somalia Daily Media Highlights 1 ...   \n",
       "181687  \"Two Russian servicemen killed in Syria mortar...   \n",
       "181688                                                NaN   \n",
       "181689                                                NaN   \n",
       "181690                                                NaN   \n",
       "\n",
       "                        dbsource  INT_LOG  INT_IDEO INT_MISC INT_ANY  related  \n",
       "0                           PGIS        0         0        0       0      NaN  \n",
       "1                           PGIS        0         1        1       1      NaN  \n",
       "2                           PGIS       -9        -9        1       1      NaN  \n",
       "3                           PGIS       -9        -9        1       1      NaN  \n",
       "4                           PGIS       -9        -9        1       1      NaN  \n",
       "...                          ...      ...       ...      ...     ...      ...  \n",
       "181686  START Primary Collection        0         0        0       0      NaN  \n",
       "181687  START Primary Collection       -9        -9        1       1      NaN  \n",
       "181688  START Primary Collection        0         0        0       0      NaN  \n",
       "181689  START Primary Collection       -9        -9        0      -9      NaN  \n",
       "181690  START Primary Collection       -9        -9        0      -9      NaN  \n",
       "\n",
       "[181691 rows x 135 columns]"
      ]
     },
     "execution_count": 3,
     "metadata": {},
     "output_type": "execute_result"
    }
   ],
   "source": [
    "df"
   ]
  },
  {
   "cell_type": "code",
   "execution_count": 4,
   "id": "14d29d04-a42a-40fe-89a4-ecd9960469b5",
   "metadata": {},
   "outputs": [],
   "source": [
    "import folium"
   ]
  },
  {
   "cell_type": "markdown",
   "id": "e6d8e717-7197-484f-9751-9a8b74a6c448",
   "metadata": {},
   "source": [
    "<H1>Filtering Data</H1>"
   ]
  },
  {
   "cell_type": "code",
   "execution_count": 5,
   "id": "9d3b8e43-c6d9-44a6-8cae-21efd7255e6c",
   "metadata": {},
   "outputs": [
    {
     "data": {
      "text/plain": [
       "natlty1_txt\n",
       "Iraq                                  24113\n",
       "Pakistan                              13900\n",
       "India                                 12098\n",
       "Afghanistan                           10931\n",
       "Colombia                               7922\n",
       "                                      ...  \n",
       "Commonwealth of Independent States        1\n",
       "St. Lucia                                 1\n",
       "Saba (Netherlands Antilles)               1\n",
       "Tuvalu                                    1\n",
       "Marshall Islands                          1\n",
       "Name: count, Length: 215, dtype: int64"
      ]
     },
     "execution_count": 5,
     "metadata": {},
     "output_type": "execute_result"
    }
   ],
   "source": [
    "df['natlty1_txt'].value_counts()"
   ]
  },
  {
   "cell_type": "code",
   "execution_count": 6,
   "id": "f13a3707-1b2b-46e6-bc45-ba75b4cb6f72",
   "metadata": {},
   "outputs": [],
   "source": [
    "filters = df[df['natlty1_txt'] == 'Pakistan']"
   ]
  },
  {
   "cell_type": "code",
   "execution_count": 7,
   "id": "80213272-e11f-42bf-ad24-fe5c1f08eedd",
   "metadata": {},
   "outputs": [
    {
     "data": {
      "text/plain": [
       "region_txt\n",
       "South Asia                    13866\n",
       "Middle East & North Africa       13\n",
       "Western Europe                    9\n",
       "Southeast Asia                    8\n",
       "Sub-Saharan Africa                2\n",
       "South America                     1\n",
       "Eastern Europe                    1\n",
       "Name: count, dtype: int64"
      ]
     },
     "execution_count": 7,
     "metadata": {},
     "output_type": "execute_result"
    }
   ],
   "source": [
    "filters['region_txt'].value_counts()"
   ]
  },
  {
   "cell_type": "code",
   "execution_count": 8,
   "id": "eb562d87-8787-4f24-a57c-eb1b754b7e6c",
   "metadata": {},
   "outputs": [],
   "source": [
    "filter1 = filters[filters['region_txt'] == 'South Asia']"
   ]
  },
  {
   "cell_type": "code",
   "execution_count": 9,
   "id": "d15e808a-3dde-4eda-9557-b26a773d3f61",
   "metadata": {},
   "outputs": [
    {
     "data": {
      "text/plain": [
       "2744      False\n",
       "2795      False\n",
       "7511      False\n",
       "8817      False\n",
       "10919     False\n",
       "          ...  \n",
       "181598    False\n",
       "181599    False\n",
       "181608    False\n",
       "181627    False\n",
       "181650    False\n",
       "Name: targsubtype1_txt, Length: 13866, dtype: bool"
      ]
     },
     "execution_count": 9,
     "metadata": {},
     "output_type": "execute_result"
    }
   ],
   "source": [
    "filter1['targsubtype1_txt'] == 'Police Security Forces/Officers'"
   ]
  },
  {
   "cell_type": "code",
   "execution_count": 14,
   "id": "8d7be0ad-dbb9-404e-9934-674b50d695ab",
   "metadata": {},
   "outputs": [],
   "source": [
    "filter3 = filter1[filter1['targsubtype1_txt'] == 'Police Security Forces/Officers']"
   ]
  },
  {
   "cell_type": "code",
   "execution_count": 15,
   "id": "f7accd3c-3929-42df-8f9f-e0c8b36f2f02",
   "metadata": {},
   "outputs": [
    {
     "data": {
      "text/plain": [
       "36761     False\n",
       "40276     False\n",
       "40419     False\n",
       "45410     False\n",
       "46101     False\n",
       "          ...  \n",
       "180072    False\n",
       "180289    False\n",
       "180504    False\n",
       "180879    False\n",
       "181473    False\n",
       "Name: nkill, Length: 851, dtype: bool"
      ]
     },
     "execution_count": 15,
     "metadata": {},
     "output_type": "execute_result"
    }
   ],
   "source": [
    "filter3['nkill'] >= 10"
   ]
  },
  {
   "cell_type": "code",
   "execution_count": 16,
   "id": "7ee908e0-3b41-4973-b9f5-3294e2a4b2bd",
   "metadata": {},
   "outputs": [],
   "source": [
    "filter4 = filter3[filter3['nkill'] >= 10]"
   ]
  },
  {
   "cell_type": "code",
   "execution_count": 17,
   "id": "e3e0d97b-1c88-43d9-8dfd-a6cc8c5a1c6b",
   "metadata": {},
   "outputs": [
    {
     "data": {
      "text/plain": [
       "attacktype1_txt\n",
       "Bombing/Explosion              10\n",
       "Assassination                   2\n",
       "Hostage Taking (Kidnapping)     1\n",
       "Armed Assault                   1\n",
       "Name: count, dtype: int64"
      ]
     },
     "execution_count": 17,
     "metadata": {},
     "output_type": "execute_result"
    }
   ],
   "source": [
    "filter4['attacktype1_txt'].value_counts()"
   ]
  },
  {
   "cell_type": "code",
   "execution_count": 18,
   "id": "0c9af890-d8d5-4997-96b0-53f93022b6d5",
   "metadata": {},
   "outputs": [
    {
     "data": {
      "text/plain": [
       "82248      True\n",
       "83929      True\n",
       "85246      True\n",
       "85503      True\n",
       "93014     False\n",
       "96550     False\n",
       "101976     True\n",
       "113541     True\n",
       "115557     True\n",
       "117064    False\n",
       "120038     True\n",
       "173749    False\n",
       "176250     True\n",
       "177292     True\n",
       "Name: attacktype1_txt, dtype: bool"
      ]
     },
     "execution_count": 18,
     "metadata": {},
     "output_type": "execute_result"
    }
   ],
   "source": [
    "filter4['attacktype1_txt'] == 'Bombing/Explosion'"
   ]
  },
  {
   "cell_type": "code",
   "execution_count": 19,
   "id": "48ac829b-dbb0-4ca0-8b3f-9f1904b04534",
   "metadata": {},
   "outputs": [],
   "source": [
    "filter5 = filter4[filter4['attacktype1_txt'] == 'Bombing/Explosion']"
   ]
  },
  {
   "cell_type": "code",
   "execution_count": 20,
   "id": "ce548908-91a3-4310-a12c-cd0ecbed4609",
   "metadata": {},
   "outputs": [],
   "source": [
    "final = filter5.groupby(['latitude','longitude']).size().reset_index(name='incident_count')"
   ]
  },
  {
   "cell_type": "code",
   "execution_count": 21,
   "id": "221b7cc3-8c52-4705-b7e5-56a6fea5c719",
   "metadata": {
    "scrolled": true
   },
   "outputs": [
    {
     "data": {
      "text/html": [
       "<div>\n",
       "<style scoped>\n",
       "    .dataframe tbody tr th:only-of-type {\n",
       "        vertical-align: middle;\n",
       "    }\n",
       "\n",
       "    .dataframe tbody tr th {\n",
       "        vertical-align: top;\n",
       "    }\n",
       "\n",
       "    .dataframe thead th {\n",
       "        text-align: right;\n",
       "    }\n",
       "</style>\n",
       "<table border=\"1\" class=\"dataframe\">\n",
       "  <thead>\n",
       "    <tr style=\"text-align: right;\">\n",
       "      <th></th>\n",
       "      <th>latitude</th>\n",
       "      <th>longitude</th>\n",
       "      <th>incident_count</th>\n",
       "    </tr>\n",
       "  </thead>\n",
       "  <tbody>\n",
       "    <tr>\n",
       "      <th>0</th>\n",
       "      <td>30.200819</td>\n",
       "      <td>66.994354</td>\n",
       "      <td>3</td>\n",
       "    </tr>\n",
       "    <tr>\n",
       "      <th>1</th>\n",
       "      <td>31.505470</td>\n",
       "      <td>74.342880</td>\n",
       "      <td>2</td>\n",
       "    </tr>\n",
       "    <tr>\n",
       "      <th>2</th>\n",
       "      <td>33.671638</td>\n",
       "      <td>73.056068</td>\n",
       "      <td>1</td>\n",
       "    </tr>\n",
       "    <tr>\n",
       "      <th>3</th>\n",
       "      <td>34.006004</td>\n",
       "      <td>71.537430</td>\n",
       "      <td>3</td>\n",
       "    </tr>\n",
       "    <tr>\n",
       "      <th>4</th>\n",
       "      <td>34.774479</td>\n",
       "      <td>72.364052</td>\n",
       "      <td>1</td>\n",
       "    </tr>\n",
       "  </tbody>\n",
       "</table>\n",
       "</div>"
      ],
      "text/plain": [
       "    latitude  longitude  incident_count\n",
       "0  30.200819  66.994354               3\n",
       "1  31.505470  74.342880               2\n",
       "2  33.671638  73.056068               1\n",
       "3  34.006004  71.537430               3\n",
       "4  34.774479  72.364052               1"
      ]
     },
     "execution_count": 21,
     "metadata": {},
     "output_type": "execute_result"
    }
   ],
   "source": [
    "final"
   ]
  },
  {
   "cell_type": "markdown",
   "id": "4ba6d123-c3e9-45d9-83ba-cfd098f752dc",
   "metadata": {},
   "source": [
    "<H1>2nd</H1>"
   ]
  },
  {
   "cell_type": "code",
   "execution_count": 10,
   "id": "bd502011-a8b5-4ecc-ad5d-3cbf456e4b57",
   "metadata": {},
   "outputs": [],
   "source": [
    "sec_filter = df[df['natlty1_txt'] == 'Iraq']"
   ]
  },
  {
   "cell_type": "code",
   "execution_count": 12,
   "id": "b6e7f28d-3138-4fe0-a1e3-71b18a29cca2",
   "metadata": {},
   "outputs": [],
   "source": [
    "sec_filter1 = sec_filter[sec_filter['region_txt'] == 'Middle East & North Africa']"
   ]
  },
  {
   "cell_type": "code",
   "execution_count": 22,
   "id": "860eb18b-48dd-4a2d-84a4-abc4c8ce2435",
   "metadata": {},
   "outputs": [
    {
     "data": {
      "text/plain": [
       "2854      False\n",
       "4385      False\n",
       "4574      False\n",
       "8688      False\n",
       "8739      False\n",
       "          ...  \n",
       "181669    False\n",
       "181670    False\n",
       "181671     True\n",
       "181674    False\n",
       "181679    False\n",
       "Name: targsubtype1_txt, Length: 24050, dtype: bool"
      ]
     },
     "execution_count": 22,
     "metadata": {},
     "output_type": "execute_result"
    }
   ],
   "source": [
    "sec_filter1['targsubtype1_txt'] == 'Unnamed Civilian/Unspecified'"
   ]
  },
  {
   "cell_type": "code",
   "execution_count": 29,
   "id": "c2f934f1-2d36-4462-93be-19d588f8b6e3",
   "metadata": {},
   "outputs": [],
   "source": [
    "sec_filter2 =sec_filter1[ sec_filter1['targsubtype1_txt'] == 'Unnamed Civilian/Unspecified']"
   ]
  },
  {
   "cell_type": "code",
   "execution_count": 38,
   "id": "77a36023-ca11-4be4-a637-9a872efd40a9",
   "metadata": {},
   "outputs": [
    {
     "data": {
      "text/plain": [
       "68880     False\n",
       "69017     False\n",
       "69193     False\n",
       "69897     False\n",
       "70590     False\n",
       "          ...  \n",
       "181033    False\n",
       "181067    False\n",
       "181171    False\n",
       "181404    False\n",
       "181671    False\n",
       "Name: nkill, Length: 3754, dtype: bool"
      ]
     },
     "execution_count": 38,
     "metadata": {},
     "output_type": "execute_result"
    }
   ],
   "source": [
    "sec_filter2['nkill'] >5"
   ]
  },
  {
   "cell_type": "code",
   "execution_count": 39,
   "id": "ab71d0d8-e803-46ab-9fe7-5e101a01baf8",
   "metadata": {},
   "outputs": [],
   "source": [
    "sec_filter3 = sec_filter2[sec_filter2['nkill'] > 5]"
   ]
  },
  {
   "cell_type": "code",
   "execution_count": 40,
   "id": "dfeba0f5-29b8-4aa1-a0ff-368d5cf00dc7",
   "metadata": {},
   "outputs": [
    {
     "data": {
      "text/plain": [
       "attacktype1_txt\n",
       "Bombing/Explosion                      224\n",
       "Hostage Taking (Kidnapping)             58\n",
       "Unknown                                 34\n",
       "Armed Assault                           27\n",
       "Assassination                            1\n",
       "Hostage Taking (Barricade Incident)      1\n",
       "Name: count, dtype: int64"
      ]
     },
     "execution_count": 40,
     "metadata": {},
     "output_type": "execute_result"
    }
   ],
   "source": [
    "sec_filter3['attacktype1_txt'].value_counts()"
   ]
  },
  {
   "cell_type": "code",
   "execution_count": 43,
   "id": "728e5f08-0f7c-4f9e-9ac0-0feac9032af9",
   "metadata": {},
   "outputs": [],
   "source": [
    "sec_filter4 = sec_filter3[sec_filter3['attacktype1_txt'] == 'Bombing/Explosion']"
   ]
  },
  {
   "cell_type": "code",
   "execution_count": 44,
   "id": "abb28cb1-9f51-4ed3-a8d7-69252979e65f",
   "metadata": {},
   "outputs": [],
   "source": [
    "sec_final = sec_filter4.groupby(['latitude','longitude']).size().reset_index(name='incident_count')"
   ]
  },
  {
   "cell_type": "code",
   "execution_count": 45,
   "id": "186b1a76-d60c-46d6-98aa-eb1548d7b331",
   "metadata": {},
   "outputs": [
    {
     "data": {
      "text/html": [
       "<div>\n",
       "<style scoped>\n",
       "    .dataframe tbody tr th:only-of-type {\n",
       "        vertical-align: middle;\n",
       "    }\n",
       "\n",
       "    .dataframe tbody tr th {\n",
       "        vertical-align: top;\n",
       "    }\n",
       "\n",
       "    .dataframe thead th {\n",
       "        text-align: right;\n",
       "    }\n",
       "</style>\n",
       "<table border=\"1\" class=\"dataframe\">\n",
       "  <thead>\n",
       "    <tr style=\"text-align: right;\">\n",
       "      <th></th>\n",
       "      <th>latitude</th>\n",
       "      <th>longitude</th>\n",
       "      <th>incident_count</th>\n",
       "    </tr>\n",
       "  </thead>\n",
       "  <tbody>\n",
       "    <tr>\n",
       "      <th>0</th>\n",
       "      <td>30.510054</td>\n",
       "      <td>47.778095</td>\n",
       "      <td>4</td>\n",
       "    </tr>\n",
       "    <tr>\n",
       "      <th>1</th>\n",
       "      <td>31.044371</td>\n",
       "      <td>46.261452</td>\n",
       "      <td>1</td>\n",
       "    </tr>\n",
       "    <tr>\n",
       "      <th>2</th>\n",
       "      <td>31.113592</td>\n",
       "      <td>45.883691</td>\n",
       "      <td>1</td>\n",
       "    </tr>\n",
       "    <tr>\n",
       "      <th>3</th>\n",
       "      <td>31.848217</td>\n",
       "      <td>47.145203</td>\n",
       "      <td>2</td>\n",
       "    </tr>\n",
       "    <tr>\n",
       "      <th>4</th>\n",
       "      <td>31.989580</td>\n",
       "      <td>44.923775</td>\n",
       "      <td>2</td>\n",
       "    </tr>\n",
       "    <tr>\n",
       "      <th>...</th>\n",
       "      <td>...</td>\n",
       "      <td>...</td>\n",
       "      <td>...</td>\n",
       "    </tr>\n",
       "    <tr>\n",
       "      <th>56</th>\n",
       "      <td>36.354145</td>\n",
       "      <td>43.143570</td>\n",
       "      <td>19</td>\n",
       "    </tr>\n",
       "    <tr>\n",
       "      <th>57</th>\n",
       "      <td>36.359535</td>\n",
       "      <td>43.336533</td>\n",
       "      <td>1</td>\n",
       "    </tr>\n",
       "    <tr>\n",
       "      <th>58</th>\n",
       "      <td>36.373718</td>\n",
       "      <td>42.451778</td>\n",
       "      <td>2</td>\n",
       "    </tr>\n",
       "    <tr>\n",
       "      <th>59</th>\n",
       "      <td>36.376823</td>\n",
       "      <td>42.448875</td>\n",
       "      <td>7</td>\n",
       "    </tr>\n",
       "    <tr>\n",
       "      <th>60</th>\n",
       "      <td>36.433691</td>\n",
       "      <td>43.275080</td>\n",
       "      <td>1</td>\n",
       "    </tr>\n",
       "  </tbody>\n",
       "</table>\n",
       "<p>61 rows × 3 columns</p>\n",
       "</div>"
      ],
      "text/plain": [
       "     latitude  longitude  incident_count\n",
       "0   30.510054  47.778095               4\n",
       "1   31.044371  46.261452               1\n",
       "2   31.113592  45.883691               1\n",
       "3   31.848217  47.145203               2\n",
       "4   31.989580  44.923775               2\n",
       "..        ...        ...             ...\n",
       "56  36.354145  43.143570              19\n",
       "57  36.359535  43.336533               1\n",
       "58  36.373718  42.451778               2\n",
       "59  36.376823  42.448875               7\n",
       "60  36.433691  43.275080               1\n",
       "\n",
       "[61 rows x 3 columns]"
      ]
     },
     "execution_count": 45,
     "metadata": {},
     "output_type": "execute_result"
    }
   ],
   "source": [
    "sec_final"
   ]
  },
  {
   "cell_type": "markdown",
   "id": "118857a0-0fc8-4ea5-a9da-b3ef37529943",
   "metadata": {},
   "source": [
    "<h1>3rd</h1>"
   ]
  },
  {
   "cell_type": "code",
   "execution_count": 55,
   "id": "af573174-afc0-4f2d-b805-39105e812898",
   "metadata": {},
   "outputs": [],
   "source": [
    "third_filter = df[df['natlty1_txt'] == 'India']"
   ]
  },
  {
   "cell_type": "code",
   "execution_count": 58,
   "id": "d6d41530-335f-41df-adcc-3e4bc1410d44",
   "metadata": {},
   "outputs": [],
   "source": [
    "third_filter1 = third_filter[third_filter['region_txt'] == 'South Asia']"
   ]
  },
  {
   "cell_type": "code",
   "execution_count": 60,
   "id": "36f8d8d5-a9d7-49b0-adb1-079d43a9432a",
   "metadata": {},
   "outputs": [
    {
     "data": {
      "text/plain": [
       "1863      False\n",
       "2764      False\n",
       "3857      False\n",
       "7337      False\n",
       "7342       True\n",
       "          ...  \n",
       "181663    False\n",
       "181665    False\n",
       "181672    False\n",
       "181684     True\n",
       "181689    False\n",
       "Name: targsubtype1_txt, Length: 12026, dtype: bool"
      ]
     },
     "execution_count": 60,
     "metadata": {},
     "output_type": "execute_result"
    }
   ],
   "source": [
    "third_filter1['targsubtype1_txt'] == 'Politician or Political Party Movement/Meeting/Rally'"
   ]
  },
  {
   "cell_type": "code",
   "execution_count": 61,
   "id": "c729900a-26f6-4219-b4e5-e7c5a06f1042",
   "metadata": {},
   "outputs": [],
   "source": [
    "third_filter2 = third_filter1[third_filter1['targsubtype1_txt'] == 'Politician or Political Party Movement/Meeting/Rally']"
   ]
  },
  {
   "cell_type": "code",
   "execution_count": 70,
   "id": "1f4f73a6-c039-4175-ac20-bd0c1437a205",
   "metadata": {},
   "outputs": [
    {
     "data": {
      "text/plain": [
       "7342       True\n",
       "9767       True\n",
       "9809       True\n",
       "9918       True\n",
       "13376      True\n",
       "          ...  \n",
       "180370    False\n",
       "180424     True\n",
       "181412     True\n",
       "181472     True\n",
       "181684     True\n",
       "Name: nkill, Length: 702, dtype: bool"
      ]
     },
     "execution_count": 70,
     "metadata": {},
     "output_type": "execute_result"
    }
   ],
   "source": [
    "third_filter2['nkill'] <5"
   ]
  },
  {
   "cell_type": "code",
   "execution_count": 71,
   "id": "b1695912-2a0c-431a-9020-ca514234605b",
   "metadata": {},
   "outputs": [],
   "source": [
    "third_filter3 = third_filter2[third_filter2['nkill'] < 5]"
   ]
  },
  {
   "cell_type": "code",
   "execution_count": 72,
   "id": "70ae4683-0434-45c3-9a09-4c964f17b862",
   "metadata": {},
   "outputs": [
    {
     "data": {
      "text/plain": [
       "attacktype1_txt\n",
       "Assassination                     265\n",
       "Armed Assault                     152\n",
       "Bombing/Explosion                 108\n",
       "Hostage Taking (Kidnapping)        89\n",
       "Facility/Infrastructure Attack     26\n",
       "Unknown                            16\n",
       "Unarmed Assault                     4\n",
       "Name: count, dtype: int64"
      ]
     },
     "execution_count": 72,
     "metadata": {},
     "output_type": "execute_result"
    }
   ],
   "source": [
    "third_filter3['attacktype1_txt'].value_counts()"
   ]
  },
  {
   "cell_type": "code",
   "execution_count": 73,
   "id": "d9d2ee16-b0e9-4837-ba1b-86666ee2ea4a",
   "metadata": {},
   "outputs": [],
   "source": [
    "third_filter4 = third_filter3[third_filter3['attacktype1_txt'] == 'Assassination']"
   ]
  },
  {
   "cell_type": "code",
   "execution_count": 74,
   "id": "caa5ca75-4994-4f0d-b52f-e986a1da7e86",
   "metadata": {},
   "outputs": [],
   "source": [
    "third_final = third_filter4.groupby(['latitude','longitude']).size().reset_index(name='incident_count')"
   ]
  },
  {
   "cell_type": "code",
   "execution_count": 75,
   "id": "e3c4e49a-57a7-497e-8920-bc54998ad9d8",
   "metadata": {},
   "outputs": [
    {
     "data": {
      "text/html": [
       "<div>\n",
       "<style scoped>\n",
       "    .dataframe tbody tr th:only-of-type {\n",
       "        vertical-align: middle;\n",
       "    }\n",
       "\n",
       "    .dataframe tbody tr th {\n",
       "        vertical-align: top;\n",
       "    }\n",
       "\n",
       "    .dataframe thead th {\n",
       "        text-align: right;\n",
       "    }\n",
       "</style>\n",
       "<table border=\"1\" class=\"dataframe\">\n",
       "  <thead>\n",
       "    <tr style=\"text-align: right;\">\n",
       "      <th></th>\n",
       "      <th>latitude</th>\n",
       "      <th>longitude</th>\n",
       "      <th>incident_count</th>\n",
       "    </tr>\n",
       "  </thead>\n",
       "  <tbody>\n",
       "    <tr>\n",
       "      <th>0</th>\n",
       "      <td>8.864636</td>\n",
       "      <td>77.496008</td>\n",
       "      <td>1</td>\n",
       "    </tr>\n",
       "    <tr>\n",
       "      <th>1</th>\n",
       "      <td>10.815278</td>\n",
       "      <td>78.696389</td>\n",
       "      <td>1</td>\n",
       "    </tr>\n",
       "    <tr>\n",
       "      <th>2</th>\n",
       "      <td>12.844527</td>\n",
       "      <td>79.136824</td>\n",
       "      <td>1</td>\n",
       "    </tr>\n",
       "    <tr>\n",
       "      <th>3</th>\n",
       "      <td>12.966668</td>\n",
       "      <td>79.946784</td>\n",
       "      <td>1</td>\n",
       "    </tr>\n",
       "    <tr>\n",
       "      <th>4</th>\n",
       "      <td>12.971599</td>\n",
       "      <td>77.594563</td>\n",
       "      <td>1</td>\n",
       "    </tr>\n",
       "    <tr>\n",
       "      <th>...</th>\n",
       "      <td>...</td>\n",
       "      <td>...</td>\n",
       "      <td>...</td>\n",
       "    </tr>\n",
       "    <tr>\n",
       "      <th>194</th>\n",
       "      <td>34.358352</td>\n",
       "      <td>74.433482</td>\n",
       "      <td>1</td>\n",
       "    </tr>\n",
       "    <tr>\n",
       "      <th>195</th>\n",
       "      <td>34.359687</td>\n",
       "      <td>73.471054</td>\n",
       "      <td>1</td>\n",
       "    </tr>\n",
       "    <tr>\n",
       "      <th>196</th>\n",
       "      <td>34.364525</td>\n",
       "      <td>74.389854</td>\n",
       "      <td>1</td>\n",
       "    </tr>\n",
       "    <tr>\n",
       "      <th>197</th>\n",
       "      <td>34.374612</td>\n",
       "      <td>74.449661</td>\n",
       "      <td>1</td>\n",
       "    </tr>\n",
       "    <tr>\n",
       "      <th>198</th>\n",
       "      <td>34.526179</td>\n",
       "      <td>74.254614</td>\n",
       "      <td>2</td>\n",
       "    </tr>\n",
       "  </tbody>\n",
       "</table>\n",
       "<p>199 rows × 3 columns</p>\n",
       "</div>"
      ],
      "text/plain": [
       "      latitude  longitude  incident_count\n",
       "0     8.864636  77.496008               1\n",
       "1    10.815278  78.696389               1\n",
       "2    12.844527  79.136824               1\n",
       "3    12.966668  79.946784               1\n",
       "4    12.971599  77.594563               1\n",
       "..         ...        ...             ...\n",
       "194  34.358352  74.433482               1\n",
       "195  34.359687  73.471054               1\n",
       "196  34.364525  74.389854               1\n",
       "197  34.374612  74.449661               1\n",
       "198  34.526179  74.254614               2\n",
       "\n",
       "[199 rows x 3 columns]"
      ]
     },
     "execution_count": 75,
     "metadata": {},
     "output_type": "execute_result"
    }
   ],
   "source": [
    "third_final"
   ]
  },
  {
   "cell_type": "markdown",
   "id": "e0976a8a-16dc-49d7-9d26-7e35310393f7",
   "metadata": {},
   "source": [
    "<h1>4th</h1>"
   ]
  },
  {
   "cell_type": "code",
   "execution_count": 84,
   "id": "8b768447-cc57-4c9d-a424-b076498a0ba9",
   "metadata": {},
   "outputs": [],
   "source": [
    "fourth_filter = df[df['natlty1_txt'] == 'Afghanistan']"
   ]
  },
  {
   "cell_type": "code",
   "execution_count": 89,
   "id": "3538d6b8-8e9d-41b8-9113-339e4f064c2b",
   "metadata": {},
   "outputs": [],
   "source": [
    "fourt_filter1 = fourth_filter[fourth_filter['region_txt'] == 'South Asia']"
   ]
  },
  {
   "cell_type": "code",
   "execution_count": 93,
   "id": "cc9a4864-a280-408d-acf3-7b1f201751b3",
   "metadata": {},
   "outputs": [
    {
     "data": {
      "text/plain": [
       "9156      False\n",
       "22739     False\n",
       "22740     False\n",
       "28640     False\n",
       "31132     False\n",
       "          ...  \n",
       "181651    False\n",
       "181673    False\n",
       "181676    False\n",
       "181683    False\n",
       "181685    False\n",
       "Name: targsubtype1_txt, Length: 10913, dtype: bool"
      ]
     },
     "execution_count": 93,
     "metadata": {},
     "output_type": "execute_result"
    }
   ],
   "source": [
    "fourt_filter1['targsubtype1_txt'] == 'Police Security Forces/Officers'"
   ]
  },
  {
   "cell_type": "code",
   "execution_count": 95,
   "id": "655a009c-d840-428d-9670-7b88ed093b8b",
   "metadata": {},
   "outputs": [],
   "source": [
    "fourt_filter2 = fourt_filter1[fourt_filter1['targsubtype1_txt'] == 'Police Security Forces/Officers']"
   ]
  },
  {
   "cell_type": "code",
   "execution_count": 99,
   "id": "6e5b50c1-7d58-47e1-bc93-fe6cf4922271",
   "metadata": {},
   "outputs": [],
   "source": [
    "fourt_filter3 = fourt_filter2[fourt_filter2['nkill'] < 5]"
   ]
  },
  {
   "cell_type": "code",
   "execution_count": 101,
   "id": "4b67aa5a-4973-4cb7-b164-a15383801418",
   "metadata": {},
   "outputs": [
    {
     "data": {
      "text/plain": [
       "attacktype1_txt\n",
       "Bombing/Explosion                 429\n",
       "Armed Assault                     242\n",
       "Assassination                     190\n",
       "Unknown                            74\n",
       "Hostage Taking (Kidnapping)        72\n",
       "Facility/Infrastructure Attack     37\n",
       "Unarmed Assault                     5\n",
       "Name: count, dtype: int64"
      ]
     },
     "execution_count": 101,
     "metadata": {},
     "output_type": "execute_result"
    }
   ],
   "source": [
    "fourt_filter3['attacktype1_txt'].value_counts()"
   ]
  },
  {
   "cell_type": "code",
   "execution_count": 103,
   "id": "9dd9de1c-edd2-4334-b89f-80ef237e567e",
   "metadata": {},
   "outputs": [],
   "source": [
    "fourt_filter4 = fourt_filter3[fourt_filter3['attacktype1_txt'] == 'Bombing/Explosion']"
   ]
  },
  {
   "cell_type": "code",
   "execution_count": 105,
   "id": "98c184d5-3ff0-452b-8885-988c799cbb71",
   "metadata": {},
   "outputs": [],
   "source": [
    "fourt_final = fourt_filter4.groupby(['latitude','longitude']).size().reset_index(name='incident_count')"
   ]
  },
  {
   "cell_type": "code",
   "execution_count": 106,
   "id": "9e656537-ceb7-4946-b6ca-7c77cf6df4b5",
   "metadata": {},
   "outputs": [
    {
     "data": {
      "text/html": [
       "<div>\n",
       "<style scoped>\n",
       "    .dataframe tbody tr th:only-of-type {\n",
       "        vertical-align: middle;\n",
       "    }\n",
       "\n",
       "    .dataframe tbody tr th {\n",
       "        vertical-align: top;\n",
       "    }\n",
       "\n",
       "    .dataframe thead th {\n",
       "        text-align: right;\n",
       "    }\n",
       "</style>\n",
       "<table border=\"1\" class=\"dataframe\">\n",
       "  <thead>\n",
       "    <tr style=\"text-align: right;\">\n",
       "      <th></th>\n",
       "      <th>latitude</th>\n",
       "      <th>longitude</th>\n",
       "      <th>incident_count</th>\n",
       "    </tr>\n",
       "  </thead>\n",
       "  <tbody>\n",
       "    <tr>\n",
       "      <th>0</th>\n",
       "      <td>30.134523</td>\n",
       "      <td>62.262663</td>\n",
       "      <td>1</td>\n",
       "    </tr>\n",
       "    <tr>\n",
       "      <th>1</th>\n",
       "      <td>30.509551</td>\n",
       "      <td>64.269748</td>\n",
       "      <td>1</td>\n",
       "    </tr>\n",
       "    <tr>\n",
       "      <th>2</th>\n",
       "      <td>30.622013</td>\n",
       "      <td>64.031136</td>\n",
       "      <td>2</td>\n",
       "    </tr>\n",
       "    <tr>\n",
       "      <th>3</th>\n",
       "      <td>30.869041</td>\n",
       "      <td>66.141526</td>\n",
       "      <td>1</td>\n",
       "    </tr>\n",
       "    <tr>\n",
       "      <th>4</th>\n",
       "      <td>30.911544</td>\n",
       "      <td>64.150589</td>\n",
       "      <td>1</td>\n",
       "    </tr>\n",
       "    <tr>\n",
       "      <th>...</th>\n",
       "      <td>...</td>\n",
       "      <td>...</td>\n",
       "      <td>...</td>\n",
       "    </tr>\n",
       "    <tr>\n",
       "      <th>277</th>\n",
       "      <td>36.996632</td>\n",
       "      <td>68.434822</td>\n",
       "      <td>1</td>\n",
       "    </tr>\n",
       "    <tr>\n",
       "      <th>278</th>\n",
       "      <td>37.109620</td>\n",
       "      <td>68.953959</td>\n",
       "      <td>1</td>\n",
       "    </tr>\n",
       "    <tr>\n",
       "      <th>279</th>\n",
       "      <td>37.298889</td>\n",
       "      <td>70.563889</td>\n",
       "      <td>1</td>\n",
       "    </tr>\n",
       "    <tr>\n",
       "      <th>280</th>\n",
       "      <td>37.330139</td>\n",
       "      <td>66.811897</td>\n",
       "      <td>1</td>\n",
       "    </tr>\n",
       "    <tr>\n",
       "      <th>281</th>\n",
       "      <td>37.527050</td>\n",
       "      <td>65.760803</td>\n",
       "      <td>1</td>\n",
       "    </tr>\n",
       "  </tbody>\n",
       "</table>\n",
       "<p>282 rows × 3 columns</p>\n",
       "</div>"
      ],
      "text/plain": [
       "      latitude  longitude  incident_count\n",
       "0    30.134523  62.262663               1\n",
       "1    30.509551  64.269748               1\n",
       "2    30.622013  64.031136               2\n",
       "3    30.869041  66.141526               1\n",
       "4    30.911544  64.150589               1\n",
       "..         ...        ...             ...\n",
       "277  36.996632  68.434822               1\n",
       "278  37.109620  68.953959               1\n",
       "279  37.298889  70.563889               1\n",
       "280  37.330139  66.811897               1\n",
       "281  37.527050  65.760803               1\n",
       "\n",
       "[282 rows x 3 columns]"
      ]
     },
     "execution_count": 106,
     "metadata": {},
     "output_type": "execute_result"
    }
   ],
   "source": [
    "fourt_final"
   ]
  },
  {
   "cell_type": "markdown",
   "id": "d7e55dac-12ad-4b0f-9dc7-f0dc164ff335",
   "metadata": {},
   "source": [
    "<h1>5th</h1>"
   ]
  },
  {
   "cell_type": "code",
   "execution_count": 87,
   "id": "78fe94d4-b436-4a47-a291-c296131aa47a",
   "metadata": {},
   "outputs": [],
   "source": [
    "fifth_filter = df[df['natlty1_txt'] == 'Colombia']"
   ]
  },
  {
   "cell_type": "code",
   "execution_count": 90,
   "id": "29edc167-6246-4bee-ac83-b8a78d28349f",
   "metadata": {},
   "outputs": [],
   "source": [
    "fifth_filter1 = fifth_filter[fifth_filter['region_txt'] == 'South America']"
   ]
  },
  {
   "cell_type": "code",
   "execution_count": 92,
   "id": "d7d11a75-9252-49af-b81e-6fd3d12bcade",
   "metadata": {},
   "outputs": [
    {
     "data": {
      "text/plain": [
       "targsubtype1_txt\n",
       "Military Unit/Patrol/Convoy                             590\n",
       "Politician or Political Party Movement/Meeting/Rally    500\n",
       "Police Security Forces/Officers                         479\n",
       "Oil                                                     478\n",
       "Unnamed Civilian/Unspecified                            454\n",
       "                                                       ... \n",
       "Royalty                                                   1\n",
       "Military Weaponry                                         1\n",
       "Port                                                      1\n",
       "Internet Infrastructure                                   1\n",
       "Non-combatant Personnel                                   1\n",
       "Name: count, Length: 100, dtype: int64"
      ]
     },
     "execution_count": 92,
     "metadata": {},
     "output_type": "execute_result"
    }
   ],
   "source": [
    "fifth_filter1['targsubtype1_txt'].value_counts()"
   ]
  },
  {
   "cell_type": "code",
   "execution_count": 98,
   "id": "adae12d4-a9a7-457a-84af-260eb04deac5",
   "metadata": {},
   "outputs": [],
   "source": [
    "fifth_filter2 = fifth_filter1[fifth_filter1['targsubtype1_txt'] == 'Military Unit/Patrol/Convoy']"
   ]
  },
  {
   "cell_type": "code",
   "execution_count": 100,
   "id": "9b2add01-35cd-417e-9465-320e5afd1773",
   "metadata": {},
   "outputs": [],
   "source": [
    "fifth_filter3 = fifth_filter2[fifth_filter2['nkill'] < 5]"
   ]
  },
  {
   "cell_type": "code",
   "execution_count": 102,
   "id": "56c12491-5001-4e4a-99bd-568474e35f26",
   "metadata": {},
   "outputs": [
    {
     "data": {
      "text/plain": [
       "attacktype1_txt\n",
       "Armed Assault                  259\n",
       "Bombing/Explosion               39\n",
       "Unknown                         23\n",
       "Hostage Taking (Kidnapping)      3\n",
       "Name: count, dtype: int64"
      ]
     },
     "execution_count": 102,
     "metadata": {},
     "output_type": "execute_result"
    }
   ],
   "source": [
    "fifth_filter3['attacktype1_txt'].value_counts()"
   ]
  },
  {
   "cell_type": "code",
   "execution_count": 104,
   "id": "c6e8b460-3bf9-45bd-91e2-87a1f2ab4720",
   "metadata": {},
   "outputs": [],
   "source": [
    "fifth_filter4 = fifth_filter3[fifth_filter3['attacktype1_txt'] == 'Armed Assault']"
   ]
  },
  {
   "cell_type": "code",
   "execution_count": 107,
   "id": "accffe1b-02ec-4bf6-920d-52ef6a5ee55c",
   "metadata": {},
   "outputs": [],
   "source": [
    "fifth_final = fifth_filter4.groupby(['latitude','longitude']).size().reset_index(name='incident_count')"
   ]
  },
  {
   "cell_type": "code",
   "execution_count": 108,
   "id": "2f175a86-4faa-4d0d-9eec-8f03ca45b309",
   "metadata": {},
   "outputs": [
    {
     "data": {
      "text/html": [
       "<div>\n",
       "<style scoped>\n",
       "    .dataframe tbody tr th:only-of-type {\n",
       "        vertical-align: middle;\n",
       "    }\n",
       "\n",
       "    .dataframe tbody tr th {\n",
       "        vertical-align: top;\n",
       "    }\n",
       "\n",
       "    .dataframe thead th {\n",
       "        text-align: right;\n",
       "    }\n",
       "</style>\n",
       "<table border=\"1\" class=\"dataframe\">\n",
       "  <thead>\n",
       "    <tr style=\"text-align: right;\">\n",
       "      <th></th>\n",
       "      <th>latitude</th>\n",
       "      <th>longitude</th>\n",
       "      <th>incident_count</th>\n",
       "    </tr>\n",
       "  </thead>\n",
       "  <tbody>\n",
       "    <tr>\n",
       "      <th>0</th>\n",
       "      <td>0.435951</td>\n",
       "      <td>-75.527670</td>\n",
       "      <td>2</td>\n",
       "    </tr>\n",
       "    <tr>\n",
       "      <th>1</th>\n",
       "      <td>0.869892</td>\n",
       "      <td>-73.841906</td>\n",
       "      <td>3</td>\n",
       "    </tr>\n",
       "    <tr>\n",
       "      <th>2</th>\n",
       "      <td>0.872582</td>\n",
       "      <td>-75.619733</td>\n",
       "      <td>1</td>\n",
       "    </tr>\n",
       "    <tr>\n",
       "      <th>3</th>\n",
       "      <td>1.030330</td>\n",
       "      <td>-76.614750</td>\n",
       "      <td>1</td>\n",
       "    </tr>\n",
       "    <tr>\n",
       "      <th>4</th>\n",
       "      <td>1.034050</td>\n",
       "      <td>-75.919280</td>\n",
       "      <td>1</td>\n",
       "    </tr>\n",
       "    <tr>\n",
       "      <th>...</th>\n",
       "      <td>...</td>\n",
       "      <td>...</td>\n",
       "      <td>...</td>\n",
       "    </tr>\n",
       "    <tr>\n",
       "      <th>152</th>\n",
       "      <td>10.266667</td>\n",
       "      <td>-75.466667</td>\n",
       "      <td>3</td>\n",
       "    </tr>\n",
       "    <tr>\n",
       "      <th>153</th>\n",
       "      <td>10.387900</td>\n",
       "      <td>-73.169800</td>\n",
       "      <td>1</td>\n",
       "    </tr>\n",
       "    <tr>\n",
       "      <th>154</th>\n",
       "      <td>10.832308</td>\n",
       "      <td>-73.667622</td>\n",
       "      <td>2</td>\n",
       "    </tr>\n",
       "    <tr>\n",
       "      <th>155</th>\n",
       "      <td>11.242035</td>\n",
       "      <td>-74.205384</td>\n",
       "      <td>1</td>\n",
       "    </tr>\n",
       "    <tr>\n",
       "      <th>156</th>\n",
       "      <td>11.286866</td>\n",
       "      <td>-73.099449</td>\n",
       "      <td>1</td>\n",
       "    </tr>\n",
       "  </tbody>\n",
       "</table>\n",
       "<p>157 rows × 3 columns</p>\n",
       "</div>"
      ],
      "text/plain": [
       "      latitude  longitude  incident_count\n",
       "0     0.435951 -75.527670               2\n",
       "1     0.869892 -73.841906               3\n",
       "2     0.872582 -75.619733               1\n",
       "3     1.030330 -76.614750               1\n",
       "4     1.034050 -75.919280               1\n",
       "..         ...        ...             ...\n",
       "152  10.266667 -75.466667               3\n",
       "153  10.387900 -73.169800               1\n",
       "154  10.832308 -73.667622               2\n",
       "155  11.242035 -74.205384               1\n",
       "156  11.286866 -73.099449               1\n",
       "\n",
       "[157 rows x 3 columns]"
      ]
     },
     "execution_count": 108,
     "metadata": {},
     "output_type": "execute_result"
    }
   ],
   "source": [
    "fifth_final"
   ]
  },
  {
   "cell_type": "markdown",
   "id": "8aa3b90e-a4d6-4ecc-b948-37dd2d785719",
   "metadata": {},
   "source": [
    "<H1>Use of FOLIUM FOR GEOSPATIAL</H1>"
   ]
  },
  {
   "cell_type": "code",
   "execution_count": 23,
   "id": "1620456d-a743-47bc-89f6-103b6cd72303",
   "metadata": {},
   "outputs": [],
   "source": [
    "from folium.plugins import HeatMap"
   ]
  },
  {
   "cell_type": "markdown",
   "id": "f34707fe-6e15-4994-b3b9-ac5f9b3352b3",
   "metadata": {},
   "source": [
    "<h1>Converting PANDAS df into Python List</h1>"
   ]
  },
  {
   "cell_type": "code",
   "execution_count": 24,
   "id": "8217e12e-165b-4627-ab52-290131dc4a71",
   "metadata": {},
   "outputs": [],
   "source": [
    "final['normalize_data'] = final['incident_count'] - final['incident_count'].min() / final['incident_count'].max() - final['incident_count'].min()\n",
    "heat_data = final[['latitude','longitude','normalize_data']].values.tolist()\n"
   ]
  },
  {
   "cell_type": "code",
   "execution_count": 48,
   "id": "16c79b9c-130d-48fe-8728-2f3b8e53e6ec",
   "metadata": {},
   "outputs": [],
   "source": [
    "sec_final['normalize_data'] = sec_final['incident_count'] - sec_final['incident_count'].min() / sec_final['incident_count'].max() - sec_final['incident_count'].min()\n",
    "heat_data2 = sec_final[['latitude','longitude','normalize_data']].values.tolist()"
   ]
  },
  {
   "cell_type": "code",
   "execution_count": 76,
   "id": "76f6cf3b-e182-4c71-ab49-d792f712dc46",
   "metadata": {},
   "outputs": [],
   "source": [
    "third_final['normalize_data'] = third_final['incident_count'] - third_final['incident_count'].min() / third_final['incident_count'].max() - third_final['incident_count'].min()\n",
    "heat_data3 = third_final[['latitude','longitude','normalize_data']].values.tolist()"
   ]
  },
  {
   "cell_type": "code",
   "execution_count": 109,
   "id": "29ad2c22-22e7-4744-a549-cbb6c3cc5647",
   "metadata": {},
   "outputs": [],
   "source": [
    "fourt_final['normalize_data'] = fourt_final['incident_count'] - fourt_final['incident_count'].min() / fourt_final['incident_count'].max() - fourt_final['incident_count'].min()\n",
    "heat_data4 = fourt_final[['latitude','longitude','normalize_data']].values.tolist()"
   ]
  },
  {
   "cell_type": "code",
   "execution_count": 110,
   "id": "02bb29c2-4e0d-46d1-8c21-a115d3c56b45",
   "metadata": {},
   "outputs": [],
   "source": [
    "fifth_final['normalize_data'] = fifth_final['incident_count'] - fifth_final['incident_count'].min() / fifth_final['incident_count'].max() - fifth_final['incident_count'].min()\n",
    "heat_data5 = fifth_final[['latitude','longitude','normalize_data']].values.tolist()"
   ]
  },
  {
   "cell_type": "markdown",
   "id": "d9b8f4e2-a222-42fa-888d-187653409f6e",
   "metadata": {},
   "source": [
    "<h1>Creating a base map</h1>"
   ]
  },
  {
   "cell_type": "code",
   "execution_count": 111,
   "id": "bd26dc04-30f2-4ec5-a781-5c28d40c1dc9",
   "metadata": {},
   "outputs": [],
   "source": [
    "my_loc = folium.Map(location=[30.3753, 69.3451], zoom_start=6)"
   ]
  },
  {
   "cell_type": "code",
   "execution_count": 112,
   "id": "85460548-4312-4e46-b777-f064d38f1357",
   "metadata": {},
   "outputs": [],
   "source": [
    "my_loc2 = folium.Map(location=[33.2232, 43.6793], zoom_start=6)"
   ]
  },
  {
   "cell_type": "code",
   "execution_count": 79,
   "id": "8346ec47-116a-4029-bd68-42bb8527ec28",
   "metadata": {},
   "outputs": [],
   "source": [
    "my_loc3 = folium.Map(location=[20.5937, 78.9629], zoom_start=5)"
   ]
  },
  {
   "cell_type": "code",
   "execution_count": 113,
   "id": "098806a8-97a2-43be-b1fa-8e9c44d73c8b",
   "metadata": {},
   "outputs": [],
   "source": [
    "my_loc4 = folium.Map(location=[33.9391, 67.7100], zoom_start=6)"
   ]
  },
  {
   "cell_type": "code",
   "execution_count": 114,
   "id": "8f99eaba-4557-45fc-976f-042b6a2228ce",
   "metadata": {},
   "outputs": [],
   "source": [
    "my_loc5 = folium.Map(location=[4.5709, -74.2973], zoom_start=6)"
   ]
  },
  {
   "cell_type": "markdown",
   "id": "00ea9b2c-7e3b-4239-a6c7-0d239677c8d6",
   "metadata": {},
   "source": [
    "<H1>Add Heatmap Layer</H1>"
   ]
  },
  {
   "cell_type": "code",
   "execution_count": 115,
   "id": "f9b9cbdf-0dd7-42f6-ba66-16b70a4cf508",
   "metadata": {},
   "outputs": [
    {
     "data": {
      "text/plain": [
       "<folium.plugins.heat_map.HeatMap at 0x283162c4a70>"
      ]
     },
     "execution_count": 115,
     "metadata": {},
     "output_type": "execute_result"
    }
   ],
   "source": [
    "HeatMap(heat_data).add_to(my_loc)"
   ]
  },
  {
   "cell_type": "code",
   "execution_count": 116,
   "id": "81b953c7-14c3-41e7-901b-f6bfe08b8d8d",
   "metadata": {},
   "outputs": [
    {
     "data": {
      "text/plain": [
       "<folium.plugins.heat_map.HeatMap at 0x2830067abe0>"
      ]
     },
     "execution_count": 116,
     "metadata": {},
     "output_type": "execute_result"
    }
   ],
   "source": [
    "HeatMap(heat_data2).add_to(my_loc2)"
   ]
  },
  {
   "cell_type": "code",
   "execution_count": 117,
   "id": "dbfc3b98-7536-4338-b2e8-edfadb3aeaa7",
   "metadata": {},
   "outputs": [
    {
     "data": {
      "text/plain": [
       "<folium.plugins.heat_map.HeatMap at 0x2830067b570>"
      ]
     },
     "execution_count": 117,
     "metadata": {},
     "output_type": "execute_result"
    }
   ],
   "source": [
    "HeatMap(heat_data3).add_to(my_loc3)"
   ]
  },
  {
   "cell_type": "code",
   "execution_count": 118,
   "id": "d879bb1d-12bb-4e76-a6f9-0d0e1caa8874",
   "metadata": {},
   "outputs": [
    {
     "data": {
      "text/plain": [
       "<folium.plugins.heat_map.HeatMap at 0x28314773450>"
      ]
     },
     "execution_count": 118,
     "metadata": {},
     "output_type": "execute_result"
    }
   ],
   "source": [
    "HeatMap(heat_data4).add_to(my_loc4)"
   ]
  },
  {
   "cell_type": "code",
   "execution_count": 119,
   "id": "a33a83b4-d9b2-4dff-8fdf-e90d01f352bc",
   "metadata": {},
   "outputs": [
    {
     "data": {
      "text/plain": [
       "<folium.plugins.heat_map.HeatMap at 0x28314772d50>"
      ]
     },
     "execution_count": 119,
     "metadata": {},
     "output_type": "execute_result"
    }
   ],
   "source": [
    "HeatMap(heat_data5).add_to(my_loc5)"
   ]
  },
  {
   "cell_type": "code",
   "execution_count": 27,
   "id": "8b92fecd-39e3-4ac7-9505-4a500299a0e0",
   "metadata": {},
   "outputs": [
    {
     "name": "stdout",
     "output_type": "stream",
     "text": [
      "Data Successfully Saved to terrorism_bombing2.html\n"
     ]
    }
   ],
   "source": [
    "my_loc.save('terrorism_bombing2.html')\n",
    "print(\"Data Successfully Saved to terrorism_bombing2.html\")"
   ]
  },
  {
   "cell_type": "code",
   "execution_count": 53,
   "id": "2f9a319d-0576-47cc-a434-3a61c4b3d0ce",
   "metadata": {},
   "outputs": [],
   "source": [
    "my_loc2.save('terrorism_bombing2.html')"
   ]
  },
  {
   "cell_type": "code",
   "execution_count": 82,
   "id": "f1e7f7d2-44cc-4c40-bfa2-6f998befc8a3",
   "metadata": {},
   "outputs": [],
   "source": [
    "my_loc3.save('terrorism_bombing2.html')"
   ]
  },
  {
   "cell_type": "code",
   "execution_count": 120,
   "id": "cc6ca976-180f-4004-8004-eca0f147e2ae",
   "metadata": {},
   "outputs": [],
   "source": [
    "my_loc4.save('terrorism_bombing2.html')"
   ]
  },
  {
   "cell_type": "code",
   "execution_count": 121,
   "id": "b262a9c6-fc58-4f04-8e75-a4913008939d",
   "metadata": {},
   "outputs": [],
   "source": [
    "my_loc5.save('terrorism_bombing2.html')"
   ]
  },
  {
   "cell_type": "markdown",
   "id": "6dce1077-91c9-4293-a69a-c825a463b156",
   "metadata": {},
   "source": [
    "<h1>1. Pakistan, South Asia,Targeting Police Security Forces/Officers with fatality greater than 10 using 'Bombing/Explosion'</h1>"
   ]
  },
  {
   "cell_type": "code",
   "execution_count": 28,
   "id": "390ce244-7759-4df5-b745-eb51b2888fc1",
   "metadata": {
    "scrolled": true
   },
   "outputs": [
    {
     "data": {
      "text/html": [
       "<div style=\"width:100%;\"><div style=\"position:relative;width:100%;height:0;padding-bottom:60%;\"><span style=\"color:#565656\">Make this Notebook Trusted to load map: File -> Trust Notebook</span><iframe srcdoc=\"&lt;!DOCTYPE html&gt;\n",
       "&lt;html&gt;\n",
       "&lt;head&gt;\n",
       "    \n",
       "    &lt;meta http-equiv=&quot;content-type&quot; content=&quot;text/html; charset=UTF-8&quot; /&gt;\n",
       "    \n",
       "        &lt;script&gt;\n",
       "            L_NO_TOUCH = false;\n",
       "            L_DISABLE_3D = false;\n",
       "        &lt;/script&gt;\n",
       "    \n",
       "    &lt;style&gt;html, body {width: 100%;height: 100%;margin: 0;padding: 0;}&lt;/style&gt;\n",
       "    &lt;style&gt;#map {position:absolute;top:0;bottom:0;right:0;left:0;}&lt;/style&gt;\n",
       "    &lt;script src=&quot;https://cdn.jsdelivr.net/npm/leaflet@1.9.3/dist/leaflet.js&quot;&gt;&lt;/script&gt;\n",
       "    &lt;script src=&quot;https://code.jquery.com/jquery-3.7.1.min.js&quot;&gt;&lt;/script&gt;\n",
       "    &lt;script src=&quot;https://cdn.jsdelivr.net/npm/bootstrap@5.2.2/dist/js/bootstrap.bundle.min.js&quot;&gt;&lt;/script&gt;\n",
       "    &lt;script src=&quot;https://cdnjs.cloudflare.com/ajax/libs/Leaflet.awesome-markers/2.0.2/leaflet.awesome-markers.js&quot;&gt;&lt;/script&gt;\n",
       "    &lt;link rel=&quot;stylesheet&quot; href=&quot;https://cdn.jsdelivr.net/npm/leaflet@1.9.3/dist/leaflet.css&quot;/&gt;\n",
       "    &lt;link rel=&quot;stylesheet&quot; href=&quot;https://cdn.jsdelivr.net/npm/bootstrap@5.2.2/dist/css/bootstrap.min.css&quot;/&gt;\n",
       "    &lt;link rel=&quot;stylesheet&quot; href=&quot;https://netdna.bootstrapcdn.com/bootstrap/3.0.0/css/bootstrap-glyphicons.css&quot;/&gt;\n",
       "    &lt;link rel=&quot;stylesheet&quot; href=&quot;https://cdn.jsdelivr.net/npm/@fortawesome/fontawesome-free@6.2.0/css/all.min.css&quot;/&gt;\n",
       "    &lt;link rel=&quot;stylesheet&quot; href=&quot;https://cdnjs.cloudflare.com/ajax/libs/Leaflet.awesome-markers/2.0.2/leaflet.awesome-markers.css&quot;/&gt;\n",
       "    &lt;link rel=&quot;stylesheet&quot; href=&quot;https://cdn.jsdelivr.net/gh/python-visualization/folium/folium/templates/leaflet.awesome.rotate.min.css&quot;/&gt;\n",
       "    \n",
       "            &lt;meta name=&quot;viewport&quot; content=&quot;width=device-width,\n",
       "                initial-scale=1.0, maximum-scale=1.0, user-scalable=no&quot; /&gt;\n",
       "            &lt;style&gt;\n",
       "                #map_f25c06b1fdf468efa6285f5028755fc2 {\n",
       "                    position: relative;\n",
       "                    width: 100.0%;\n",
       "                    height: 100.0%;\n",
       "                    left: 0.0%;\n",
       "                    top: 0.0%;\n",
       "                }\n",
       "                .leaflet-container { font-size: 1rem; }\n",
       "            &lt;/style&gt;\n",
       "        \n",
       "    &lt;script src=&quot;https://cdn.jsdelivr.net/gh/python-visualization/folium@main/folium/templates/leaflet_heat.min.js&quot;&gt;&lt;/script&gt;\n",
       "&lt;/head&gt;\n",
       "&lt;body&gt;\n",
       "    \n",
       "    \n",
       "            &lt;div class=&quot;folium-map&quot; id=&quot;map_f25c06b1fdf468efa6285f5028755fc2&quot; &gt;&lt;/div&gt;\n",
       "        \n",
       "&lt;/body&gt;\n",
       "&lt;script&gt;\n",
       "    \n",
       "    \n",
       "            var map_f25c06b1fdf468efa6285f5028755fc2 = L.map(\n",
       "                &quot;map_f25c06b1fdf468efa6285f5028755fc2&quot;,\n",
       "                {\n",
       "                    center: [30.3753, 69.3451],\n",
       "                    crs: L.CRS.EPSG3857,\n",
       "                    ...{\n",
       "  &quot;zoom&quot;: 6,\n",
       "  &quot;zoomControl&quot;: true,\n",
       "  &quot;preferCanvas&quot;: false,\n",
       "}\n",
       "\n",
       "                }\n",
       "            );\n",
       "\n",
       "            \n",
       "\n",
       "        \n",
       "    \n",
       "            var tile_layer_8c5a30f944a8fc52129a3e43fed427e6 = L.tileLayer(\n",
       "                &quot;https://tile.openstreetmap.org/{z}/{x}/{y}.png&quot;,\n",
       "                {\n",
       "  &quot;minZoom&quot;: 0,\n",
       "  &quot;maxZoom&quot;: 19,\n",
       "  &quot;maxNativeZoom&quot;: 19,\n",
       "  &quot;noWrap&quot;: false,\n",
       "  &quot;attribution&quot;: &quot;\\u0026copy; \\u003ca href=\\&quot;https://www.openstreetmap.org/copyright\\&quot;\\u003eOpenStreetMap\\u003c/a\\u003e contributors&quot;,\n",
       "  &quot;subdomains&quot;: &quot;abc&quot;,\n",
       "  &quot;detectRetina&quot;: false,\n",
       "  &quot;tms&quot;: false,\n",
       "  &quot;opacity&quot;: 1,\n",
       "}\n",
       "\n",
       "            );\n",
       "        \n",
       "    \n",
       "            tile_layer_8c5a30f944a8fc52129a3e43fed427e6.addTo(map_f25c06b1fdf468efa6285f5028755fc2);\n",
       "        \n",
       "    \n",
       "            var heat_map_7c1f9e2e86986ea61ff1b2fececa6074 = L.heatLayer(\n",
       "                [[30.200819, 66.994354, 1.6666666666666665], [31.50547, 74.34288, 0.6666666666666667], [33.671638, 73.056068, -0.33333333333333326], [34.006004, 71.53743, 1.6666666666666665], [34.774479, 72.364052, -0.33333333333333326]],\n",
       "                {\n",
       "  &quot;minOpacity&quot;: 0.5,\n",
       "  &quot;maxZoom&quot;: 18,\n",
       "  &quot;radius&quot;: 25,\n",
       "  &quot;blur&quot;: 15,\n",
       "}\n",
       "            );\n",
       "        \n",
       "    \n",
       "            heat_map_7c1f9e2e86986ea61ff1b2fececa6074.addTo(map_f25c06b1fdf468efa6285f5028755fc2);\n",
       "        \n",
       "    \n",
       "            tile_layer_8c5a30f944a8fc52129a3e43fed427e6.addTo(map_f25c06b1fdf468efa6285f5028755fc2);\n",
       "        \n",
       "    \n",
       "            heat_map_7c1f9e2e86986ea61ff1b2fececa6074.addTo(map_f25c06b1fdf468efa6285f5028755fc2);\n",
       "        \n",
       "&lt;/script&gt;\n",
       "&lt;/html&gt;\" style=\"position:absolute;width:100%;height:100%;left:0;top:0;border:none !important;\" allowfullscreen webkitallowfullscreen mozallowfullscreen></iframe></div></div>"
      ],
      "text/plain": [
       "<folium.folium.Map at 0x28300308590>"
      ]
     },
     "execution_count": 28,
     "metadata": {},
     "output_type": "execute_result"
    }
   ],
   "source": [
    "my_loc"
   ]
  },
  {
   "cell_type": "markdown",
   "id": "a841d216-a75b-4fe4-969c-baefd593564e",
   "metadata": {},
   "source": [
    "<h1>2. Iraq, Middle East & North Africa,Targeting Unnamed Civilian/Unspecified with fatality greater than 5 using 'Bombing/Explosion'</h1>"
   ]
  },
  {
   "cell_type": "code",
   "execution_count": 54,
   "id": "e7e25e46-3038-4994-8407-3f043788eb4f",
   "metadata": {},
   "outputs": [
    {
     "data": {
      "text/html": [
       "<div style=\"width:100%;\"><div style=\"position:relative;width:100%;height:0;padding-bottom:60%;\"><span style=\"color:#565656\">Make this Notebook Trusted to load map: File -> Trust Notebook</span><iframe srcdoc=\"&lt;!DOCTYPE html&gt;\n",
       "&lt;html&gt;\n",
       "&lt;head&gt;\n",
       "    \n",
       "    &lt;meta http-equiv=&quot;content-type&quot; content=&quot;text/html; charset=UTF-8&quot; /&gt;\n",
       "    \n",
       "        &lt;script&gt;\n",
       "            L_NO_TOUCH = false;\n",
       "            L_DISABLE_3D = false;\n",
       "        &lt;/script&gt;\n",
       "    \n",
       "    &lt;style&gt;html, body {width: 100%;height: 100%;margin: 0;padding: 0;}&lt;/style&gt;\n",
       "    &lt;style&gt;#map {position:absolute;top:0;bottom:0;right:0;left:0;}&lt;/style&gt;\n",
       "    &lt;script src=&quot;https://cdn.jsdelivr.net/npm/leaflet@1.9.3/dist/leaflet.js&quot;&gt;&lt;/script&gt;\n",
       "    &lt;script src=&quot;https://code.jquery.com/jquery-3.7.1.min.js&quot;&gt;&lt;/script&gt;\n",
       "    &lt;script src=&quot;https://cdn.jsdelivr.net/npm/bootstrap@5.2.2/dist/js/bootstrap.bundle.min.js&quot;&gt;&lt;/script&gt;\n",
       "    &lt;script src=&quot;https://cdnjs.cloudflare.com/ajax/libs/Leaflet.awesome-markers/2.0.2/leaflet.awesome-markers.js&quot;&gt;&lt;/script&gt;\n",
       "    &lt;link rel=&quot;stylesheet&quot; href=&quot;https://cdn.jsdelivr.net/npm/leaflet@1.9.3/dist/leaflet.css&quot;/&gt;\n",
       "    &lt;link rel=&quot;stylesheet&quot; href=&quot;https://cdn.jsdelivr.net/npm/bootstrap@5.2.2/dist/css/bootstrap.min.css&quot;/&gt;\n",
       "    &lt;link rel=&quot;stylesheet&quot; href=&quot;https://netdna.bootstrapcdn.com/bootstrap/3.0.0/css/bootstrap-glyphicons.css&quot;/&gt;\n",
       "    &lt;link rel=&quot;stylesheet&quot; href=&quot;https://cdn.jsdelivr.net/npm/@fortawesome/fontawesome-free@6.2.0/css/all.min.css&quot;/&gt;\n",
       "    &lt;link rel=&quot;stylesheet&quot; href=&quot;https://cdnjs.cloudflare.com/ajax/libs/Leaflet.awesome-markers/2.0.2/leaflet.awesome-markers.css&quot;/&gt;\n",
       "    &lt;link rel=&quot;stylesheet&quot; href=&quot;https://cdn.jsdelivr.net/gh/python-visualization/folium/folium/templates/leaflet.awesome.rotate.min.css&quot;/&gt;\n",
       "    \n",
       "            &lt;meta name=&quot;viewport&quot; content=&quot;width=device-width,\n",
       "                initial-scale=1.0, maximum-scale=1.0, user-scalable=no&quot; /&gt;\n",
       "            &lt;style&gt;\n",
       "                #map_f956be1a1b5ee1f846f7ba843a36cfd7 {\n",
       "                    position: relative;\n",
       "                    width: 100.0%;\n",
       "                    height: 100.0%;\n",
       "                    left: 0.0%;\n",
       "                    top: 0.0%;\n",
       "                }\n",
       "                .leaflet-container { font-size: 1rem; }\n",
       "            &lt;/style&gt;\n",
       "        \n",
       "    &lt;script src=&quot;https://cdn.jsdelivr.net/gh/python-visualization/folium@main/folium/templates/leaflet_heat.min.js&quot;&gt;&lt;/script&gt;\n",
       "&lt;/head&gt;\n",
       "&lt;body&gt;\n",
       "    \n",
       "    \n",
       "            &lt;div class=&quot;folium-map&quot; id=&quot;map_f956be1a1b5ee1f846f7ba843a36cfd7&quot; &gt;&lt;/div&gt;\n",
       "        \n",
       "&lt;/body&gt;\n",
       "&lt;script&gt;\n",
       "    \n",
       "    \n",
       "            var map_f956be1a1b5ee1f846f7ba843a36cfd7 = L.map(\n",
       "                &quot;map_f956be1a1b5ee1f846f7ba843a36cfd7&quot;,\n",
       "                {\n",
       "                    center: [33.2232, 43.6793],\n",
       "                    crs: L.CRS.EPSG3857,\n",
       "                    ...{\n",
       "  &quot;zoom&quot;: 6,\n",
       "  &quot;zoomControl&quot;: true,\n",
       "  &quot;preferCanvas&quot;: false,\n",
       "}\n",
       "\n",
       "                }\n",
       "            );\n",
       "\n",
       "            \n",
       "\n",
       "        \n",
       "    \n",
       "            var tile_layer_0cfa21091c4f5cd2abc43252b51499bb = L.tileLayer(\n",
       "                &quot;https://tile.openstreetmap.org/{z}/{x}/{y}.png&quot;,\n",
       "                {\n",
       "  &quot;minZoom&quot;: 0,\n",
       "  &quot;maxZoom&quot;: 19,\n",
       "  &quot;maxNativeZoom&quot;: 19,\n",
       "  &quot;noWrap&quot;: false,\n",
       "  &quot;attribution&quot;: &quot;\\u0026copy; \\u003ca href=\\&quot;https://www.openstreetmap.org/copyright\\&quot;\\u003eOpenStreetMap\\u003c/a\\u003e contributors&quot;,\n",
       "  &quot;subdomains&quot;: &quot;abc&quot;,\n",
       "  &quot;detectRetina&quot;: false,\n",
       "  &quot;tms&quot;: false,\n",
       "  &quot;opacity&quot;: 1,\n",
       "}\n",
       "\n",
       "            );\n",
       "        \n",
       "    \n",
       "            tile_layer_0cfa21091c4f5cd2abc43252b51499bb.addTo(map_f956be1a1b5ee1f846f7ba843a36cfd7);\n",
       "        \n",
       "    \n",
       "            var heat_map_ea3eb1f2714cbfc7791f8efea1235dcc = L.heatLayer(\n",
       "                [[30.510054, 47.778095, 2.9901960784313726], [31.044371, 46.261452, -0.009803921568627416], [31.113592, 45.883691, -0.009803921568627416], [31.848217, 47.145203, 0.9901960784313726], [31.98958, 44.923775, 0.9901960784313726], [32.032916, 44.399648, -0.009803921568627416], [32.469238, 44.416637, 1.9901960784313726], [32.533287, 45.829453, -0.009803921568627416], [32.604393, 44.007145, 0.9901960784313726], [32.777344, 44.289352, -0.009803921568627416], [32.887157, 44.341637, -0.009803921568627416], [32.907695, 45.066404, -0.009803921568627416], [33.06163, 44.35386, -0.009803921568627416], [33.100529, 44.584492, 0.9901960784313726], [33.163559, 43.863106, -0.009803921568627416], [33.223114, 44.540776, -0.009803921568627416], [33.303566, 44.371773, 100.99019607843137], [33.31065, 44.038208, -0.009803921568627416], [33.31385, 44.186691, 0.9901960784313726], [33.318595, 44.513997, -0.009803921568627416], [33.349159, 43.784199, 3.9901960784313726], [33.375759, 44.702866, -0.009803921568627416], [33.403057, 43.911865, -0.009803921568627416], [33.420948, 43.295662, 2.9901960784313726], [33.428314, 44.345453, -0.009803921568627416], [33.453312, 43.372253, -0.009803921568627416], [33.540672, 44.251266, 1.9901960784313726], [33.548306, 44.415733, -0.009803921568627416], [33.571807, 44.536067, -0.009803921568627416], [33.633896, 42.832081, -0.009803921568627416], [33.695923, 45.068171, -0.009803921568627416], [33.74324, 44.623825, 3.9901960784313726], [33.848618, 44.522125, 1.9901960784313726], [33.953167, 44.921906, -0.009803921568627416], [33.971349, 44.926682, -0.009803921568627416], [34.010471, 44.148235, 0.9901960784313726], [34.100723, 45.05196, -0.009803921568627416], [34.271034, 45.163567, -0.009803921568627416], [34.477619, 41.920773, -0.009803921568627416], [34.533753, 43.483738, -0.009803921568627416], [34.621521, 43.668377, -0.009803921568627416], [34.705948, 43.697075, -0.009803921568627416], [34.881348, 44.62513, 4.990196078431373], [34.884941, 43.492664, -0.009803921568627416], [34.92485, 43.491413, -0.009803921568627416], [35.0325, 43.646389, 0.9901960784313726], [35.137009, 44.44664, -0.009803921568627416], [35.326122, 43.780811, 0.9901960784313726], [35.45211, 44.375465, 0.9901960784313726], [35.569427, 42.723026, -0.009803921568627416], [35.631498, 43.631421, -0.009803921568627416], [35.672932, 44.070145, 0.9901960784313726], [36.183247, 41.591599, -0.009803921568627416], [36.192589, 44.004623, -0.009803921568627416], [36.319386, 41.861473, 0.9901960784313726], [36.352081, 43.379764, -0.009803921568627416], [36.354145, 43.14357, 17.99019607843137], [36.359535, 43.336533, -0.009803921568627416], [36.373718, 42.451778, 0.9901960784313726], [36.376823, 42.448875, 5.990196078431373], [36.433691, 43.27508, -0.009803921568627416]],\n",
       "                {\n",
       "  &quot;minOpacity&quot;: 0.5,\n",
       "  &quot;maxZoom&quot;: 18,\n",
       "  &quot;radius&quot;: 25,\n",
       "  &quot;blur&quot;: 15,\n",
       "}\n",
       "            );\n",
       "        \n",
       "    \n",
       "            heat_map_ea3eb1f2714cbfc7791f8efea1235dcc.addTo(map_f956be1a1b5ee1f846f7ba843a36cfd7);\n",
       "        \n",
       "    \n",
       "            tile_layer_0cfa21091c4f5cd2abc43252b51499bb.addTo(map_f956be1a1b5ee1f846f7ba843a36cfd7);\n",
       "        \n",
       "    \n",
       "            heat_map_ea3eb1f2714cbfc7791f8efea1235dcc.addTo(map_f956be1a1b5ee1f846f7ba843a36cfd7);\n",
       "        \n",
       "&lt;/script&gt;\n",
       "&lt;/html&gt;\" style=\"position:absolute;width:100%;height:100%;left:0;top:0;border:none !important;\" allowfullscreen webkitallowfullscreen mozallowfullscreen></iframe></div></div>"
      ],
      "text/plain": [
       "<folium.folium.Map at 0x283006b7a80>"
      ]
     },
     "execution_count": 54,
     "metadata": {},
     "output_type": "execute_result"
    }
   ],
   "source": [
    "my_loc2"
   ]
  },
  {
   "cell_type": "markdown",
   "id": "f5084966-15eb-41f9-b079-4e67a616a44c",
   "metadata": {},
   "source": [
    "<h1>3. India, South Asia,Targeting Politician or Political Party Movement/Meeting/Rally with fatality less than 5 using 'Assasination'</h1>"
   ]
  },
  {
   "cell_type": "code",
   "execution_count": 83,
   "id": "715506de-b11c-4af1-b35d-9507510305dc",
   "metadata": {},
   "outputs": [
    {
     "data": {
      "text/html": [
       "<div style=\"width:100%;\"><div style=\"position:relative;width:100%;height:0;padding-bottom:60%;\"><span style=\"color:#565656\">Make this Notebook Trusted to load map: File -> Trust Notebook</span><iframe srcdoc=\"&lt;!DOCTYPE html&gt;\n",
       "&lt;html&gt;\n",
       "&lt;head&gt;\n",
       "    \n",
       "    &lt;meta http-equiv=&quot;content-type&quot; content=&quot;text/html; charset=UTF-8&quot; /&gt;\n",
       "    \n",
       "        &lt;script&gt;\n",
       "            L_NO_TOUCH = false;\n",
       "            L_DISABLE_3D = false;\n",
       "        &lt;/script&gt;\n",
       "    \n",
       "    &lt;style&gt;html, body {width: 100%;height: 100%;margin: 0;padding: 0;}&lt;/style&gt;\n",
       "    &lt;style&gt;#map {position:absolute;top:0;bottom:0;right:0;left:0;}&lt;/style&gt;\n",
       "    &lt;script src=&quot;https://cdn.jsdelivr.net/npm/leaflet@1.9.3/dist/leaflet.js&quot;&gt;&lt;/script&gt;\n",
       "    &lt;script src=&quot;https://code.jquery.com/jquery-3.7.1.min.js&quot;&gt;&lt;/script&gt;\n",
       "    &lt;script src=&quot;https://cdn.jsdelivr.net/npm/bootstrap@5.2.2/dist/js/bootstrap.bundle.min.js&quot;&gt;&lt;/script&gt;\n",
       "    &lt;script src=&quot;https://cdnjs.cloudflare.com/ajax/libs/Leaflet.awesome-markers/2.0.2/leaflet.awesome-markers.js&quot;&gt;&lt;/script&gt;\n",
       "    &lt;link rel=&quot;stylesheet&quot; href=&quot;https://cdn.jsdelivr.net/npm/leaflet@1.9.3/dist/leaflet.css&quot;/&gt;\n",
       "    &lt;link rel=&quot;stylesheet&quot; href=&quot;https://cdn.jsdelivr.net/npm/bootstrap@5.2.2/dist/css/bootstrap.min.css&quot;/&gt;\n",
       "    &lt;link rel=&quot;stylesheet&quot; href=&quot;https://netdna.bootstrapcdn.com/bootstrap/3.0.0/css/bootstrap-glyphicons.css&quot;/&gt;\n",
       "    &lt;link rel=&quot;stylesheet&quot; href=&quot;https://cdn.jsdelivr.net/npm/@fortawesome/fontawesome-free@6.2.0/css/all.min.css&quot;/&gt;\n",
       "    &lt;link rel=&quot;stylesheet&quot; href=&quot;https://cdnjs.cloudflare.com/ajax/libs/Leaflet.awesome-markers/2.0.2/leaflet.awesome-markers.css&quot;/&gt;\n",
       "    &lt;link rel=&quot;stylesheet&quot; href=&quot;https://cdn.jsdelivr.net/gh/python-visualization/folium/folium/templates/leaflet.awesome.rotate.min.css&quot;/&gt;\n",
       "    \n",
       "            &lt;meta name=&quot;viewport&quot; content=&quot;width=device-width,\n",
       "                initial-scale=1.0, maximum-scale=1.0, user-scalable=no&quot; /&gt;\n",
       "            &lt;style&gt;\n",
       "                #map_bd1f44c57b5b34868db14da2f601e02c {\n",
       "                    position: relative;\n",
       "                    width: 100.0%;\n",
       "                    height: 100.0%;\n",
       "                    left: 0.0%;\n",
       "                    top: 0.0%;\n",
       "                }\n",
       "                .leaflet-container { font-size: 1rem; }\n",
       "            &lt;/style&gt;\n",
       "        \n",
       "    &lt;script src=&quot;https://cdn.jsdelivr.net/gh/python-visualization/folium@main/folium/templates/leaflet_heat.min.js&quot;&gt;&lt;/script&gt;\n",
       "&lt;/head&gt;\n",
       "&lt;body&gt;\n",
       "    \n",
       "    \n",
       "            &lt;div class=&quot;folium-map&quot; id=&quot;map_bd1f44c57b5b34868db14da2f601e02c&quot; &gt;&lt;/div&gt;\n",
       "        \n",
       "&lt;/body&gt;\n",
       "&lt;script&gt;\n",
       "    \n",
       "    \n",
       "            var map_bd1f44c57b5b34868db14da2f601e02c = L.map(\n",
       "                &quot;map_bd1f44c57b5b34868db14da2f601e02c&quot;,\n",
       "                {\n",
       "                    center: [20.5937, 78.9629],\n",
       "                    crs: L.CRS.EPSG3857,\n",
       "                    ...{\n",
       "  &quot;zoom&quot;: 5,\n",
       "  &quot;zoomControl&quot;: true,\n",
       "  &quot;preferCanvas&quot;: false,\n",
       "}\n",
       "\n",
       "                }\n",
       "            );\n",
       "\n",
       "            \n",
       "\n",
       "        \n",
       "    \n",
       "            var tile_layer_7078f3aec18616191ab2b03178409a08 = L.tileLayer(\n",
       "                &quot;https://tile.openstreetmap.org/{z}/{x}/{y}.png&quot;,\n",
       "                {\n",
       "  &quot;minZoom&quot;: 0,\n",
       "  &quot;maxZoom&quot;: 19,\n",
       "  &quot;maxNativeZoom&quot;: 19,\n",
       "  &quot;noWrap&quot;: false,\n",
       "  &quot;attribution&quot;: &quot;\\u0026copy; \\u003ca href=\\&quot;https://www.openstreetmap.org/copyright\\&quot;\\u003eOpenStreetMap\\u003c/a\\u003e contributors&quot;,\n",
       "  &quot;subdomains&quot;: &quot;abc&quot;,\n",
       "  &quot;detectRetina&quot;: false,\n",
       "  &quot;tms&quot;: false,\n",
       "  &quot;opacity&quot;: 1,\n",
       "}\n",
       "\n",
       "            );\n",
       "        \n",
       "    \n",
       "            tile_layer_7078f3aec18616191ab2b03178409a08.addTo(map_bd1f44c57b5b34868db14da2f601e02c);\n",
       "        \n",
       "    \n",
       "            var heat_map_3c67c5bc9db98f9ff9343d7f84a77472 = L.heatLayer(\n",
       "                [[8.864636, 77.496008, -0.09999999999999998], [10.815278, 78.696389, -0.09999999999999998], [12.844527, 79.136824, -0.09999999999999998], [12.966668, 79.946784, -0.09999999999999998], [12.971599, 77.594563, -0.09999999999999998], [14.146319, 79.850389, -0.09999999999999998], [14.414722, 77.719722, -0.09999999999999998], [15.44858, 74.98809, -0.09999999999999998], [15.505723, 80.049922, -0.09999999999999998], [16.387372, 79.292838, -0.09999999999999998], [16.690933, 79.567945, -0.09999999999999998], [17.008969, 74.865333, -0.09999999999999998], [17.571202, 80.102984, -0.09999999999999998], [17.930096, 81.076845, -0.09999999999999998], [18.22236, 78.605883, -0.09999999999999998], [18.281494, 81.201225, -0.09999999999999998], [18.324444, 83.436667, -0.09999999999999998], [18.363526, 81.895253, 0.8999999999999999], [18.390225, 82.740233, -0.09999999999999998], [18.472689, 82.31917, -0.09999999999999998], [18.606524, 81.969846, -0.09999999999999998], [18.761626, 81.382558, -0.09999999999999998], [18.768007, 82.233881, -0.09999999999999998], [18.769297, 82.036808, -0.09999999999999998], [18.769489, 82.036771, -0.09999999999999998], [18.775175, 80.536697, -0.09999999999999998], [18.791084, 81.287669, -0.09999999999999998], [18.860831, 80.721442, -0.09999999999999998], [18.875916, 80.709835, -0.09999999999999998], [18.9, 81.35, 0.8999999999999999], [18.995978, 82.62798, -0.09999999999999998], [19.075984, 72.877656, -0.09999999999999998], [19.121472, 81.868666, -0.09999999999999998], [19.1774, 83.583695, -0.09999999999999998], [19.186766, 81.923593, -0.09999999999999998], [19.203477, 81.934532, -0.09999999999999998], [19.20872, 81.991475, -0.09999999999999998], [19.236662, 80.360288, -0.09999999999999998], [19.281255, 73.048291, -0.09999999999999998], [19.41861, 83.812917, -0.09999999999999998], [19.715202, 80.588744, -0.09999999999999998], [19.913736, 83.1649, -0.09999999999999998], [20.184871, 79.994796, -0.09999999999999998], [20.225002, 85.418406, -0.09999999999999998], [20.317241, 81.269729, -0.09999999999999998], [20.883056, 83.336111, -0.09999999999999998], [20.951665, 85.098524, -0.09999999999999998], [21.110209, 73.396993, -0.09999999999999998], [21.396664, 80.660561, -0.09999999999999998], [22.057437, 78.938173, -0.09999999999999998], [22.16034, 88.378559, -0.09999999999999998], [22.209761, 86.894348, -0.09999999999999998], [22.455017, 86.997477, -0.09999999999999998], [22.462537, 85.520024, -0.09999999999999998], [22.621222, 86.893526, -0.09999999999999998], [22.636028, 88.274045, -0.09999999999999998], [22.864679, 85.325553, -0.09999999999999998], [22.875122, 86.505971, -0.09999999999999998], [23.107772, 85.288446, -0.09999999999999998], [23.232415, 87.078604, -0.09999999999999998], [23.23243, 87.863731, -0.09999999999999998], [23.365247, 93.385508, -0.09999999999999998], [23.380243, 85.318145, -0.09999999999999998], [23.711473, 91.457648, -0.09999999999999998], [23.727107, 92.717639, -0.09999999999999998], [23.788266, 87.265564, -0.09999999999999998], [23.831862, 91.287127, -0.09999999999999998], [23.833807, 84.782531, -0.09999999999999998], [23.844004, 75.50702, -0.09999999999999998], [23.939938, 86.271475, -0.09999999999999998], [23.940848, 91.988153, -0.09999999999999998], [24.072249, 83.833874, -0.09999999999999998], [24.383792, 94.148177, -0.09999999999999998], [24.5, 93.77, -0.09999999999999998], [24.533599, 84.000216, -0.09999999999999998], [24.590142, 92.382596, -0.09999999999999998], [24.602707, 86.221308, -0.09999999999999998], [24.640415, 94.07408, -0.09999999999999998], [24.644924, 93.99929, -0.09999999999999998], [24.663717, 93.906269, 0.8999999999999999], [24.749905, 84.370896, -0.09999999999999998], [24.752444, 94.043655, -0.09999999999999998], [24.753889, 80.831111, -0.09999999999999998], [24.764287, 93.828897, -0.09999999999999998], [24.767192, 86.33425, -0.09999999999999998], [24.798346, 93.94043, 3.9000000000000004], [24.883964, 93.919673, -0.09999999999999998], [24.931276, 94.476471, -0.09999999999999998], [24.941559, 94.213225, -0.09999999999999998], [25.019456, 88.27744, -0.09999999999999998], [25.078006, 86.222193, -0.09999999999999998], [25.096074, 85.313119, 1.9], [25.173889, 77.688333, -0.09999999999999998], [25.317645, 82.973914, -0.09999999999999998], [25.4, 88.516667, -0.09999999999999998], [25.478986, 94.134744, -0.09999999999999998], [25.569805, 83.794681, -0.09999999999999998], [25.591305, 91.869655, -0.09999999999999998], [25.67012, 94.107633, -0.09999999999999998], [25.838593, 84.579224, -0.09999999999999998], [25.862914, 85.780901, -0.09999999999999998], [26.073704, 83.185946, -0.09999999999999998], [26.149794, 91.763931, -0.09999999999999998], [26.151944, 85.896944, -0.09999999999999998], [26.15308, 83.332413, -0.09999999999999998], [26.158435, 94.562443, 0.8999999999999999], [26.200605, 92.937574, -0.09999999999999998], [26.236916, 92.608133, -0.09999999999999998], [26.449923, 80.331874, -0.09999999999999998], [26.605271, 93.634392, -0.09999999999999998], [26.83565, 92.865192, -0.09999999999999998], [26.846709, 80.946159, -0.09999999999999998], [26.912434, 75.787271, -0.09999999999999998], [26.921496, 94.757245, -0.09999999999999998], [26.926951, 94.74266, -0.09999999999999998], [27.567739, 95.557243, -0.09999999999999998], [28.160465, 77.25632, -0.09999999999999998], [28.552546, 77.555003, -0.09999999999999998], [28.585836, 77.153336, 1.9], [28.606951, 76.990486, -0.09999999999999998], [28.690073, 77.213982, 0.8999999999999999], [28.70226, 77.107548, -0.09999999999999998], [28.984462, 77.706414, 0.8999999999999999], [28.998986, 77.783091, -0.09999999999999998], [29.230103, 77.070837, -0.09999999999999998], [30.194464, 75.681513, -0.09999999999999998], [30.210994, 74.945475, -0.09999999999999998], [30.450829, 74.882875, -0.09999999999999998], [30.733315, 76.779418, 3.9000000000000004], [30.805, 76.408333, -0.09999999999999998], [30.898024, 75.860077, 4.9], [30.924167, 75.427222, -0.09999999999999998], [30.954424, 74.612085, 0.8999999999999999], [31.057879, 76.300042, -0.09999999999999998], [31.147131, 75.341218, 7.9], [31.175476, 75.931082, -0.09999999999999998], [31.22402, 75.770801, -0.09999999999999998], [31.311023, 75.634982, -0.09999999999999998], [31.326015, 75.576183, 0.8999999999999999], [31.448943, 74.925262, -0.09999999999999998], [31.513953, 75.345144, -0.09999999999999998], [31.524624, 75.905947, -0.09999999999999998], [31.534018, 75.253059, -0.09999999999999998], [31.534899, 75.910571, -0.09999999999999998], [31.610878, 75.470885, -0.09999999999999998], [31.633078, 74.878288, 8.9], [31.633979, 74.872264, -0.09999999999999998], [31.82286, 76.211699, -0.09999999999999998], [31.864464, 74.955923, -0.09999999999999998], [31.958504, 75.323245, -0.09999999999999998], [32.040763, 75.401886, -0.09999999999999998], [32.553009, 75.110753, -0.09999999999999998], [32.726602, 74.857026, -0.09999999999999998], [32.8975, 74.893056, -0.09999999999999998], [33.142224, 75.547321, -0.09999999999999998], [33.14575, 75.548049, -0.09999999999999998], [33.242724, 75.239159, -0.09999999999999998], [33.313294, 75.763367, -0.09999999999999998], [33.334514, 75.715342, -0.09999999999999998], [33.594877, 75.165875, -0.09999999999999998], [33.64542, 75.019676, -0.09999999999999998], [33.668562, 75.050893, -0.09999999999999998], [33.721287, 74.831062, -0.09999999999999998], [33.729618, 75.108563, -0.09999999999999998], [33.731125, 75.148701, -0.09999999999999998], [33.732216, 75.157913, 1.9], [33.744053, 74.910647, -0.09999999999999998], [33.758958, 75.042109, -0.09999999999999998], [33.760419, 75.210008, -0.09999999999999998], [33.768445, 74.819283, -0.09999999999999998], [33.778175, 76.576171, 1.9], [33.857835, 75.049798, -0.09999999999999998], [33.86652, 74.864548, -0.09999999999999998], [33.871287, 75.006408, -0.09999999999999998], [33.871517, 74.89955, 0.8999999999999999], [33.874027, 74.901505, -0.09999999999999998], [33.879987, 74.927946, -0.09999999999999998], [33.904121, 75.085403, -0.09999999999999998], [33.931011, 75.114212, 2.9], [33.951888, 74.929642, -0.09999999999999998], [33.991776, 75.07489, -0.09999999999999998], [33.99694, 74.913338, -0.09999999999999998], [34.009911, 74.603325, -0.09999999999999998], [34.08374, 74.789902, 8.9], [34.084253, 74.504122, -0.09999999999999998], [34.095217, 74.636749, -0.09999999999999998], [34.12983, 74.837554, -0.09999999999999998], [34.161541, 74.553093, -0.09999999999999998], [34.182659, 74.547279, -0.09999999999999998], [34.205141, 74.349494, -0.09999999999999998], [34.211864, 74.770804, -0.09999999999999998], [34.264018, 74.901055, -0.09999999999999998], [34.288891, 74.463715, 1.9], [34.297985, 74.615303, -0.09999999999999998], [34.358352, 74.433482, -0.09999999999999998], [34.359687, 73.471054, -0.09999999999999998], [34.364525, 74.389854, -0.09999999999999998], [34.374612, 74.449661, -0.09999999999999998], [34.526179, 74.254614, 0.8999999999999999]],\n",
       "                {\n",
       "  &quot;minOpacity&quot;: 0.5,\n",
       "  &quot;maxZoom&quot;: 18,\n",
       "  &quot;radius&quot;: 25,\n",
       "  &quot;blur&quot;: 15,\n",
       "}\n",
       "            );\n",
       "        \n",
       "    \n",
       "            heat_map_3c67c5bc9db98f9ff9343d7f84a77472.addTo(map_bd1f44c57b5b34868db14da2f601e02c);\n",
       "        \n",
       "    \n",
       "            tile_layer_7078f3aec18616191ab2b03178409a08.addTo(map_bd1f44c57b5b34868db14da2f601e02c);\n",
       "        \n",
       "    \n",
       "            heat_map_3c67c5bc9db98f9ff9343d7f84a77472.addTo(map_bd1f44c57b5b34868db14da2f601e02c);\n",
       "        \n",
       "&lt;/script&gt;\n",
       "&lt;/html&gt;\" style=\"position:absolute;width:100%;height:100%;left:0;top:0;border:none !important;\" allowfullscreen webkitallowfullscreen mozallowfullscreen></iframe></div></div>"
      ],
      "text/plain": [
       "<folium.folium.Map at 0x2830067a580>"
      ]
     },
     "execution_count": 83,
     "metadata": {},
     "output_type": "execute_result"
    }
   ],
   "source": [
    "my_loc3"
   ]
  },
  {
   "cell_type": "markdown",
   "id": "04464de2-10fe-483a-9151-7b23fd54dd4a",
   "metadata": {},
   "source": [
    "<h1>4. Afghanistan, South Asia,Targeting Police Security Forces/Officers with fatality less than 5 using 'Bombing/Explosion'</h1>"
   ]
  },
  {
   "cell_type": "code",
   "execution_count": 122,
   "id": "c623abaf-a993-4ac5-9ad2-7e1c2499ea8f",
   "metadata": {},
   "outputs": [
    {
     "data": {
      "text/html": [
       "<div style=\"width:100%;\"><div style=\"position:relative;width:100%;height:0;padding-bottom:60%;\"><span style=\"color:#565656\">Make this Notebook Trusted to load map: File -> Trust Notebook</span><iframe srcdoc=\"&lt;!DOCTYPE html&gt;\n",
       "&lt;html&gt;\n",
       "&lt;head&gt;\n",
       "    \n",
       "    &lt;meta http-equiv=&quot;content-type&quot; content=&quot;text/html; charset=UTF-8&quot; /&gt;\n",
       "    \n",
       "        &lt;script&gt;\n",
       "            L_NO_TOUCH = false;\n",
       "            L_DISABLE_3D = false;\n",
       "        &lt;/script&gt;\n",
       "    \n",
       "    &lt;style&gt;html, body {width: 100%;height: 100%;margin: 0;padding: 0;}&lt;/style&gt;\n",
       "    &lt;style&gt;#map {position:absolute;top:0;bottom:0;right:0;left:0;}&lt;/style&gt;\n",
       "    &lt;script src=&quot;https://cdn.jsdelivr.net/npm/leaflet@1.9.3/dist/leaflet.js&quot;&gt;&lt;/script&gt;\n",
       "    &lt;script src=&quot;https://code.jquery.com/jquery-3.7.1.min.js&quot;&gt;&lt;/script&gt;\n",
       "    &lt;script src=&quot;https://cdn.jsdelivr.net/npm/bootstrap@5.2.2/dist/js/bootstrap.bundle.min.js&quot;&gt;&lt;/script&gt;\n",
       "    &lt;script src=&quot;https://cdnjs.cloudflare.com/ajax/libs/Leaflet.awesome-markers/2.0.2/leaflet.awesome-markers.js&quot;&gt;&lt;/script&gt;\n",
       "    &lt;link rel=&quot;stylesheet&quot; href=&quot;https://cdn.jsdelivr.net/npm/leaflet@1.9.3/dist/leaflet.css&quot;/&gt;\n",
       "    &lt;link rel=&quot;stylesheet&quot; href=&quot;https://cdn.jsdelivr.net/npm/bootstrap@5.2.2/dist/css/bootstrap.min.css&quot;/&gt;\n",
       "    &lt;link rel=&quot;stylesheet&quot; href=&quot;https://netdna.bootstrapcdn.com/bootstrap/3.0.0/css/bootstrap-glyphicons.css&quot;/&gt;\n",
       "    &lt;link rel=&quot;stylesheet&quot; href=&quot;https://cdn.jsdelivr.net/npm/@fortawesome/fontawesome-free@6.2.0/css/all.min.css&quot;/&gt;\n",
       "    &lt;link rel=&quot;stylesheet&quot; href=&quot;https://cdnjs.cloudflare.com/ajax/libs/Leaflet.awesome-markers/2.0.2/leaflet.awesome-markers.css&quot;/&gt;\n",
       "    &lt;link rel=&quot;stylesheet&quot; href=&quot;https://cdn.jsdelivr.net/gh/python-visualization/folium/folium/templates/leaflet.awesome.rotate.min.css&quot;/&gt;\n",
       "    \n",
       "            &lt;meta name=&quot;viewport&quot; content=&quot;width=device-width,\n",
       "                initial-scale=1.0, maximum-scale=1.0, user-scalable=no&quot; /&gt;\n",
       "            &lt;style&gt;\n",
       "                #map_2918efed3c5f2037509a22e6709a4898 {\n",
       "                    position: relative;\n",
       "                    width: 100.0%;\n",
       "                    height: 100.0%;\n",
       "                    left: 0.0%;\n",
       "                    top: 0.0%;\n",
       "                }\n",
       "                .leaflet-container { font-size: 1rem; }\n",
       "            &lt;/style&gt;\n",
       "        \n",
       "    &lt;script src=&quot;https://cdn.jsdelivr.net/gh/python-visualization/folium@main/folium/templates/leaflet_heat.min.js&quot;&gt;&lt;/script&gt;\n",
       "&lt;/head&gt;\n",
       "&lt;body&gt;\n",
       "    \n",
       "    \n",
       "            &lt;div class=&quot;folium-map&quot; id=&quot;map_2918efed3c5f2037509a22e6709a4898&quot; &gt;&lt;/div&gt;\n",
       "        \n",
       "&lt;/body&gt;\n",
       "&lt;script&gt;\n",
       "    \n",
       "    \n",
       "            var map_2918efed3c5f2037509a22e6709a4898 = L.map(\n",
       "                &quot;map_2918efed3c5f2037509a22e6709a4898&quot;,\n",
       "                {\n",
       "                    center: [33.9391, 67.71],\n",
       "                    crs: L.CRS.EPSG3857,\n",
       "                    ...{\n",
       "  &quot;zoom&quot;: 6,\n",
       "  &quot;zoomControl&quot;: true,\n",
       "  &quot;preferCanvas&quot;: false,\n",
       "}\n",
       "\n",
       "                }\n",
       "            );\n",
       "\n",
       "            \n",
       "\n",
       "        \n",
       "    \n",
       "            var tile_layer_c8184cc553e1e52a6f41021946a09f3d = L.tileLayer(\n",
       "                &quot;https://tile.openstreetmap.org/{z}/{x}/{y}.png&quot;,\n",
       "                {\n",
       "  &quot;minZoom&quot;: 0,\n",
       "  &quot;maxZoom&quot;: 19,\n",
       "  &quot;maxNativeZoom&quot;: 19,\n",
       "  &quot;noWrap&quot;: false,\n",
       "  &quot;attribution&quot;: &quot;\\u0026copy; \\u003ca href=\\&quot;https://www.openstreetmap.org/copyright\\&quot;\\u003eOpenStreetMap\\u003c/a\\u003e contributors&quot;,\n",
       "  &quot;subdomains&quot;: &quot;abc&quot;,\n",
       "  &quot;detectRetina&quot;: false,\n",
       "  &quot;tms&quot;: false,\n",
       "  &quot;opacity&quot;: 1,\n",
       "}\n",
       "\n",
       "            );\n",
       "        \n",
       "    \n",
       "            tile_layer_c8184cc553e1e52a6f41021946a09f3d.addTo(map_2918efed3c5f2037509a22e6709a4898);\n",
       "        \n",
       "    \n",
       "            var heat_map_fef10c8b25940b1cf22628f0380e9bca = L.heatLayer(\n",
       "                [[30.134523, 62.262663, -0.0625], [30.509551, 64.269748, -0.0625], [30.622013, 64.031136, 0.9375], [30.869041, 66.141526, -0.0625], [30.911544, 64.150589, -0.0625], [30.959932, 61.86895, 0.9375], [30.974178, 66.437027, -0.0625], [30.996068, 65.475736, 0.9375], [31.002735, 66.405617, 0.9375], [31.024308, 65.190731, -0.0625], [31.074961, 62.572532, -0.0625], [31.1225, 64.204722, -0.0625], [31.12649, 65.753784, -0.0625], [31.25712, 65.620797, -0.0625], [31.363647, 63.958611, 2.9375], [31.46123, 66.52239, -0.0625], [31.467463, 64.092445, -0.0625], [31.516389, 65.171667, -0.0625], [31.517426, 64.114018, -0.0625], [31.547778, 65.454167, -0.0625], [31.550039, 65.45263, -0.0625], [31.571955, 65.741539, -0.0625], [31.57276, 67.042618, -0.0625], [31.60063, 64.369652, 11.9375], [31.605988, 64.33476, -0.0625], [31.61088, 65.700272, -0.0625], [31.611349, 64.46966, -0.0625], [31.617667, 65.675942, -0.0625], [31.622276, 65.054543, -0.0625], [31.631083, 65.742226, 14.9375], [31.6364, 64.243576, -0.0625], [31.637821, 64.237801, -0.0625], [31.64, 64.24, -0.0625], [31.705032, 65.689628, -0.0625], [31.750286, 67.316571, -0.0625], [31.765989, 64.47538, -0.0625], [31.78801, 65.570785, -0.0625], [31.80262, 66.324715, -0.0625], [31.825871, 64.576431, 4.9375], [31.829586, 61.230701, -0.0625], [31.908191, 67.158049, -0.0625], [31.911111, 65.475278, -0.0625], [32.049116, 64.861511, -0.0625], [32.073266, 66.142974, -0.0625], [32.073333, 64.833889, 3.9375], [32.074078, 66.141526, 0.9375], [32.074429, 64.78363, -0.0625], [32.100204, 66.901016, 6.9375], [32.115662, 66.570016, -0.0625], [32.131993, 61.2802, -0.0625], [32.134858, 65.005053, -0.0625], [32.164997, 63.425297, 0.9375], [32.175856, 66.517182, -0.0625], [32.191878, 67.189449, -0.0625], [32.207525, 68.333326, -0.0625], [32.241694, 62.947807, -0.0625], [32.264539, 68.524715, -0.0625], [32.270119, 65.049683, -0.0625], [32.29097, 61.543044, -0.0625], [32.311872, 64.811084, -0.0625], [32.363889, 64.781443, -0.0625], [32.37001, 62.128456, 0.9375], [32.405702, 64.470381, -0.0625], [32.453618, 62.077378, -0.0625], [32.453788, 62.031136, 0.9375], [32.495138, 62.057602, -0.0625], [32.495224, 62.260232, -0.0625], [32.49538, 62.262914, -0.0625], [32.50368, 67.475491, -0.0625], [32.509722, 68.855833, -0.0625], [32.519241, 67.416481, -0.0625], [32.547035, 65.999489, -0.0625], [32.548356, 65.951199, -0.0625], [32.580577, 65.993058, -0.0625], [32.611717, 62.520332, -0.0625], [32.61797, 65.872375, 8.9375], [32.623739, 65.456432, 0.9375], [32.655556, 65.893611, -0.0625], [32.672674, 68.512346, -0.0625], [32.676951, 61.981323, -0.0625], [32.684715, 68.238403, -0.0625], [32.704877, 62.737203, -0.0625], [32.7334, 66.26788, -0.0625], [32.751478, 68.569579, -0.0625], [32.76073, 68.393324, -0.0625], [32.767164, 62.649985, -0.0625], [32.779173, 66.491765, -0.0625], [32.787478, 62.750543, -0.0625], [32.80358, 69.360127, -0.0625], [32.81493, 67.766708, -0.0625], [32.840701, 67.799221, -0.0625], [32.847222, 66.05, 0.9375], [32.861513, 69.126826, -0.0625], [32.889975, 68.822226, -0.0625], [32.92204, 68.649842, -0.0625], [32.922049, 65.623048, -0.0625], [32.9225, 65.623056, -0.0625], [32.927129, 66.141526, 2.9375], [32.93022, 66.225483, -0.0625], [32.936526, 68.647303, 0.9375], [32.948845, 65.602638, -0.0625], [32.9833, 67.9666, -0.0625], [33.004057, 69.047592, -0.0625], [33.0075, 67.994444, -0.0625], [33.051716, 68.014961, -0.0625], [33.100488, 69.020833, -0.0625], [33.117102, 69.01742, -0.0625], [33.123333, 67.977222, -0.0625], [33.142355, 68.383972, -0.0625], [33.153987, 62.144217, -0.0625], [33.1782, 68.752533, -0.0625], [33.19211, 68.102054, -0.0625], [33.193665, 68.102002, 0.9375], [33.242222, 69.828056, -0.0625], [33.242649, 65.465033, -0.0625], [33.245309, 68.953959, -0.0625], [33.25, 67.583333, -0.0625], [33.262093, 68.568531, -0.0625], [33.26308, 68.572411, -0.0625], [33.266693, 62.356516, 0.9375], [33.305853, 62.156453, -0.0625], [33.306695, 69.871653, -0.0625], [33.307049, 62.136421, -0.0625], [33.314854, 68.412331, -0.0625], [33.325372, 68.422627, -0.0625], [33.333847, 69.937167, -0.0625], [33.335258, 69.928467, 8.9375], [33.3364, 69.9814, -0.0625], [33.358508, 69.859741, 0.9375], [33.446944, 70.228333, -0.0625], [33.449841, 70.064041, -0.0625], [33.458527, 69.995087, -0.0625], [33.465833, 70.091111, -0.0625], [33.471867, 68.648365, -0.0625], [33.474722, 68.653333, -0.0625], [33.513561, 62.25808, -0.0625], [33.542622, 68.415329, 11.9375], [33.561667, 62.277222, -0.0625], [33.564058, 69.931212, -0.0625], [33.569174, 69.717773, -0.0625], [33.59811, 69.224297, -0.0625], [33.598633, 69.228996, 3.9375], [33.63591, 62.266621, 0.9375], [33.64001, 70.078333, -0.0625], [33.644494, 62.267854, -0.0625], [33.666285, 69.786029, -0.0625], [33.69645, 68.14658, -0.0625], [33.706199, 69.383108, -0.0625], [33.741026, 68.939036, -0.0625], [33.773052, 69.339406, -0.0625], [33.794348, 69.800511, -0.0625], [33.802319, 69.834155, -0.0625], [33.84363, 68.612347, -0.0625], [33.894321, 68.760137, -0.0625], [33.937279, 68.924347, -0.0625], [33.966155, 69.806133, -0.0625], [33.967222, 68.949167, -0.0625], [33.96924, 68.944634, -0.0625], [34.021194, 68.999535, 1.9375], [34.037983, 69.021027, -0.0625], [34.099578, 64.905955, 0.9375], [34.111003, 64.317224, -0.0625], [34.143281, 70.607179, 0.9375], [34.171831, 70.621679, -0.0625], [34.184542, 61.69836, -0.0625], [34.187222, 70.823056, -0.0625], [34.195751, 70.786385, -0.0625], [34.214399, 71.025767, -0.0625], [34.229213, 70.193208, 0.9375], [34.229996, 70.191786, -0.0625], [34.230237, 70.410004, -0.0625], [34.246376, 68.290897, -0.0625], [34.247319, 70.202316, -0.0625], [34.265077, 70.734861, -0.0625], [34.27323, 70.074132, -0.0625], [34.278835, 69.883588, -0.0625], [34.308429, 62.29855, -0.0625], [34.328977, 70.407486, 1.9375], [34.338022, 63.367503, -0.0625], [34.346722, 62.197315, 1.9375], [34.356389, 68.739444, -0.0625], [34.358317, 70.223408, -0.0625], [34.368889, 69.218333, -0.0625], [34.370814, 63.19768, -0.0625], [34.374514, 62.174873, -0.0625], [34.391319, 68.840244, -0.0625], [34.403112, 68.857168, -0.0625], [34.406427, 70.359876, -0.0625], [34.417122, 70.449593, 10.9375], [34.472681, 68.667803, -0.0625], [34.516895, 69.147011, 5.9375], [34.577492, 70.592918, -0.0625], [34.591139, 68.95694, -0.0625], [34.656868, 61.109692, -0.0625], [34.667947, 61.168442, -0.0625], [34.674866, 70.21344, 0.9375], [34.693975, 70.917842, -0.0625], [34.783199, 70.107997, -0.0625], [34.789237, 71.108397, -0.0625], [34.789745, 71.111926, -0.0625], [34.801713, 71.216143, -0.0625], [34.807928, 61.942375, -0.0625], [34.816667, 70.35, -0.0625], [34.846589, 71.097317, 0.9375], [34.85, 63.643056, -0.0625], [34.85581, 70.104692, -0.0625], [34.870264, 71.217194, -0.0625], [34.875656, 71.152008, -0.0625], [34.915846, 71.196343, -0.0625], [34.920176, 70.764424, -0.0625], [34.944168, 69.273331, -0.0625], [34.947472, 69.4605, -0.0625], [34.956696, 70.75236, -0.0625], [34.966667, 69.566667, -0.0625], [34.983333, 63.533333, -0.0625], [34.988941, 70.911217, -0.0625], [35.002193, 71.406188, -0.0625], [35.015114, 69.348755, -0.0625], [35.016469, 69.61431, -0.0625], [35.115813, 69.07318, 0.9375], [35.145475, 65.048244, -0.0625], [35.183333, 70.983333, -0.0625], [35.225369, 71.528625, -0.0625], [35.266389, 71.540556, -0.0625], [35.302047, 71.538302, -0.0625], [35.325022, 70.907124, 0.9375], [35.353762, 64.587107, -0.0625], [35.4383, 65.9365, -0.0625], [35.5938, 63.335419, -0.0625], [35.598206, 64.763659, -0.0625], [35.598298, 64.762182, -0.0625], [35.627754, 64.83728, -0.0625], [35.695, 64.367778, -0.0625], [35.71907, 64.105629, -0.0625], [35.73941, 63.782474, -0.0625], [35.804295, 69.287754, 1.9375], [35.809092, 68.549566, -0.0625], [35.845912, 64.918892, -0.0625], [35.846222, 64.533431, -0.0625], [35.848987, 64.242339, -0.0625], [35.857001, 64.550338, -0.0625], [35.85759, 64.507393, -0.0625], [35.921051, 64.774544, -0.0625], [35.947552, 68.710327, 4.9375], [35.95, 68.7, -0.0625], [35.975346, 65.378044, -0.0625], [35.9772, 65.378166, -0.0625], [35.996459, 65.351994, -0.0625], [36.070389, 69.106918, -0.0625], [36.075573, 69.117805, -0.0625], [36.093483, 64.848938, -0.0625], [36.102628, 65.38071, -0.0625], [36.165382, 66.090942, -0.0625], [36.178903, 68.745306, -0.0625], [36.252582, 68.686209, -0.0625], [36.290184, 64.89045, -0.0625], [36.373503, 66.881346, -0.0625], [36.474533, 66.951162, -0.0625], [36.525714, 65.08167, -0.0625], [36.630605, 68.810885, -0.0625], [36.669801, 69.478454, -0.0625], [36.674671, 65.748405, 1.9375], [36.677784, 66.674957, -0.0625], [36.680279, 69.112038, -0.0625], [36.6933, 68.8014, -0.0625], [36.694511, 68.801575, -0.0625], [36.705776, 68.87706, 6.9375], [36.733459, 69.537758, -0.0625], [36.750118, 66.897842, -0.0625], [36.75506, 66.897537, -0.0625], [36.756178, 66.724215, 0.9375], [36.764954, 68.945282, -0.0625], [36.76519, 68.798782, 0.9375], [36.818111, 70.097702, -0.0625], [36.881667, 70.276667, -0.0625], [36.896969, 65.665857, 0.9375], [36.958971, 69.147324, -0.0625], [36.996632, 68.434822, -0.0625], [37.10962, 68.953959, -0.0625], [37.298889, 70.563889, -0.0625], [37.330139, 66.811897, -0.0625], [37.52705, 65.760803, -0.0625]],\n",
       "                {\n",
       "  &quot;minOpacity&quot;: 0.5,\n",
       "  &quot;maxZoom&quot;: 18,\n",
       "  &quot;radius&quot;: 25,\n",
       "  &quot;blur&quot;: 15,\n",
       "}\n",
       "            );\n",
       "        \n",
       "    \n",
       "            heat_map_fef10c8b25940b1cf22628f0380e9bca.addTo(map_2918efed3c5f2037509a22e6709a4898);\n",
       "        \n",
       "    \n",
       "            tile_layer_c8184cc553e1e52a6f41021946a09f3d.addTo(map_2918efed3c5f2037509a22e6709a4898);\n",
       "        \n",
       "    \n",
       "            heat_map_fef10c8b25940b1cf22628f0380e9bca.addTo(map_2918efed3c5f2037509a22e6709a4898);\n",
       "        \n",
       "&lt;/script&gt;\n",
       "&lt;/html&gt;\" style=\"position:absolute;width:100%;height:100%;left:0;top:0;border:none !important;\" allowfullscreen webkitallowfullscreen mozallowfullscreen></iframe></div></div>"
      ],
      "text/plain": [
       "<folium.folium.Map at 0x2831556c650>"
      ]
     },
     "execution_count": 122,
     "metadata": {},
     "output_type": "execute_result"
    }
   ],
   "source": [
    "my_loc4"
   ]
  },
  {
   "cell_type": "markdown",
   "id": "064c43a6-183e-40e7-9421-19fa5a8cfc94",
   "metadata": {},
   "source": [
    "<h1>5. Colombia, South America,Targeting Military Unit/Patrol/Convoy with fatality less than 5 using 'Armed Assault'</h1>"
   ]
  },
  {
   "cell_type": "code",
   "execution_count": 123,
   "id": "8982a509-d906-49e4-9149-7e767e5766dd",
   "metadata": {},
   "outputs": [
    {
     "data": {
      "text/html": [
       "<div style=\"width:100%;\"><div style=\"position:relative;width:100%;height:0;padding-bottom:60%;\"><span style=\"color:#565656\">Make this Notebook Trusted to load map: File -> Trust Notebook</span><iframe srcdoc=\"&lt;!DOCTYPE html&gt;\n",
       "&lt;html&gt;\n",
       "&lt;head&gt;\n",
       "    \n",
       "    &lt;meta http-equiv=&quot;content-type&quot; content=&quot;text/html; charset=UTF-8&quot; /&gt;\n",
       "    \n",
       "        &lt;script&gt;\n",
       "            L_NO_TOUCH = false;\n",
       "            L_DISABLE_3D = false;\n",
       "        &lt;/script&gt;\n",
       "    \n",
       "    &lt;style&gt;html, body {width: 100%;height: 100%;margin: 0;padding: 0;}&lt;/style&gt;\n",
       "    &lt;style&gt;#map {position:absolute;top:0;bottom:0;right:0;left:0;}&lt;/style&gt;\n",
       "    &lt;script src=&quot;https://cdn.jsdelivr.net/npm/leaflet@1.9.3/dist/leaflet.js&quot;&gt;&lt;/script&gt;\n",
       "    &lt;script src=&quot;https://code.jquery.com/jquery-3.7.1.min.js&quot;&gt;&lt;/script&gt;\n",
       "    &lt;script src=&quot;https://cdn.jsdelivr.net/npm/bootstrap@5.2.2/dist/js/bootstrap.bundle.min.js&quot;&gt;&lt;/script&gt;\n",
       "    &lt;script src=&quot;https://cdnjs.cloudflare.com/ajax/libs/Leaflet.awesome-markers/2.0.2/leaflet.awesome-markers.js&quot;&gt;&lt;/script&gt;\n",
       "    &lt;link rel=&quot;stylesheet&quot; href=&quot;https://cdn.jsdelivr.net/npm/leaflet@1.9.3/dist/leaflet.css&quot;/&gt;\n",
       "    &lt;link rel=&quot;stylesheet&quot; href=&quot;https://cdn.jsdelivr.net/npm/bootstrap@5.2.2/dist/css/bootstrap.min.css&quot;/&gt;\n",
       "    &lt;link rel=&quot;stylesheet&quot; href=&quot;https://netdna.bootstrapcdn.com/bootstrap/3.0.0/css/bootstrap-glyphicons.css&quot;/&gt;\n",
       "    &lt;link rel=&quot;stylesheet&quot; href=&quot;https://cdn.jsdelivr.net/npm/@fortawesome/fontawesome-free@6.2.0/css/all.min.css&quot;/&gt;\n",
       "    &lt;link rel=&quot;stylesheet&quot; href=&quot;https://cdnjs.cloudflare.com/ajax/libs/Leaflet.awesome-markers/2.0.2/leaflet.awesome-markers.css&quot;/&gt;\n",
       "    &lt;link rel=&quot;stylesheet&quot; href=&quot;https://cdn.jsdelivr.net/gh/python-visualization/folium/folium/templates/leaflet.awesome.rotate.min.css&quot;/&gt;\n",
       "    \n",
       "            &lt;meta name=&quot;viewport&quot; content=&quot;width=device-width,\n",
       "                initial-scale=1.0, maximum-scale=1.0, user-scalable=no&quot; /&gt;\n",
       "            &lt;style&gt;\n",
       "                #map_d89e2588a29dd785796b47f226838e18 {\n",
       "                    position: relative;\n",
       "                    width: 100.0%;\n",
       "                    height: 100.0%;\n",
       "                    left: 0.0%;\n",
       "                    top: 0.0%;\n",
       "                }\n",
       "                .leaflet-container { font-size: 1rem; }\n",
       "            &lt;/style&gt;\n",
       "        \n",
       "    &lt;script src=&quot;https://cdn.jsdelivr.net/gh/python-visualization/folium@main/folium/templates/leaflet_heat.min.js&quot;&gt;&lt;/script&gt;\n",
       "&lt;/head&gt;\n",
       "&lt;body&gt;\n",
       "    \n",
       "    \n",
       "            &lt;div class=&quot;folium-map&quot; id=&quot;map_d89e2588a29dd785796b47f226838e18&quot; &gt;&lt;/div&gt;\n",
       "        \n",
       "&lt;/body&gt;\n",
       "&lt;script&gt;\n",
       "    \n",
       "    \n",
       "            var map_d89e2588a29dd785796b47f226838e18 = L.map(\n",
       "                &quot;map_d89e2588a29dd785796b47f226838e18&quot;,\n",
       "                {\n",
       "                    center: [4.5709, -74.2973],\n",
       "                    crs: L.CRS.EPSG3857,\n",
       "                    ...{\n",
       "  &quot;zoom&quot;: 6,\n",
       "  &quot;zoomControl&quot;: true,\n",
       "  &quot;preferCanvas&quot;: false,\n",
       "}\n",
       "\n",
       "                }\n",
       "            );\n",
       "\n",
       "            \n",
       "\n",
       "        \n",
       "    \n",
       "            var tile_layer_1adbff93bb68c51b63071dad8b8198ed = L.tileLayer(\n",
       "                &quot;https://tile.openstreetmap.org/{z}/{x}/{y}.png&quot;,\n",
       "                {\n",
       "  &quot;minZoom&quot;: 0,\n",
       "  &quot;maxZoom&quot;: 19,\n",
       "  &quot;maxNativeZoom&quot;: 19,\n",
       "  &quot;noWrap&quot;: false,\n",
       "  &quot;attribution&quot;: &quot;\\u0026copy; \\u003ca href=\\&quot;https://www.openstreetmap.org/copyright\\&quot;\\u003eOpenStreetMap\\u003c/a\\u003e contributors&quot;,\n",
       "  &quot;subdomains&quot;: &quot;abc&quot;,\n",
       "  &quot;detectRetina&quot;: false,\n",
       "  &quot;tms&quot;: false,\n",
       "  &quot;opacity&quot;: 1,\n",
       "}\n",
       "\n",
       "            );\n",
       "        \n",
       "    \n",
       "            tile_layer_1adbff93bb68c51b63071dad8b8198ed.addTo(map_d89e2588a29dd785796b47f226838e18);\n",
       "        \n",
       "    \n",
       "            var heat_map_033baceed4bc50fefc6be474bdfd2c8f = L.heatLayer(\n",
       "                [[0.435951, -75.52767, 0.8571428571428572], [0.869892, -73.841906, 1.8571428571428572], [0.872582, -75.619733, -0.1428571428571428], [1.03033, -76.61475, -0.1428571428571428], [1.03405, -75.91928, -0.1428571428571428], [1.10091, -75.40091, -0.1428571428571428], [1.14661, -76.64812, 0.8571428571428572], [1.28978, -75.50634, -0.1428571428571428], [1.47888, -75.43724, 0.8571428571428572], [1.527288, -75.482252, -0.1428571428571428], [1.61456, -75.6053, -0.1428571428571428], [1.637898, -77.745208, -0.1428571428571428], [1.804883, -75.89077, 0.8571428571428572], [1.869644, -77.370433, -0.1428571428571428], [1.9137, -76.85494, -0.1428571428571428], [1.95846, -72.65231, -0.1428571428571428], [1.97449, -75.93196, -0.1428571428571428], [2.0376, -76.92505, 0.8571428571428572], [2.03955, -77.21702, -0.1428571428571428], [2.064722, -75.5275, -0.1428571428571428], [2.083371, -78.616639, -0.1428571428571428], [2.116667, -74.766667, -0.1428571428571428], [2.243589, -77.010385, 3.8571428571428568], [2.3889, -75.89255, -0.1428571428571428], [2.51379, -76.38945, -0.1428571428571428], [2.535935, -75.52767, 2.857142857142857], [2.56426, -72.637985, -0.1428571428571428], [2.566401, -75.924953, -0.1428571428571428], [2.64934, -75.636802, -0.1428571428571428], [2.85, -76.316667, -0.1428571428571428], [2.95485, -76.26825, -0.1428571428571428], [3.037993, -76.408973, -0.1428571428571428], [3.173882, -76.259454, -0.1428571428571428], [3.173889, -76.259444, -0.1428571428571428], [3.194857, -75.645906, -0.1428571428571428], [3.228717, -76.419306, -0.1428571428571428], [3.24114, -74.35539, 0.8571428571428572], [3.261744, -76.540844, -0.1428571428571428], [3.27199, -73.087749, 1.8571428571428572], [3.41866, -76.24198, -0.1428571428571428], [3.529901, -76.298006, -0.1428571428571428], [3.69748, -73.69899, 0.8571428571428572], [3.7246, -75.4841, -0.1428571428571428], [3.75, -75.583333, -0.1428571428571428], [3.88182, -77.07042, -0.1428571428571428], [3.91272, -75.47591, -0.1428571428571428], [3.913644, -75.477196, -0.1428571428571428], [3.934847, -74.601414, -0.1428571428571428], [4.04812, -76.41002, -0.1428571428571428], [4.085809, -76.197188, 0.8571428571428572], [4.092517, -75.154538, -0.1428571428571428], [4.15127, -73.63872, 0.8571428571428572], [4.177222, -73.621944, -0.1428571428571428], [4.26889, -75.9361, -0.1428571428571428], [4.423445, -69.287753, 5.857142857142857], [4.667128, -74.106056, 1.8571428571428572], [4.837712, -75.66807, -0.1428571428571428], [4.87411, -74.56226, -0.1428571428571428], [5.026003, -74.030012, 0.8571428571428572], [5.03101, -73.1038, -0.1428571428571428], [5.080683, -74.486998, -0.1428571428571428], [5.167413, -75.978809, -0.1428571428571428], [5.20115, -75.868, -0.1428571428571428], [5.252803, -76.825965, -0.1428571428571428], [5.26541, -76.55651, -0.1428571428571428], [5.373493, -72.392464, -0.1428571428571428], [5.382179, -71.033434, -0.1428571428571428], [5.45394, -73.36205, -0.1428571428571428], [5.459444, -74.338056, 0.8571428571428572], [5.52273, -74.18066, -0.1428571428571428], [5.615262, -75.624692, 0.8571428571428572], [5.65663, -73.97893, -0.1428571428571428], [5.70905, -75.31102, -0.1428571428571428], [5.724759, -73.608546, -0.1428571428571428], [5.758927, -71.572395, 0.8571428571428572], [5.766311, -74.780244, -0.1428571428571428], [5.779444, -72.797778, -0.1428571428571428], [5.83752, -74.34079, -0.1428571428571428], [5.85936, -73.96559, 2.857142857142857], [5.88054, -71.89239, -0.1428571428571428], [5.963316, -75.978722, -0.1428571428571428], [6.09188, -75.63615, -0.1428571428571428], [6.10134, -73.44277, -0.1428571428571428], [6.153669, -75.37416, -0.1428571428571428], [6.242026, -75.564766, 0.8571428571428572], [6.2675, -75.568611, 3.8571428571428568], [6.270526, -75.572173, -0.1428571428571428], [6.28281, -75.33184, 0.8571428571428572], [6.312171, -70.211937, -0.1428571428571428], [6.313712, -73.950146, 3.8571428571428568], [6.36274, -75.63868, -0.1428571428571428], [6.401883, -72.555799, -0.1428571428571428], [6.44284, -73.3367, -0.1428571428571428], [6.459167, -72.500833, -0.1428571428571428], [6.46052, -71.72989, 2.857142857142857], [6.462828, -75.556394, -0.1428571428571428], [6.538423, -75.087737, 0.8571428571428572], [6.547306, -71.002231, 1.8571428571428572], [6.551944, -74.787222, -0.1428571428571428], [6.643708, -73.653621, 3.8571428571428568], [6.655556, -74.268889, -0.1428571428571428], [6.6752, -74.84211, -0.1428571428571428], [6.755278, -75.488889, -0.1428571428571428], [6.77099, -76.13185, -0.1428571428571428], [6.88105, -73.41157, -0.1428571428571428], [6.90333, -75.6825, -0.1428571428571428], [6.907503, -75.074961, -0.1428571428571428], [6.950833, -71.188056, -0.1428571428571428], [6.97057, -70.59832, -0.1428571428571428], [6.978951, -75.296249, -0.1428571428571428], [7.027336, -71.428494, -0.1428571428571428], [7.027345, -71.428555, 1.8571428571428572], [7.060051, -73.853115, 1.8571428571428572], [7.07253, -75.44586, -0.1428571428571428], [7.07786, -74.70355, 0.8571428571428572], [7.08071, -74.70101, 0.8571428571428572], [7.116294, -73.120026, 0.8571428571428572], [7.16669, -73.54995, -0.1428571428571428], [7.172043, -75.763873, 0.8571428571428572], [7.198606, -75.341218, -0.1428571428571428], [7.243889, -76.435556, -0.1428571428571428], [7.320393, -75.615235, -0.1428571428571428], [7.38408, -75.68904, -0.1428571428571428], [7.39002, -73.50099, -0.1428571428571428], [7.491752, -74.868183, 0.8571428571428572], [7.594178, -74.811951, -0.1428571428571428], [7.74002, -73.04889, -0.1428571428571428], [7.89014, -75.66967, 0.8571428571428572], [7.933383, -72.600048, -0.1428571428571428], [7.975, -76.008889, -0.1428571428571428], [7.987804, -75.197092, -0.1428571428571428], [8.04928, -73.085536, -0.1428571428571428], [8.083272, -73.224495, -0.1428571428571428], [8.094167, -74.775556, 0.8571428571428572], [8.095106, -76.732407, -0.1428571428571428], [8.173611, -76.059167, -0.1428571428571428], [8.212994, -73.238383, -0.1428571428571428], [8.308585, -73.613541, -0.1428571428571428], [8.402925, -75.899867, 2.857142857142857], [8.511375, -73.446796, 1.8571428571428572], [8.59554, -73.36775, -0.1428571428571428], [8.63781, -72.73464, -0.1428571428571428], [8.673589, -73.040407, -0.1428571428571428], [8.69053, -73.66254, -0.1428571428571428], [8.914836, -74.462156, 0.8571428571428572], [9.142038, -75.061115, -0.1428571428571428], [9.14513, -75.50938, -0.1428571428571428], [9.205278, -74.233611, -0.1428571428571428], [9.337295, -73.653621, -0.1428571428571428], [9.79191, -74.78297, -0.1428571428571428], [9.800379, -74.392536, -0.1428571428571428], [10.08232, -75.13784, -0.1428571428571428], [10.266667, -75.466667, 1.8571428571428572], [10.3879, -73.1698, -0.1428571428571428], [10.832308, -73.667622, 0.8571428571428572], [11.242035, -74.205384, -0.1428571428571428], [11.286866, -73.099449, -0.1428571428571428]],\n",
       "                {\n",
       "  &quot;minOpacity&quot;: 0.5,\n",
       "  &quot;maxZoom&quot;: 18,\n",
       "  &quot;radius&quot;: 25,\n",
       "  &quot;blur&quot;: 15,\n",
       "}\n",
       "            );\n",
       "        \n",
       "    \n",
       "            heat_map_033baceed4bc50fefc6be474bdfd2c8f.addTo(map_d89e2588a29dd785796b47f226838e18);\n",
       "        \n",
       "    \n",
       "            tile_layer_1adbff93bb68c51b63071dad8b8198ed.addTo(map_d89e2588a29dd785796b47f226838e18);\n",
       "        \n",
       "    \n",
       "            heat_map_033baceed4bc50fefc6be474bdfd2c8f.addTo(map_d89e2588a29dd785796b47f226838e18);\n",
       "        \n",
       "&lt;/script&gt;\n",
       "&lt;/html&gt;\" style=\"position:absolute;width:100%;height:100%;left:0;top:0;border:none !important;\" allowfullscreen webkitallowfullscreen mozallowfullscreen></iframe></div></div>"
      ],
      "text/plain": [
       "<folium.folium.Map at 0x2831556c050>"
      ]
     },
     "execution_count": 123,
     "metadata": {},
     "output_type": "execute_result"
    }
   ],
   "source": [
    "my_loc5"
   ]
  },
  {
   "cell_type": "code",
   "execution_count": null,
   "id": "90ef3015-3265-4e09-8c30-8acf314ac5b5",
   "metadata": {},
   "outputs": [],
   "source": []
  }
 ],
 "metadata": {
  "kernelspec": {
   "display_name": "Python 3 (ipykernel)",
   "language": "python",
   "name": "python3"
  },
  "language_info": {
   "codemirror_mode": {
    "name": "ipython",
    "version": 3
   },
   "file_extension": ".py",
   "mimetype": "text/x-python",
   "name": "python",
   "nbconvert_exporter": "python",
   "pygments_lexer": "ipython3",
   "version": "3.13.1"
  }
 },
 "nbformat": 4,
 "nbformat_minor": 5
}
