{
 "cells": [
  {
   "cell_type": "code",
   "execution_count": 1,
   "id": "64cee1e9-7384-4dbf-9919-7db6579a3bbb",
   "metadata": {},
   "outputs": [
    {
     "name": "stdout",
     "output_type": "stream",
     "text": [
      "Requirement already satisfied: scipy in c:\\users\\admin\\appdata\\local\\programs\\python\\python313\\lib\\site-packages (1.15.2)\n",
      "Requirement already satisfied: numpy<2.5,>=1.23.5 in c:\\users\\admin\\appdata\\local\\programs\\python\\python313\\lib\\site-packages (from scipy) (2.2.2)\n",
      "Note: you may need to restart the kernel to use updated packages.\n"
     ]
    },
    {
     "name": "stderr",
     "output_type": "stream",
     "text": [
      "\n",
      "[notice] A new release of pip is available: 24.3.1 -> 25.0.1\n",
      "[notice] To update, run: python.exe -m pip install --upgrade pip\n"
     ]
    }
   ],
   "source": [
    "pip install scipy"
   ]
  },
  {
   "cell_type": "markdown",
   "id": "e3eb1f00-4bdd-4c69-b5cc-8e34b9e55494",
   "metadata": {},
   "source": [
    "<H1>UK ROAD ACCIDENT DATA ANALYSYS</H1>\n",
    "<h2>INCLUSIVE YEAR 2019-2022</h2>\n",
    "<h3>Analyst: Richie M. Alcantara</h3>"
   ]
  },
  {
   "cell_type": "markdown",
   "id": "99042f57-e9a8-413b-85c0-595be9c8bb47",
   "metadata": {},
   "source": [
    "<h1>DATA PREPARATION</h1>"
   ]
  },
  {
   "cell_type": "markdown",
   "id": "7a6c49fc-87e6-4f9d-8a24-18dfda8d8964",
   "metadata": {},
   "source": [
    "<h1>Importing Libraries</h1>"
   ]
  },
  {
   "cell_type": "code",
   "execution_count": 2,
   "id": "f5571c13-bd3c-4e8c-a1b5-8161318eb0e8",
   "metadata": {},
   "outputs": [],
   "source": [
    "import pandas as pd\n",
    "import numpy as np\n",
    "import seaborn as sns\n",
    "import matplotlib.pyplot as plt\n",
    "from scipy.stats import f_oneway"
   ]
  },
  {
   "cell_type": "code",
   "execution_count": 3,
   "id": "5a3f3519-745a-4b38-9e1a-0ea9bedec4c1",
   "metadata": {},
   "outputs": [],
   "source": [
    "accident = pd.read_csv('datasets\\\\accident_data.csv')"
   ]
  },
  {
   "cell_type": "code",
   "execution_count": 4,
   "id": "2c19533d-7e3b-4645-9ab7-f322ca06e542",
   "metadata": {},
   "outputs": [
    {
     "data": {
      "text/html": [
       "<div>\n",
       "<style scoped>\n",
       "    .dataframe tbody tr th:only-of-type {\n",
       "        vertical-align: middle;\n",
       "    }\n",
       "\n",
       "    .dataframe tbody tr th {\n",
       "        vertical-align: top;\n",
       "    }\n",
       "\n",
       "    .dataframe thead th {\n",
       "        text-align: right;\n",
       "    }\n",
       "</style>\n",
       "<table border=\"1\" class=\"dataframe\">\n",
       "  <thead>\n",
       "    <tr style=\"text-align: right;\">\n",
       "      <th></th>\n",
       "      <th>Latitude</th>\n",
       "      <th>Longitude</th>\n",
       "      <th>Number_of_Casualties</th>\n",
       "      <th>Number_of_Vehicles</th>\n",
       "    </tr>\n",
       "  </thead>\n",
       "  <tbody>\n",
       "    <tr>\n",
       "      <th>count</th>\n",
       "      <td>660654.000000</td>\n",
       "      <td>660653.000000</td>\n",
       "      <td>660679.000000</td>\n",
       "      <td>660679.000000</td>\n",
       "    </tr>\n",
       "    <tr>\n",
       "      <th>mean</th>\n",
       "      <td>52.553866</td>\n",
       "      <td>-1.431210</td>\n",
       "      <td>1.357040</td>\n",
       "      <td>1.831255</td>\n",
       "    </tr>\n",
       "    <tr>\n",
       "      <th>std</th>\n",
       "      <td>1.406922</td>\n",
       "      <td>1.383330</td>\n",
       "      <td>0.824847</td>\n",
       "      <td>0.715269</td>\n",
       "    </tr>\n",
       "    <tr>\n",
       "      <th>min</th>\n",
       "      <td>49.914430</td>\n",
       "      <td>-7.516225</td>\n",
       "      <td>1.000000</td>\n",
       "      <td>1.000000</td>\n",
       "    </tr>\n",
       "    <tr>\n",
       "      <th>25%</th>\n",
       "      <td>51.490690</td>\n",
       "      <td>-2.332291</td>\n",
       "      <td>1.000000</td>\n",
       "      <td>1.000000</td>\n",
       "    </tr>\n",
       "    <tr>\n",
       "      <th>50%</th>\n",
       "      <td>52.315641</td>\n",
       "      <td>-1.411667</td>\n",
       "      <td>1.000000</td>\n",
       "      <td>2.000000</td>\n",
       "    </tr>\n",
       "    <tr>\n",
       "      <th>75%</th>\n",
       "      <td>53.453452</td>\n",
       "      <td>-0.232869</td>\n",
       "      <td>1.000000</td>\n",
       "      <td>2.000000</td>\n",
       "    </tr>\n",
       "    <tr>\n",
       "      <th>max</th>\n",
       "      <td>60.757544</td>\n",
       "      <td>1.762010</td>\n",
       "      <td>68.000000</td>\n",
       "      <td>32.000000</td>\n",
       "    </tr>\n",
       "  </tbody>\n",
       "</table>\n",
       "</div>"
      ],
      "text/plain": [
       "            Latitude      Longitude  Number_of_Casualties  Number_of_Vehicles\n",
       "count  660654.000000  660653.000000         660679.000000       660679.000000\n",
       "mean       52.553866      -1.431210              1.357040            1.831255\n",
       "std         1.406922       1.383330              0.824847            0.715269\n",
       "min        49.914430      -7.516225              1.000000            1.000000\n",
       "25%        51.490690      -2.332291              1.000000            1.000000\n",
       "50%        52.315641      -1.411667              1.000000            2.000000\n",
       "75%        53.453452      -0.232869              1.000000            2.000000\n",
       "max        60.757544       1.762010             68.000000           32.000000"
      ]
     },
     "execution_count": 4,
     "metadata": {},
     "output_type": "execute_result"
    }
   ],
   "source": [
    "accident.describe()"
   ]
  },
  {
   "cell_type": "code",
   "execution_count": 5,
   "id": "cae864d9-73ba-410c-b939-197194eeb66f",
   "metadata": {},
   "outputs": [
    {
     "name": "stdout",
     "output_type": "stream",
     "text": [
      "<class 'pandas.core.frame.DataFrame'>\n",
      "RangeIndex: 660679 entries, 0 to 660678\n",
      "Data columns (total 14 columns):\n",
      " #   Column                   Non-Null Count   Dtype  \n",
      "---  ------                   --------------   -----  \n",
      " 0   Index                    660679 non-null  object \n",
      " 1   Accident_Severity        660679 non-null  object \n",
      " 2   Accident Date            660679 non-null  object \n",
      " 3   Latitude                 660654 non-null  float64\n",
      " 4   Light_Conditions         660679 non-null  object \n",
      " 5   District Area            660679 non-null  object \n",
      " 6   Longitude                660653 non-null  float64\n",
      " 7   Number_of_Casualties     660679 non-null  int64  \n",
      " 8   Number_of_Vehicles       660679 non-null  int64  \n",
      " 9   Road_Surface_Conditions  659953 non-null  object \n",
      " 10  Road_Type                656159 non-null  object \n",
      " 11  Urban_or_Rural_Area      660664 non-null  object \n",
      " 12  Weather_Conditions       646551 non-null  object \n",
      " 13  Vehicle_Type             660679 non-null  object \n",
      "dtypes: float64(2), int64(2), object(10)\n",
      "memory usage: 70.6+ MB\n"
     ]
    }
   ],
   "source": [
    "accident.info()"
   ]
  },
  {
   "cell_type": "code",
   "execution_count": 6,
   "id": "efeb555e-40f6-4e89-af19-3ab3d4f3bebf",
   "metadata": {},
   "outputs": [],
   "source": [
    "accident['Accident Date'] = pd.to_datetime(accident['Accident Date'],dayfirst=True,errors = 'coerce')"
   ]
  },
  {
   "cell_type": "code",
   "execution_count": 7,
   "id": "874ed2ba-9a8a-4855-b3fb-1eafef2271ad",
   "metadata": {},
   "outputs": [],
   "source": [
    "accident['Accident_Severity'] = accident['Accident_Severity'].astype('category')"
   ]
  },
  {
   "cell_type": "code",
   "execution_count": 8,
   "id": "b59404da-1747-43c5-8651-b8c752bd3538",
   "metadata": {},
   "outputs": [],
   "source": [
    "accident['Light_Conditions'] = accident['Light_Conditions'].astype('category')"
   ]
  },
  {
   "cell_type": "code",
   "execution_count": 9,
   "id": "a4f24a24-9470-4ccc-99ac-940607d248bd",
   "metadata": {},
   "outputs": [],
   "source": [
    "accident['District Area'] = accident['District Area'].astype('category')"
   ]
  },
  {
   "cell_type": "code",
   "execution_count": 10,
   "id": "4c3102d7-182e-49bc-bd6f-d3c4c5fc4ad4",
   "metadata": {},
   "outputs": [],
   "source": [
    "accident['Road_Surface_Conditions'] = accident['Road_Surface_Conditions'].astype('category')"
   ]
  },
  {
   "cell_type": "code",
   "execution_count": 11,
   "id": "9ba36256-d091-45ae-ae0c-df86e40274ce",
   "metadata": {},
   "outputs": [],
   "source": [
    "accident['Road_Type'] = accident['Road_Type'].astype('category')"
   ]
  },
  {
   "cell_type": "code",
   "execution_count": 12,
   "id": "4378ec0a-34cc-49cc-b530-c28c417ebe7a",
   "metadata": {},
   "outputs": [],
   "source": [
    "accident['Urban_or_Rural_Area'] = accident['Urban_or_Rural_Area'].astype('category')"
   ]
  },
  {
   "cell_type": "code",
   "execution_count": 13,
   "id": "5d1a557c-b17f-4c56-b2ff-7b4c3b5b9350",
   "metadata": {},
   "outputs": [],
   "source": [
    "accident['Weather_Conditions'] = accident['Weather_Conditions'].astype('category')"
   ]
  },
  {
   "cell_type": "code",
   "execution_count": 14,
   "id": "204e7853-40d0-4f94-b5a5-665b7feddb1d",
   "metadata": {},
   "outputs": [],
   "source": [
    "accident['Vehicle_Type'] = accident['Vehicle_Type'].astype('category')"
   ]
  },
  {
   "cell_type": "code",
   "execution_count": 15,
   "id": "2d4e4eb1-ff7f-4ab6-945f-869a02fab36d",
   "metadata": {},
   "outputs": [
    {
     "data": {
      "text/plain": [
       "Index                              object\n",
       "Accident_Severity                category\n",
       "Accident Date              datetime64[ns]\n",
       "Latitude                          float64\n",
       "Light_Conditions                 category\n",
       "District Area                    category\n",
       "Longitude                         float64\n",
       "Number_of_Casualties                int64\n",
       "Number_of_Vehicles                  int64\n",
       "Road_Surface_Conditions          category\n",
       "Road_Type                        category\n",
       "Urban_or_Rural_Area              category\n",
       "Weather_Conditions               category\n",
       "Vehicle_Type                     category\n",
       "dtype: object"
      ]
     },
     "execution_count": 15,
     "metadata": {},
     "output_type": "execute_result"
    }
   ],
   "source": [
    "accident.dtypes"
   ]
  },
  {
   "cell_type": "code",
   "execution_count": 16,
   "id": "48b268d7-6e22-4f54-959f-04396654684e",
   "metadata": {},
   "outputs": [
    {
     "data": {
      "text/plain": [
       "Index                           0\n",
       "Accident_Severity               0\n",
       "Accident Date              395672\n",
       "Latitude                       25\n",
       "Light_Conditions                0\n",
       "District Area                   0\n",
       "Longitude                      26\n",
       "Number_of_Casualties            0\n",
       "Number_of_Vehicles              0\n",
       "Road_Surface_Conditions       726\n",
       "Road_Type                    4520\n",
       "Urban_or_Rural_Area            15\n",
       "Weather_Conditions          14128\n",
       "Vehicle_Type                    0\n",
       "dtype: int64"
      ]
     },
     "execution_count": 16,
     "metadata": {},
     "output_type": "execute_result"
    }
   ],
   "source": [
    "accident.isnull().sum()"
   ]
  },
  {
   "cell_type": "code",
   "execution_count": 17,
   "id": "14e9dc6f-1402-4b00-8537-c6b23e6b1210",
   "metadata": {},
   "outputs": [],
   "source": [
    "accident['Latitude'] = accident['Latitude'].fillna(accident['Latitude'].mean())"
   ]
  },
  {
   "cell_type": "code",
   "execution_count": 18,
   "id": "ac3d8a03-8e61-49c1-ad06-1226f6c40aa3",
   "metadata": {},
   "outputs": [],
   "source": [
    "accident['Longitude'] = accident['Longitude'].fillna(accident['Longitude'].mean())"
   ]
  },
  {
   "cell_type": "code",
   "execution_count": 19,
   "id": "7603be2e-3869-43fb-90dd-0e0d75ae0aaa",
   "metadata": {},
   "outputs": [],
   "source": [
    "accident['Road_Surface_Conditions'] = accident['Road_Surface_Conditions'].fillna(accident['Road_Surface_Conditions'].mode()[0])"
   ]
  },
  {
   "cell_type": "code",
   "execution_count": 20,
   "id": "f36698be-5aab-44d3-a18c-c32f98c94335",
   "metadata": {},
   "outputs": [],
   "source": [
    "accident['Road_Type'] = accident['Road_Type'].fillna(accident['Road_Type'].mode()[0])"
   ]
  },
  {
   "cell_type": "code",
   "execution_count": 21,
   "id": "8afa309c-fb22-43ce-916a-343556d0911d",
   "metadata": {},
   "outputs": [],
   "source": [
    "accident['Urban_or_Rural_Area'] = accident['Urban_or_Rural_Area'].fillna(accident['Urban_or_Rural_Area'].mode()[0])"
   ]
  },
  {
   "cell_type": "code",
   "execution_count": 22,
   "id": "74f23267-b144-4856-bdf5-ae0f515fcf16",
   "metadata": {},
   "outputs": [
    {
     "data": {
      "text/plain": [
       "Index                           0\n",
       "Accident_Severity               0\n",
       "Accident Date              395672\n",
       "Latitude                        0\n",
       "Light_Conditions                0\n",
       "District Area                   0\n",
       "Longitude                       0\n",
       "Number_of_Casualties            0\n",
       "Number_of_Vehicles              0\n",
       "Road_Surface_Conditions         0\n",
       "Road_Type                       0\n",
       "Urban_or_Rural_Area             0\n",
       "Weather_Conditions          14128\n",
       "Vehicle_Type                    0\n",
       "dtype: int64"
      ]
     },
     "execution_count": 22,
     "metadata": {},
     "output_type": "execute_result"
    }
   ],
   "source": [
    "accident.isnull().sum()"
   ]
  },
  {
   "cell_type": "markdown",
   "id": "c34ed5e4-c295-4d9a-974b-bfe3204460fa",
   "metadata": {},
   "source": [
    "<H1>Insights</H1>"
   ]
  },
  {
   "cell_type": "markdown",
   "id": "52030276-aa2c-42db-b71d-df18c52ccfa8",
   "metadata": {},
   "source": [
    "<H1>1. Accident mostly happens in Single Carriageway Road Type</H1>"
   ]
  },
  {
   "cell_type": "code",
   "execution_count": 23,
   "id": "b39644a0-b58c-4102-be8e-5bac0af5a4c4",
   "metadata": {},
   "outputs": [
    {
     "data": {
      "text/plain": [
       "Road_Type\n",
       "Single carriageway    496663\n",
       "Dual carriageway       99424\n",
       "Roundabout             43992\n",
       "One way street         13559\n",
       "Slip road               7041\n",
       "Name: count, dtype: int64"
      ]
     },
     "execution_count": 23,
     "metadata": {},
     "output_type": "execute_result"
    }
   ],
   "source": [
    "accident['Road_Type'].value_counts()"
   ]
  },
  {
   "cell_type": "markdown",
   "id": "55033228-ec53-43cd-aa5e-2bc290710997",
   "metadata": {},
   "source": [
    "<H1>2. Most of the accidents happen in a Dry surface road condition</H1>"
   ]
  },
  {
   "cell_type": "code",
   "execution_count": 24,
   "id": "d80c2180-1550-425a-b2fd-2becebf23f12",
   "metadata": {},
   "outputs": [
    {
     "data": {
      "text/plain": [
       "Road_Surface_Conditions\n",
       "Dry                     448547\n",
       "Wet or damp             186708\n",
       "Frost or ice             18517\n",
       "Snow                      5890\n",
       "Flood over 3cm. deep      1017\n",
       "Name: count, dtype: int64"
      ]
     },
     "execution_count": 24,
     "metadata": {},
     "output_type": "execute_result"
    }
   ],
   "source": [
    "accident['Road_Surface_Conditions'].value_counts()"
   ]
  },
  {
   "cell_type": "markdown",
   "id": "acf5f432-4a2b-47ab-86df-fa4dfafd0e88",
   "metadata": {},
   "source": [
    "<H1>3. The maximum number of Casualties happened in a Single Carriageway with Daylight Light condition with total number of 486942 </H1>"
   ]
  },
  {
   "cell_type": "code",
   "execution_count": 25,
   "id": "3986b5bf-9467-4268-9326-87ee3aa41dd3",
   "metadata": {},
   "outputs": [
    {
     "name": "stderr",
     "output_type": "stream",
     "text": [
      "C:\\Users\\admin\\AppData\\Local\\Temp\\ipykernel_11436\\1836345337.py:1: FutureWarning: The default of observed=False is deprecated and will be changed to True in a future version of pandas. Pass observed=False to retain current behavior or observed=True to adopt the future default and silence this warning.\n",
      "  accident.groupby(['Road_Type','Light_Conditions'])['Number_of_Casualties'].sum()\n"
     ]
    },
    {
     "data": {
      "text/plain": [
       "Road_Type           Light_Conditions           \n",
       "Dual carriageway    Darkness - lighting unknown      1261\n",
       "                    Darkness - lights lit           30247\n",
       "                    Darkness - lights unlit           669\n",
       "                    Darkness - no lighting          11779\n",
       "                    Daylight                       102921\n",
       "One way street      Darkness - lighting unknown       148\n",
       "                    Darkness - lights lit            4072\n",
       "                    Darkness - lights unlit            68\n",
       "                    Darkness - no lighting            152\n",
       "                    Daylight                        11732\n",
       "Roundabout          Darkness - lighting unknown       590\n",
       "                    Darkness - lights lit           13986\n",
       "                    Darkness - lights unlit           242\n",
       "                    Darkness - no lighting            293\n",
       "                    Daylight                        40974\n",
       "Single carriageway  Darkness - lighting unknown      6356\n",
       "                    Darkness - lights lit          126843\n",
       "                    Darkness - lights unlit          2366\n",
       "                    Darkness - no lighting          44903\n",
       "                    Daylight                       486942\n",
       "Slip road           Darkness - lighting unknown       116\n",
       "                    Darkness - lights lit            1960\n",
       "                    Darkness - lights unlit            40\n",
       "                    Darkness - no lighting            588\n",
       "                    Daylight                         7320\n",
       "Name: Number_of_Casualties, dtype: int64"
      ]
     },
     "execution_count": 25,
     "metadata": {},
     "output_type": "execute_result"
    }
   ],
   "source": [
    "accident.groupby(['Road_Type','Light_Conditions'])['Number_of_Casualties'].sum()"
   ]
  },
  {
   "cell_type": "markdown",
   "id": "24902f6b-7605-479a-9fd2-d13e15240573",
   "metadata": {},
   "source": [
    "<H1>4. Birmingham has the highest number of accidents among the Distict Area</H1>"
   ]
  },
  {
   "cell_type": "markdown",
   "id": "889814b9-0e29-44ef-a3e5-bdd4be9cb641",
   "metadata": {},
   "source": [
    "<H1>5. Meanwhile Clackmannanshire has the lowest number of accidents among the Distict Area</H1>"
   ]
  },
  {
   "cell_type": "code",
   "execution_count": 26,
   "id": "3dc12be5-6c8a-4fc4-a8f8-510df520dbe1",
   "metadata": {},
   "outputs": [
    {
     "data": {
      "text/plain": [
       "District Area\n",
       "Birmingham            13491\n",
       "Leeds                  8898\n",
       "Manchester             6720\n",
       "Bradford               6212\n",
       "Sheffield              5710\n",
       "                      ...  \n",
       "Berwick-upon-Tweed      153\n",
       "Teesdale                142\n",
       "Shetland Islands        133\n",
       "Orkney Islands          117\n",
       "Clackmannanshire         91\n",
       "Name: count, Length: 422, dtype: int64"
      ]
     },
     "execution_count": 26,
     "metadata": {},
     "output_type": "execute_result"
    }
   ],
   "source": [
    "accident['District Area'].value_counts()"
   ]
  },
  {
   "cell_type": "markdown",
   "id": "e0afe53f-16b6-4fe6-86a9-ddb0363a1c4b",
   "metadata": {},
   "source": [
    "<H1>6. The highest number of Vehicle is 671229 that happens in a Single Carriageway Road Type with Daylight Light Condition </H1>"
   ]
  },
  {
   "cell_type": "code",
   "execution_count": 27,
   "id": "9981ef3f-93f4-4e6d-862b-0195cccf10ec",
   "metadata": {},
   "outputs": [
    {
     "name": "stderr",
     "output_type": "stream",
     "text": [
      "C:\\Users\\admin\\AppData\\Local\\Temp\\ipykernel_11436\\1432684301.py:1: FutureWarning: The default of observed=False is deprecated and will be changed to True in a future version of pandas. Pass observed=False to retain current behavior or observed=True to adopt the future default and silence this warning.\n",
      "  accident.groupby(['Road_Type','Light_Conditions'])['Number_of_Vehicles'].sum()\n"
     ]
    },
    {
     "data": {
      "text/plain": [
       "Road_Type           Light_Conditions           \n",
       "Dual carriageway    Darkness - lighting unknown      1776\n",
       "                    Darkness - lights lit           38395\n",
       "                    Darkness - lights unlit           876\n",
       "                    Darkness - no lighting          14663\n",
       "                    Daylight                       144109\n",
       "One way street      Darkness - lighting unknown       186\n",
       "                    Darkness - lights lit            5129\n",
       "                    Darkness - lights unlit            90\n",
       "                    Darkness - no lighting            138\n",
       "                    Daylight                        15954\n",
       "Roundabout          Darkness - lighting unknown       869\n",
       "                    Darkness - lights lit           19082\n",
       "                    Darkness - lights unlit           341\n",
       "                    Darkness - no lighting            394\n",
       "                    Daylight                        62957\n",
       "Single carriageway  Darkness - lighting unknown      8405\n",
       "                    Darkness - lights lit          164617\n",
       "                    Darkness - lights unlit          3091\n",
       "                    Darkness - no lighting          44070\n",
       "                    Daylight                       671229\n",
       "Slip road           Darkness - lighting unknown       166\n",
       "                    Darkness - lights lit            2411\n",
       "                    Darkness - lights unlit            59\n",
       "                    Darkness - no lighting            626\n",
       "                    Daylight                        10239\n",
       "Name: Number_of_Vehicles, dtype: int64"
      ]
     },
     "execution_count": 27,
     "metadata": {},
     "output_type": "execute_result"
    }
   ],
   "source": [
    "accident.groupby(['Road_Type','Light_Conditions'])['Number_of_Vehicles'].sum()"
   ]
  },
  {
   "cell_type": "markdown",
   "id": "4e0e6aa4-b55b-4ae9-b650-61adf81da737",
   "metadata": {},
   "source": [
    "<h1>7.Most of the accidents are classified as slight severe with total number of 381049 in Dry Road Surface Condition</h1>"
   ]
  },
  {
   "cell_type": "code",
   "execution_count": null,
   "id": "f222b5fb-600a-49f3-be49-a6ba639f4145",
   "metadata": {},
   "outputs": [],
   "source": [
    "sev_con = accident.groupby(['Road_Surface_Conditions','Accident_Severity']).sum()"
   ]
  },
  {
   "cell_type": "code",
   "execution_count": null,
   "id": "38d38ba6-d546-4520-b064-1d392d196a83",
   "metadata": {},
   "outputs": [],
   "source": [
    "sev_con"
   ]
  },
  {
   "cell_type": "markdown",
   "id": "1f92dd10-d6ce-4b25-be0f-25cb41381178",
   "metadata": {},
   "source": [
    "<h1>8. The Vehicle Type that has the highest number of casualty on either Urban or Rural area is Car followed by Van/Goods 3.5 tonnes mgw or under</h1>"
   ]
  },
  {
   "cell_type": "code",
   "execution_count": null,
   "id": "4ef2473f-f421-4e9c-8955-f1ad38d7c83c",
   "metadata": {},
   "outputs": [],
   "source": [
    "casual = accident.groupby(['Urban_or_Rural_Area','Vehicle_Type'])['Number_of_Casualties'].size()"
   ]
  },
  {
   "cell_type": "code",
   "execution_count": null,
   "id": "989bb4a7-97ee-4cbd-8933-b8746c4adbb5",
   "metadata": {},
   "outputs": [],
   "source": [
    "casual"
   ]
  },
  {
   "cell_type": "code",
   "execution_count": null,
   "id": "9ae83a01-5add-4482-8cfb-b01dd6606fd4",
   "metadata": {},
   "outputs": [],
   "source": [
    "area= accident.groupby(['Accident_Severity'])['Number_of_Casualties'].sum()"
   ]
  },
  {
   "cell_type": "code",
   "execution_count": null,
   "id": "b437edaa-776c-4720-a21b-41c73db9ec9d",
   "metadata": {},
   "outputs": [],
   "source": [
    "area"
   ]
  },
  {
   "cell_type": "markdown",
   "id": "822fe1bc-5393-49df-8a1a-b9012fc3009f",
   "metadata": {},
   "source": [
    "<H1>3. There is no significant correlation between Light Conditions and the Number of Casualties</H1\n",
    "                                                                                                "
   ]
  },
  {
   "cell_type": "code",
   "execution_count": null,
   "id": "e7e6ed21-3beb-45f5-b89e-a19825945105",
   "metadata": {},
   "outputs": [],
   "source": [
    "f_stats,p_value = f_oneway(accident[accident['Light_Conditions'] == 'Daylight']['Number_of_Casualties'],\n",
    "                    accident[accident['Light_Conditions'] == 'Darkness - lights lit']['Number_of_Casualties'],\n",
    "                    accident[accident['Light_Conditions'] == 'Darkness - no lighting']['Number_of_Casualties'],\n",
    "                    accident[accident['Light_Conditions'] == 'Darkness - lighting unknown']['Number_of_Casualties'],\n",
    "                    accident[accident['Light_Conditions'] == 'Darkness - lights unlit']['Number_of_Casualties'])\n",
    "print(p_value)"
   ]
  },
  {
   "cell_type": "markdown",
   "id": "4b9b7d8a-adfe-4da8-86b4-a967774e22b2",
   "metadata": {},
   "source": [
    "<H1>4. The Latitudinal location of the accident has no correlation to the Longitudinal location of the accident</H1>"
   ]
  },
  {
   "cell_type": "code",
   "execution_count": null,
   "id": "4c4add87-d8c7-4596-895e-5c73e84eafd6",
   "metadata": {},
   "outputs": [],
   "source": [
    "lat_long = accident['Latitude'].corr(accident['Longitude'])"
   ]
  },
  {
   "cell_type": "code",
   "execution_count": null,
   "id": "7520f99d-6970-42dd-aa43-fdd35fa50d62",
   "metadata": {},
   "outputs": [],
   "source": [
    "lat_long"
   ]
  },
  {
   "cell_type": "markdown",
   "id": "43d09cdf-9afa-4a07-9613-9ba354780af1",
   "metadata": {},
   "source": [
    "<H1>5. There is no correlation between Latitudinal location of the accident and the Number of Casualties</H1>"
   ]
  },
  {
   "cell_type": "code",
   "execution_count": null,
   "id": "3326d542-b2c5-481f-8ef5-62ccb126fd01",
   "metadata": {},
   "outputs": [],
   "source": [
    "lat_cas = accident['Latitude'].corr(accident['Number_of_Casualties'])"
   ]
  },
  {
   "cell_type": "code",
   "execution_count": null,
   "id": "9b2aba1d-4588-404b-ba4c-4beb02ec945a",
   "metadata": {},
   "outputs": [],
   "source": [
    "lat_cas"
   ]
  },
  {
   "cell_type": "markdown",
   "id": "aee6f3ae-0248-4165-8d3b-9fbe7afd03dd",
   "metadata": {},
   "source": [
    "<H1>6. There is no correlation between Longitudinal location of the accident and the Number of Casualties</H1>"
   ]
  },
  {
   "cell_type": "code",
   "execution_count": null,
   "id": "f1325d21-9cf9-4e8f-807d-c7863e96381f",
   "metadata": {},
   "outputs": [],
   "source": [
    "long_cas = accident['Longitude'].corr(accident['Number_of_Casualties'])"
   ]
  },
  {
   "cell_type": "code",
   "execution_count": null,
   "id": "eb8aa5cf-4baf-4b2e-b889-33fe4e4ba9a7",
   "metadata": {},
   "outputs": [],
   "source": [
    "long_cas"
   ]
  },
  {
   "cell_type": "markdown",
   "id": "6973bd0a-8611-4133-82f2-e0b2e6a2e97a",
   "metadata": {},
   "source": [
    "<H1>7. The Latitudinal Location has no correlation on the Number of Vehicles have been accident</H1>"
   ]
  },
  {
   "cell_type": "code",
   "execution_count": null,
   "id": "52fd8bf5-01d7-4b52-a297-65734fe5574a",
   "metadata": {},
   "outputs": [],
   "source": [
    "lat_veh = accident['Latitude'].corr(accident['Number_of_Vehicles'])"
   ]
  },
  {
   "cell_type": "code",
   "execution_count": null,
   "id": "d25227d9-516a-4377-a30b-8bc36f985ac6",
   "metadata": {},
   "outputs": [],
   "source": [
    "lat_veh"
   ]
  },
  {
   "cell_type": "markdown",
   "id": "d4716633-f04f-4f78-9b3e-9f366df4c421",
   "metadata": {},
   "source": [
    "<H1>8. The Longitudinal Location has no correlation on the Number of Vehicles have been accident</H1>"
   ]
  },
  {
   "cell_type": "code",
   "execution_count": null,
   "id": "20a43f1a-2161-4ac6-998b-f899f466b215",
   "metadata": {},
   "outputs": [],
   "source": [
    "long_veh = accident['Longitude'].corr(accident['Number_of_Vehicles'])"
   ]
  },
  {
   "cell_type": "code",
   "execution_count": null,
   "id": "0ca8cf81-6baf-4c3d-83cb-e414eacb15cb",
   "metadata": {},
   "outputs": [],
   "source": [
    "long_veh"
   ]
  },
  {
   "cell_type": "markdown",
   "id": "a8c634ff-3042-4b9a-8526-f4d2b12299f1",
   "metadata": {},
   "source": [
    "<H1>9. The Number of Vehicles has no correlation on the Number of Casualties</H1>"
   ]
  },
  {
   "cell_type": "code",
   "execution_count": null,
   "id": "4d7bcc9c-c377-4726-8360-512b51f0406d",
   "metadata": {},
   "outputs": [],
   "source": [
    "cas_veh = accident['Number_of_Vehicles'].corr(accident['Number_of_Casualties'])"
   ]
  },
  {
   "cell_type": "code",
   "execution_count": null,
   "id": "a2308e6e-04e4-4960-8e50-49076e27fea0",
   "metadata": {},
   "outputs": [],
   "source": [
    "cas_veh"
   ]
  },
  {
   "cell_type": "code",
   "execution_count": null,
   "id": "c4287a09-6811-4f0f-acdf-c7b2511aabe7",
   "metadata": {},
   "outputs": [],
   "source": []
  }
 ],
 "metadata": {
  "kernelspec": {
   "display_name": "Python 3 (ipykernel)",
   "language": "python",
   "name": "python3"
  },
  "language_info": {
   "codemirror_mode": {
    "name": "ipython",
    "version": 3
   },
   "file_extension": ".py",
   "mimetype": "text/x-python",
   "name": "python",
   "nbconvert_exporter": "python",
   "pygments_lexer": "ipython3",
   "version": "3.13.1"
  }
 },
 "nbformat": 4,
 "nbformat_minor": 5
}
